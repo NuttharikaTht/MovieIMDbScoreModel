{
  "nbformat": 4,
  "nbformat_minor": 0,
  "metadata": {
    "colab": {
      "name": "model.ipynb",
      "provenance": [],
      "collapsed_sections": [],
      "authorship_tag": "ABX9TyNsCea7NVP7xCKn/8s3iQAY",
      "include_colab_link": true
    },
    "kernelspec": {
      "name": "python3",
      "display_name": "Python 3"
    },
    "language_info": {
      "name": "python"
    }
  },
  "cells": [
    {
      "cell_type": "markdown",
      "metadata": {
        "id": "view-in-github",
        "colab_type": "text"
      },
      "source": [
        "<a href=\"https://colab.research.google.com/github/NuttharikaTht/MovieIMDbScoreModel/blob/main/model_backup.ipynb\" target=\"_parent\"><img src=\"https://colab.research.google.com/assets/colab-badge.svg\" alt=\"Open In Colab\"/></a>"
      ]
    },
    {
      "cell_type": "markdown",
      "source": [
        "# Import Library and Dataset"
      ],
      "metadata": {
        "id": "Jw8s-VI8dKvS"
      }
    },
    {
      "cell_type": "code",
      "source": [
        "import tensorflow.keras"
      ],
      "metadata": {
        "id": "wsVqRqRyLzvr"
      },
      "execution_count": 326,
      "outputs": []
    },
    {
      "cell_type": "code",
      "source": [
        "import numpy as np\n",
        "import pandas as pd\n",
        "import matplotlib.pyplot as plt\n",
        "import seaborn as sns\n",
        "from plotnine import *"
      ],
      "metadata": {
        "id": "XPwl2G8IdKhJ"
      },
      "execution_count": 327,
      "outputs": []
    },
    {
      "cell_type": "code",
      "execution_count": 328,
      "metadata": {
        "id": "j9J4vDQzZyz-"
      },
      "outputs": [],
      "source": [
        "df = pd.read_csv(\"./movie_metadata.csv\")"
      ]
    },
    {
      "cell_type": "markdown",
      "source": [
        "# Dataset Checking"
      ],
      "metadata": {
        "id": "BenmRoUwgqxu"
      }
    },
    {
      "cell_type": "code",
      "source": [
        "df.head()"
      ],
      "metadata": {
        "colab": {
          "base_uri": "https://localhost:8080/",
          "height": 334
        },
        "id": "05nT2T5igNmE",
        "outputId": "b7d8082f-89a1-41f5-ceac-aa9ed1aca370"
      },
      "execution_count": 329,
      "outputs": [
        {
          "output_type": "execute_result",
          "data": {
            "text/plain": [
              "   color      director_name  num_critic_for_reviews  duration  \\\n",
              "0  Color      James Cameron                   723.0     178.0   \n",
              "1  Color     Gore Verbinski                   302.0     169.0   \n",
              "2  Color         Sam Mendes                   602.0     148.0   \n",
              "3  Color  Christopher Nolan                   813.0     164.0   \n",
              "4    NaN        Doug Walker                     NaN       NaN   \n",
              "\n",
              "   director_facebook_likes  actor_3_facebook_likes      actor_2_name  \\\n",
              "0                      0.0                   855.0  Joel David Moore   \n",
              "1                    563.0                  1000.0     Orlando Bloom   \n",
              "2                      0.0                   161.0      Rory Kinnear   \n",
              "3                  22000.0                 23000.0    Christian Bale   \n",
              "4                    131.0                     NaN        Rob Walker   \n",
              "\n",
              "   actor_1_facebook_likes        gross                           genres  ...  \\\n",
              "0                  1000.0  760505847.0  Action|Adventure|Fantasy|Sci-Fi  ...   \n",
              "1                 40000.0  309404152.0         Action|Adventure|Fantasy  ...   \n",
              "2                 11000.0  200074175.0        Action|Adventure|Thriller  ...   \n",
              "3                 27000.0  448130642.0                  Action|Thriller  ...   \n",
              "4                   131.0          NaN                      Documentary  ...   \n",
              "\n",
              "  num_user_for_reviews language  country  content_rating       budget  \\\n",
              "0               3054.0  English      USA           PG-13  237000000.0   \n",
              "1               1238.0  English      USA           PG-13  300000000.0   \n",
              "2                994.0  English       UK           PG-13  245000000.0   \n",
              "3               2701.0  English      USA           PG-13  250000000.0   \n",
              "4                  NaN      NaN      NaN             NaN          NaN   \n",
              "\n",
              "   title_year actor_2_facebook_likes imdb_score  aspect_ratio  \\\n",
              "0      2009.0                  936.0        7.9          1.78   \n",
              "1      2007.0                 5000.0        7.1          2.35   \n",
              "2      2015.0                  393.0        6.8          2.35   \n",
              "3      2012.0                23000.0        8.5          2.35   \n",
              "4         NaN                   12.0        7.1           NaN   \n",
              "\n",
              "  movie_facebook_likes  \n",
              "0                33000  \n",
              "1                    0  \n",
              "2                85000  \n",
              "3               164000  \n",
              "4                    0  \n",
              "\n",
              "[5 rows x 28 columns]"
            ],
            "text/html": [
              "\n",
              "  <div id=\"df-0aa4efeb-f7f8-43b9-bc70-5faf8b6081c3\">\n",
              "    <div class=\"colab-df-container\">\n",
              "      <div>\n",
              "<style scoped>\n",
              "    .dataframe tbody tr th:only-of-type {\n",
              "        vertical-align: middle;\n",
              "    }\n",
              "\n",
              "    .dataframe tbody tr th {\n",
              "        vertical-align: top;\n",
              "    }\n",
              "\n",
              "    .dataframe thead th {\n",
              "        text-align: right;\n",
              "    }\n",
              "</style>\n",
              "<table border=\"1\" class=\"dataframe\">\n",
              "  <thead>\n",
              "    <tr style=\"text-align: right;\">\n",
              "      <th></th>\n",
              "      <th>color</th>\n",
              "      <th>director_name</th>\n",
              "      <th>num_critic_for_reviews</th>\n",
              "      <th>duration</th>\n",
              "      <th>director_facebook_likes</th>\n",
              "      <th>actor_3_facebook_likes</th>\n",
              "      <th>actor_2_name</th>\n",
              "      <th>actor_1_facebook_likes</th>\n",
              "      <th>gross</th>\n",
              "      <th>genres</th>\n",
              "      <th>...</th>\n",
              "      <th>num_user_for_reviews</th>\n",
              "      <th>language</th>\n",
              "      <th>country</th>\n",
              "      <th>content_rating</th>\n",
              "      <th>budget</th>\n",
              "      <th>title_year</th>\n",
              "      <th>actor_2_facebook_likes</th>\n",
              "      <th>imdb_score</th>\n",
              "      <th>aspect_ratio</th>\n",
              "      <th>movie_facebook_likes</th>\n",
              "    </tr>\n",
              "  </thead>\n",
              "  <tbody>\n",
              "    <tr>\n",
              "      <th>0</th>\n",
              "      <td>Color</td>\n",
              "      <td>James Cameron</td>\n",
              "      <td>723.0</td>\n",
              "      <td>178.0</td>\n",
              "      <td>0.0</td>\n",
              "      <td>855.0</td>\n",
              "      <td>Joel David Moore</td>\n",
              "      <td>1000.0</td>\n",
              "      <td>760505847.0</td>\n",
              "      <td>Action|Adventure|Fantasy|Sci-Fi</td>\n",
              "      <td>...</td>\n",
              "      <td>3054.0</td>\n",
              "      <td>English</td>\n",
              "      <td>USA</td>\n",
              "      <td>PG-13</td>\n",
              "      <td>237000000.0</td>\n",
              "      <td>2009.0</td>\n",
              "      <td>936.0</td>\n",
              "      <td>7.9</td>\n",
              "      <td>1.78</td>\n",
              "      <td>33000</td>\n",
              "    </tr>\n",
              "    <tr>\n",
              "      <th>1</th>\n",
              "      <td>Color</td>\n",
              "      <td>Gore Verbinski</td>\n",
              "      <td>302.0</td>\n",
              "      <td>169.0</td>\n",
              "      <td>563.0</td>\n",
              "      <td>1000.0</td>\n",
              "      <td>Orlando Bloom</td>\n",
              "      <td>40000.0</td>\n",
              "      <td>309404152.0</td>\n",
              "      <td>Action|Adventure|Fantasy</td>\n",
              "      <td>...</td>\n",
              "      <td>1238.0</td>\n",
              "      <td>English</td>\n",
              "      <td>USA</td>\n",
              "      <td>PG-13</td>\n",
              "      <td>300000000.0</td>\n",
              "      <td>2007.0</td>\n",
              "      <td>5000.0</td>\n",
              "      <td>7.1</td>\n",
              "      <td>2.35</td>\n",
              "      <td>0</td>\n",
              "    </tr>\n",
              "    <tr>\n",
              "      <th>2</th>\n",
              "      <td>Color</td>\n",
              "      <td>Sam Mendes</td>\n",
              "      <td>602.0</td>\n",
              "      <td>148.0</td>\n",
              "      <td>0.0</td>\n",
              "      <td>161.0</td>\n",
              "      <td>Rory Kinnear</td>\n",
              "      <td>11000.0</td>\n",
              "      <td>200074175.0</td>\n",
              "      <td>Action|Adventure|Thriller</td>\n",
              "      <td>...</td>\n",
              "      <td>994.0</td>\n",
              "      <td>English</td>\n",
              "      <td>UK</td>\n",
              "      <td>PG-13</td>\n",
              "      <td>245000000.0</td>\n",
              "      <td>2015.0</td>\n",
              "      <td>393.0</td>\n",
              "      <td>6.8</td>\n",
              "      <td>2.35</td>\n",
              "      <td>85000</td>\n",
              "    </tr>\n",
              "    <tr>\n",
              "      <th>3</th>\n",
              "      <td>Color</td>\n",
              "      <td>Christopher Nolan</td>\n",
              "      <td>813.0</td>\n",
              "      <td>164.0</td>\n",
              "      <td>22000.0</td>\n",
              "      <td>23000.0</td>\n",
              "      <td>Christian Bale</td>\n",
              "      <td>27000.0</td>\n",
              "      <td>448130642.0</td>\n",
              "      <td>Action|Thriller</td>\n",
              "      <td>...</td>\n",
              "      <td>2701.0</td>\n",
              "      <td>English</td>\n",
              "      <td>USA</td>\n",
              "      <td>PG-13</td>\n",
              "      <td>250000000.0</td>\n",
              "      <td>2012.0</td>\n",
              "      <td>23000.0</td>\n",
              "      <td>8.5</td>\n",
              "      <td>2.35</td>\n",
              "      <td>164000</td>\n",
              "    </tr>\n",
              "    <tr>\n",
              "      <th>4</th>\n",
              "      <td>NaN</td>\n",
              "      <td>Doug Walker</td>\n",
              "      <td>NaN</td>\n",
              "      <td>NaN</td>\n",
              "      <td>131.0</td>\n",
              "      <td>NaN</td>\n",
              "      <td>Rob Walker</td>\n",
              "      <td>131.0</td>\n",
              "      <td>NaN</td>\n",
              "      <td>Documentary</td>\n",
              "      <td>...</td>\n",
              "      <td>NaN</td>\n",
              "      <td>NaN</td>\n",
              "      <td>NaN</td>\n",
              "      <td>NaN</td>\n",
              "      <td>NaN</td>\n",
              "      <td>NaN</td>\n",
              "      <td>12.0</td>\n",
              "      <td>7.1</td>\n",
              "      <td>NaN</td>\n",
              "      <td>0</td>\n",
              "    </tr>\n",
              "  </tbody>\n",
              "</table>\n",
              "<p>5 rows × 28 columns</p>\n",
              "</div>\n",
              "      <button class=\"colab-df-convert\" onclick=\"convertToInteractive('df-0aa4efeb-f7f8-43b9-bc70-5faf8b6081c3')\"\n",
              "              title=\"Convert this dataframe to an interactive table.\"\n",
              "              style=\"display:none;\">\n",
              "        \n",
              "  <svg xmlns=\"http://www.w3.org/2000/svg\" height=\"24px\"viewBox=\"0 0 24 24\"\n",
              "       width=\"24px\">\n",
              "    <path d=\"M0 0h24v24H0V0z\" fill=\"none\"/>\n",
              "    <path d=\"M18.56 5.44l.94 2.06.94-2.06 2.06-.94-2.06-.94-.94-2.06-.94 2.06-2.06.94zm-11 1L8.5 8.5l.94-2.06 2.06-.94-2.06-.94L8.5 2.5l-.94 2.06-2.06.94zm10 10l.94 2.06.94-2.06 2.06-.94-2.06-.94-.94-2.06-.94 2.06-2.06.94z\"/><path d=\"M17.41 7.96l-1.37-1.37c-.4-.4-.92-.59-1.43-.59-.52 0-1.04.2-1.43.59L10.3 9.45l-7.72 7.72c-.78.78-.78 2.05 0 2.83L4 21.41c.39.39.9.59 1.41.59.51 0 1.02-.2 1.41-.59l7.78-7.78 2.81-2.81c.8-.78.8-2.07 0-2.86zM5.41 20L4 18.59l7.72-7.72 1.47 1.35L5.41 20z\"/>\n",
              "  </svg>\n",
              "      </button>\n",
              "      \n",
              "  <style>\n",
              "    .colab-df-container {\n",
              "      display:flex;\n",
              "      flex-wrap:wrap;\n",
              "      gap: 12px;\n",
              "    }\n",
              "\n",
              "    .colab-df-convert {\n",
              "      background-color: #E8F0FE;\n",
              "      border: none;\n",
              "      border-radius: 50%;\n",
              "      cursor: pointer;\n",
              "      display: none;\n",
              "      fill: #1967D2;\n",
              "      height: 32px;\n",
              "      padding: 0 0 0 0;\n",
              "      width: 32px;\n",
              "    }\n",
              "\n",
              "    .colab-df-convert:hover {\n",
              "      background-color: #E2EBFA;\n",
              "      box-shadow: 0px 1px 2px rgba(60, 64, 67, 0.3), 0px 1px 3px 1px rgba(60, 64, 67, 0.15);\n",
              "      fill: #174EA6;\n",
              "    }\n",
              "\n",
              "    [theme=dark] .colab-df-convert {\n",
              "      background-color: #3B4455;\n",
              "      fill: #D2E3FC;\n",
              "    }\n",
              "\n",
              "    [theme=dark] .colab-df-convert:hover {\n",
              "      background-color: #434B5C;\n",
              "      box-shadow: 0px 1px 3px 1px rgba(0, 0, 0, 0.15);\n",
              "      filter: drop-shadow(0px 1px 2px rgba(0, 0, 0, 0.3));\n",
              "      fill: #FFFFFF;\n",
              "    }\n",
              "  </style>\n",
              "\n",
              "      <script>\n",
              "        const buttonEl =\n",
              "          document.querySelector('#df-0aa4efeb-f7f8-43b9-bc70-5faf8b6081c3 button.colab-df-convert');\n",
              "        buttonEl.style.display =\n",
              "          google.colab.kernel.accessAllowed ? 'block' : 'none';\n",
              "\n",
              "        async function convertToInteractive(key) {\n",
              "          const element = document.querySelector('#df-0aa4efeb-f7f8-43b9-bc70-5faf8b6081c3');\n",
              "          const dataTable =\n",
              "            await google.colab.kernel.invokeFunction('convertToInteractive',\n",
              "                                                     [key], {});\n",
              "          if (!dataTable) return;\n",
              "\n",
              "          const docLinkHtml = 'Like what you see? Visit the ' +\n",
              "            '<a target=\"_blank\" href=https://colab.research.google.com/notebooks/data_table.ipynb>data table notebook</a>'\n",
              "            + ' to learn more about interactive tables.';\n",
              "          element.innerHTML = '';\n",
              "          dataTable['output_type'] = 'display_data';\n",
              "          await google.colab.output.renderOutput(dataTable, element);\n",
              "          const docLink = document.createElement('div');\n",
              "          docLink.innerHTML = docLinkHtml;\n",
              "          element.appendChild(docLink);\n",
              "        }\n",
              "      </script>\n",
              "    </div>\n",
              "  </div>\n",
              "  "
            ]
          },
          "metadata": {},
          "execution_count": 329
        }
      ]
    },
    {
      "cell_type": "code",
      "source": [
        "df.shape"
      ],
      "metadata": {
        "colab": {
          "base_uri": "https://localhost:8080/"
        },
        "id": "uC4BsjyqgYdq",
        "outputId": "c0c22877-f30d-4a92-b1dd-07c1fd1c39cf"
      },
      "execution_count": 330,
      "outputs": [
        {
          "output_type": "execute_result",
          "data": {
            "text/plain": [
              "(5043, 28)"
            ]
          },
          "metadata": {},
          "execution_count": 330
        }
      ]
    },
    {
      "cell_type": "code",
      "source": [
        "df.dtypes"
      ],
      "metadata": {
        "colab": {
          "base_uri": "https://localhost:8080/"
        },
        "id": "wKw5AeD-gcxD",
        "outputId": "c516bed4-6ca8-4a4e-e5ec-0da67c633f20"
      },
      "execution_count": 331,
      "outputs": [
        {
          "output_type": "execute_result",
          "data": {
            "text/plain": [
              "color                         object\n",
              "director_name                 object\n",
              "num_critic_for_reviews       float64\n",
              "duration                     float64\n",
              "director_facebook_likes      float64\n",
              "actor_3_facebook_likes       float64\n",
              "actor_2_name                  object\n",
              "actor_1_facebook_likes       float64\n",
              "gross                        float64\n",
              "genres                        object\n",
              "actor_1_name                  object\n",
              "movie_title                   object\n",
              "num_voted_users                int64\n",
              "cast_total_facebook_likes      int64\n",
              "actor_3_name                  object\n",
              "facenumber_in_poster         float64\n",
              "plot_keywords                 object\n",
              "movie_imdb_link               object\n",
              "num_user_for_reviews         float64\n",
              "language                      object\n",
              "country                       object\n",
              "content_rating                object\n",
              "budget                       float64\n",
              "title_year                   float64\n",
              "actor_2_facebook_likes       float64\n",
              "imdb_score                   float64\n",
              "aspect_ratio                 float64\n",
              "movie_facebook_likes           int64\n",
              "dtype: object"
            ]
          },
          "metadata": {},
          "execution_count": 331
        }
      ]
    },
    {
      "cell_type": "code",
      "source": [
        "df.describe().T"
      ],
      "metadata": {
        "colab": {
          "base_uri": "https://localhost:8080/",
          "height": 551
        },
        "id": "y-EIVhIVgixS",
        "outputId": "f3c44b8b-f8ac-4317-b450-2e9046b47f3d"
      },
      "execution_count": 332,
      "outputs": [
        {
          "output_type": "execute_result",
          "data": {
            "text/plain": [
              "                            count          mean           std      min  \\\n",
              "num_critic_for_reviews     4993.0  1.401943e+02  1.216017e+02     1.00   \n",
              "duration                   5028.0  1.072011e+02  2.519744e+01     7.00   \n",
              "director_facebook_likes    4939.0  6.865092e+02  2.813329e+03     0.00   \n",
              "actor_3_facebook_likes     5020.0  6.450098e+02  1.665042e+03     0.00   \n",
              "actor_1_facebook_likes     5036.0  6.560047e+03  1.502076e+04     0.00   \n",
              "gross                      4159.0  4.846841e+07  6.845299e+07   162.00   \n",
              "num_voted_users            5043.0  8.366816e+04  1.384853e+05     5.00   \n",
              "cast_total_facebook_likes  5043.0  9.699064e+03  1.816380e+04     0.00   \n",
              "facenumber_in_poster       5030.0  1.371173e+00  2.013576e+00     0.00   \n",
              "num_user_for_reviews       5022.0  2.727708e+02  3.779829e+02     1.00   \n",
              "budget                     4551.0  3.975262e+07  2.061149e+08   218.00   \n",
              "title_year                 4935.0  2.002471e+03  1.247460e+01  1916.00   \n",
              "actor_2_facebook_likes     5030.0  1.651754e+03  4.042439e+03     0.00   \n",
              "imdb_score                 5043.0  6.442138e+00  1.125116e+00     1.60   \n",
              "aspect_ratio               4714.0  2.220403e+00  1.385113e+00     1.18   \n",
              "movie_facebook_likes       5043.0  7.525965e+03  1.932045e+04     0.00   \n",
              "\n",
              "                                  25%          50%          75%           max  \n",
              "num_critic_for_reviews          50.00       110.00       195.00  8.130000e+02  \n",
              "duration                        93.00       103.00       118.00  5.110000e+02  \n",
              "director_facebook_likes          7.00        49.00       194.50  2.300000e+04  \n",
              "actor_3_facebook_likes         133.00       371.50       636.00  2.300000e+04  \n",
              "actor_1_facebook_likes         614.00       988.00     11000.00  6.400000e+05  \n",
              "gross                      5340987.50  25517500.00  62309437.50  7.605058e+08  \n",
              "num_voted_users               8593.50     34359.00     96309.00  1.689764e+06  \n",
              "cast_total_facebook_likes     1411.00      3090.00     13756.50  6.567300e+05  \n",
              "facenumber_in_poster             0.00         1.00         2.00  4.300000e+01  \n",
              "num_user_for_reviews            65.00       156.00       326.00  5.060000e+03  \n",
              "budget                     6000000.00  20000000.00  45000000.00  1.221550e+10  \n",
              "title_year                    1999.00      2005.00      2011.00  2.016000e+03  \n",
              "actor_2_facebook_likes         281.00       595.00       918.00  1.370000e+05  \n",
              "imdb_score                       5.80         6.60         7.20  9.500000e+00  \n",
              "aspect_ratio                     1.85         2.35         2.35  1.600000e+01  \n",
              "movie_facebook_likes             0.00       166.00      3000.00  3.490000e+05  "
            ],
            "text/html": [
              "\n",
              "  <div id=\"df-1534befa-cc0d-4d09-ac29-d0fa88b101d4\">\n",
              "    <div class=\"colab-df-container\">\n",
              "      <div>\n",
              "<style scoped>\n",
              "    .dataframe tbody tr th:only-of-type {\n",
              "        vertical-align: middle;\n",
              "    }\n",
              "\n",
              "    .dataframe tbody tr th {\n",
              "        vertical-align: top;\n",
              "    }\n",
              "\n",
              "    .dataframe thead th {\n",
              "        text-align: right;\n",
              "    }\n",
              "</style>\n",
              "<table border=\"1\" class=\"dataframe\">\n",
              "  <thead>\n",
              "    <tr style=\"text-align: right;\">\n",
              "      <th></th>\n",
              "      <th>count</th>\n",
              "      <th>mean</th>\n",
              "      <th>std</th>\n",
              "      <th>min</th>\n",
              "      <th>25%</th>\n",
              "      <th>50%</th>\n",
              "      <th>75%</th>\n",
              "      <th>max</th>\n",
              "    </tr>\n",
              "  </thead>\n",
              "  <tbody>\n",
              "    <tr>\n",
              "      <th>num_critic_for_reviews</th>\n",
              "      <td>4993.0</td>\n",
              "      <td>1.401943e+02</td>\n",
              "      <td>1.216017e+02</td>\n",
              "      <td>1.00</td>\n",
              "      <td>50.00</td>\n",
              "      <td>110.00</td>\n",
              "      <td>195.00</td>\n",
              "      <td>8.130000e+02</td>\n",
              "    </tr>\n",
              "    <tr>\n",
              "      <th>duration</th>\n",
              "      <td>5028.0</td>\n",
              "      <td>1.072011e+02</td>\n",
              "      <td>2.519744e+01</td>\n",
              "      <td>7.00</td>\n",
              "      <td>93.00</td>\n",
              "      <td>103.00</td>\n",
              "      <td>118.00</td>\n",
              "      <td>5.110000e+02</td>\n",
              "    </tr>\n",
              "    <tr>\n",
              "      <th>director_facebook_likes</th>\n",
              "      <td>4939.0</td>\n",
              "      <td>6.865092e+02</td>\n",
              "      <td>2.813329e+03</td>\n",
              "      <td>0.00</td>\n",
              "      <td>7.00</td>\n",
              "      <td>49.00</td>\n",
              "      <td>194.50</td>\n",
              "      <td>2.300000e+04</td>\n",
              "    </tr>\n",
              "    <tr>\n",
              "      <th>actor_3_facebook_likes</th>\n",
              "      <td>5020.0</td>\n",
              "      <td>6.450098e+02</td>\n",
              "      <td>1.665042e+03</td>\n",
              "      <td>0.00</td>\n",
              "      <td>133.00</td>\n",
              "      <td>371.50</td>\n",
              "      <td>636.00</td>\n",
              "      <td>2.300000e+04</td>\n",
              "    </tr>\n",
              "    <tr>\n",
              "      <th>actor_1_facebook_likes</th>\n",
              "      <td>5036.0</td>\n",
              "      <td>6.560047e+03</td>\n",
              "      <td>1.502076e+04</td>\n",
              "      <td>0.00</td>\n",
              "      <td>614.00</td>\n",
              "      <td>988.00</td>\n",
              "      <td>11000.00</td>\n",
              "      <td>6.400000e+05</td>\n",
              "    </tr>\n",
              "    <tr>\n",
              "      <th>gross</th>\n",
              "      <td>4159.0</td>\n",
              "      <td>4.846841e+07</td>\n",
              "      <td>6.845299e+07</td>\n",
              "      <td>162.00</td>\n",
              "      <td>5340987.50</td>\n",
              "      <td>25517500.00</td>\n",
              "      <td>62309437.50</td>\n",
              "      <td>7.605058e+08</td>\n",
              "    </tr>\n",
              "    <tr>\n",
              "      <th>num_voted_users</th>\n",
              "      <td>5043.0</td>\n",
              "      <td>8.366816e+04</td>\n",
              "      <td>1.384853e+05</td>\n",
              "      <td>5.00</td>\n",
              "      <td>8593.50</td>\n",
              "      <td>34359.00</td>\n",
              "      <td>96309.00</td>\n",
              "      <td>1.689764e+06</td>\n",
              "    </tr>\n",
              "    <tr>\n",
              "      <th>cast_total_facebook_likes</th>\n",
              "      <td>5043.0</td>\n",
              "      <td>9.699064e+03</td>\n",
              "      <td>1.816380e+04</td>\n",
              "      <td>0.00</td>\n",
              "      <td>1411.00</td>\n",
              "      <td>3090.00</td>\n",
              "      <td>13756.50</td>\n",
              "      <td>6.567300e+05</td>\n",
              "    </tr>\n",
              "    <tr>\n",
              "      <th>facenumber_in_poster</th>\n",
              "      <td>5030.0</td>\n",
              "      <td>1.371173e+00</td>\n",
              "      <td>2.013576e+00</td>\n",
              "      <td>0.00</td>\n",
              "      <td>0.00</td>\n",
              "      <td>1.00</td>\n",
              "      <td>2.00</td>\n",
              "      <td>4.300000e+01</td>\n",
              "    </tr>\n",
              "    <tr>\n",
              "      <th>num_user_for_reviews</th>\n",
              "      <td>5022.0</td>\n",
              "      <td>2.727708e+02</td>\n",
              "      <td>3.779829e+02</td>\n",
              "      <td>1.00</td>\n",
              "      <td>65.00</td>\n",
              "      <td>156.00</td>\n",
              "      <td>326.00</td>\n",
              "      <td>5.060000e+03</td>\n",
              "    </tr>\n",
              "    <tr>\n",
              "      <th>budget</th>\n",
              "      <td>4551.0</td>\n",
              "      <td>3.975262e+07</td>\n",
              "      <td>2.061149e+08</td>\n",
              "      <td>218.00</td>\n",
              "      <td>6000000.00</td>\n",
              "      <td>20000000.00</td>\n",
              "      <td>45000000.00</td>\n",
              "      <td>1.221550e+10</td>\n",
              "    </tr>\n",
              "    <tr>\n",
              "      <th>title_year</th>\n",
              "      <td>4935.0</td>\n",
              "      <td>2.002471e+03</td>\n",
              "      <td>1.247460e+01</td>\n",
              "      <td>1916.00</td>\n",
              "      <td>1999.00</td>\n",
              "      <td>2005.00</td>\n",
              "      <td>2011.00</td>\n",
              "      <td>2.016000e+03</td>\n",
              "    </tr>\n",
              "    <tr>\n",
              "      <th>actor_2_facebook_likes</th>\n",
              "      <td>5030.0</td>\n",
              "      <td>1.651754e+03</td>\n",
              "      <td>4.042439e+03</td>\n",
              "      <td>0.00</td>\n",
              "      <td>281.00</td>\n",
              "      <td>595.00</td>\n",
              "      <td>918.00</td>\n",
              "      <td>1.370000e+05</td>\n",
              "    </tr>\n",
              "    <tr>\n",
              "      <th>imdb_score</th>\n",
              "      <td>5043.0</td>\n",
              "      <td>6.442138e+00</td>\n",
              "      <td>1.125116e+00</td>\n",
              "      <td>1.60</td>\n",
              "      <td>5.80</td>\n",
              "      <td>6.60</td>\n",
              "      <td>7.20</td>\n",
              "      <td>9.500000e+00</td>\n",
              "    </tr>\n",
              "    <tr>\n",
              "      <th>aspect_ratio</th>\n",
              "      <td>4714.0</td>\n",
              "      <td>2.220403e+00</td>\n",
              "      <td>1.385113e+00</td>\n",
              "      <td>1.18</td>\n",
              "      <td>1.85</td>\n",
              "      <td>2.35</td>\n",
              "      <td>2.35</td>\n",
              "      <td>1.600000e+01</td>\n",
              "    </tr>\n",
              "    <tr>\n",
              "      <th>movie_facebook_likes</th>\n",
              "      <td>5043.0</td>\n",
              "      <td>7.525965e+03</td>\n",
              "      <td>1.932045e+04</td>\n",
              "      <td>0.00</td>\n",
              "      <td>0.00</td>\n",
              "      <td>166.00</td>\n",
              "      <td>3000.00</td>\n",
              "      <td>3.490000e+05</td>\n",
              "    </tr>\n",
              "  </tbody>\n",
              "</table>\n",
              "</div>\n",
              "      <button class=\"colab-df-convert\" onclick=\"convertToInteractive('df-1534befa-cc0d-4d09-ac29-d0fa88b101d4')\"\n",
              "              title=\"Convert this dataframe to an interactive table.\"\n",
              "              style=\"display:none;\">\n",
              "        \n",
              "  <svg xmlns=\"http://www.w3.org/2000/svg\" height=\"24px\"viewBox=\"0 0 24 24\"\n",
              "       width=\"24px\">\n",
              "    <path d=\"M0 0h24v24H0V0z\" fill=\"none\"/>\n",
              "    <path d=\"M18.56 5.44l.94 2.06.94-2.06 2.06-.94-2.06-.94-.94-2.06-.94 2.06-2.06.94zm-11 1L8.5 8.5l.94-2.06 2.06-.94-2.06-.94L8.5 2.5l-.94 2.06-2.06.94zm10 10l.94 2.06.94-2.06 2.06-.94-2.06-.94-.94-2.06-.94 2.06-2.06.94z\"/><path d=\"M17.41 7.96l-1.37-1.37c-.4-.4-.92-.59-1.43-.59-.52 0-1.04.2-1.43.59L10.3 9.45l-7.72 7.72c-.78.78-.78 2.05 0 2.83L4 21.41c.39.39.9.59 1.41.59.51 0 1.02-.2 1.41-.59l7.78-7.78 2.81-2.81c.8-.78.8-2.07 0-2.86zM5.41 20L4 18.59l7.72-7.72 1.47 1.35L5.41 20z\"/>\n",
              "  </svg>\n",
              "      </button>\n",
              "      \n",
              "  <style>\n",
              "    .colab-df-container {\n",
              "      display:flex;\n",
              "      flex-wrap:wrap;\n",
              "      gap: 12px;\n",
              "    }\n",
              "\n",
              "    .colab-df-convert {\n",
              "      background-color: #E8F0FE;\n",
              "      border: none;\n",
              "      border-radius: 50%;\n",
              "      cursor: pointer;\n",
              "      display: none;\n",
              "      fill: #1967D2;\n",
              "      height: 32px;\n",
              "      padding: 0 0 0 0;\n",
              "      width: 32px;\n",
              "    }\n",
              "\n",
              "    .colab-df-convert:hover {\n",
              "      background-color: #E2EBFA;\n",
              "      box-shadow: 0px 1px 2px rgba(60, 64, 67, 0.3), 0px 1px 3px 1px rgba(60, 64, 67, 0.15);\n",
              "      fill: #174EA6;\n",
              "    }\n",
              "\n",
              "    [theme=dark] .colab-df-convert {\n",
              "      background-color: #3B4455;\n",
              "      fill: #D2E3FC;\n",
              "    }\n",
              "\n",
              "    [theme=dark] .colab-df-convert:hover {\n",
              "      background-color: #434B5C;\n",
              "      box-shadow: 0px 1px 3px 1px rgba(0, 0, 0, 0.15);\n",
              "      filter: drop-shadow(0px 1px 2px rgba(0, 0, 0, 0.3));\n",
              "      fill: #FFFFFF;\n",
              "    }\n",
              "  </style>\n",
              "\n",
              "      <script>\n",
              "        const buttonEl =\n",
              "          document.querySelector('#df-1534befa-cc0d-4d09-ac29-d0fa88b101d4 button.colab-df-convert');\n",
              "        buttonEl.style.display =\n",
              "          google.colab.kernel.accessAllowed ? 'block' : 'none';\n",
              "\n",
              "        async function convertToInteractive(key) {\n",
              "          const element = document.querySelector('#df-1534befa-cc0d-4d09-ac29-d0fa88b101d4');\n",
              "          const dataTable =\n",
              "            await google.colab.kernel.invokeFunction('convertToInteractive',\n",
              "                                                     [key], {});\n",
              "          if (!dataTable) return;\n",
              "\n",
              "          const docLinkHtml = 'Like what you see? Visit the ' +\n",
              "            '<a target=\"_blank\" href=https://colab.research.google.com/notebooks/data_table.ipynb>data table notebook</a>'\n",
              "            + ' to learn more about interactive tables.';\n",
              "          element.innerHTML = '';\n",
              "          dataTable['output_type'] = 'display_data';\n",
              "          await google.colab.output.renderOutput(dataTable, element);\n",
              "          const docLink = document.createElement('div');\n",
              "          docLink.innerHTML = docLinkHtml;\n",
              "          element.appendChild(docLink);\n",
              "        }\n",
              "      </script>\n",
              "    </div>\n",
              "  </div>\n",
              "  "
            ]
          },
          "metadata": {},
          "execution_count": 332
        }
      ]
    },
    {
      "cell_type": "markdown",
      "source": [
        "# Data Preparation"
      ],
      "metadata": {
        "id": "FlMgfiEiXwP6"
      }
    },
    {
      "cell_type": "markdown",
      "source": [
        "## Removing"
      ],
      "metadata": {
        "id": "Izt0i5xSrrYl"
      }
    },
    {
      "cell_type": "code",
      "source": [
        "# Removing Attrb that not relevant\n",
        "\n",
        "df.drop( 'movie_imdb_link', axis=1, inplace = True)\n",
        "df.drop('movie_title',axis=1,inplace=True)\n",
        "df.drop( 'num_critic_for_reviews', axis=1, inplace = True)\n",
        "df.drop( 'gross', axis=1, inplace = True)\n",
        "df.drop( 'num_voted_users', axis=1, inplace = True)\n",
        "df.drop( 'num_user_for_reviews', axis=1, inplace = True)\n",
        "df.drop( 'title_year', axis=1, inplace = True)\n",
        "df.drop( 'movie_facebook_likes', axis=1, inplace = True)\n",
        "df.drop( 'cast_total_facebook_likes',axis=1,inplace=True)\n",
        "df.drop( 'director_facebook_likes',axis=1,inplace=True)\n",
        "df.drop( 'actor_3_facebook_likes',axis=1,inplace=True)\n",
        "df.drop( 'actor_1_facebook_likes',axis=1,inplace=True)\n",
        "df.drop( 'actor_2_facebook_likes',axis=1,inplace=True)\n",
        "df.drop( 'aspect_ratio',axis=1,inplace=True)\n",
        "df.drop( 'facenumber_in_poster',axis=1,inplace=True)"
      ],
      "metadata": {
        "id": "uJwgdjVohfVk"
      },
      "execution_count": 333,
      "outputs": []
    },
    {
      "cell_type": "code",
      "source": [
        "df.columns"
      ],
      "metadata": {
        "colab": {
          "base_uri": "https://localhost:8080/"
        },
        "id": "uWtBMXFTh1z1",
        "outputId": "9b97d1c8-5782-4536-c50b-eb7aadfca2b0"
      },
      "execution_count": 334,
      "outputs": [
        {
          "output_type": "execute_result",
          "data": {
            "text/plain": [
              "Index(['color', 'director_name', 'duration', 'actor_2_name', 'genres',\n",
              "       'actor_1_name', 'actor_3_name', 'plot_keywords', 'language', 'country',\n",
              "       'content_rating', 'budget', 'imdb_score'],\n",
              "      dtype='object')"
            ]
          },
          "metadata": {},
          "execution_count": 334
        }
      ]
    },
    {
      "cell_type": "code",
      "source": [
        "# Checking NaN Value in each Attrb\n",
        "df.isna().any()"
      ],
      "metadata": {
        "colab": {
          "base_uri": "https://localhost:8080/"
        },
        "id": "O9nerEOlByFW",
        "outputId": "bae19d4d-4807-4f55-da55-cd9ba1e24be7"
      },
      "execution_count": 335,
      "outputs": [
        {
          "output_type": "execute_result",
          "data": {
            "text/plain": [
              "color              True\n",
              "director_name      True\n",
              "duration           True\n",
              "actor_2_name       True\n",
              "genres            False\n",
              "actor_1_name       True\n",
              "actor_3_name       True\n",
              "plot_keywords      True\n",
              "language           True\n",
              "country            True\n",
              "content_rating     True\n",
              "budget             True\n",
              "imdb_score        False\n",
              "dtype: bool"
            ]
          },
          "metadata": {},
          "execution_count": 335
        }
      ]
    },
    {
      "cell_type": "code",
      "source": [
        "#Checking Number of NaN Value in each Attrb\n",
        "df.isna().sum()"
      ],
      "metadata": {
        "colab": {
          "base_uri": "https://localhost:8080/"
        },
        "id": "L3wS7hCUB-X4",
        "outputId": "a91e7174-12b8-42f4-b42b-7ef2e4be3d20"
      },
      "execution_count": 336,
      "outputs": [
        {
          "output_type": "execute_result",
          "data": {
            "text/plain": [
              "color              19\n",
              "director_name     104\n",
              "duration           15\n",
              "actor_2_name       13\n",
              "genres              0\n",
              "actor_1_name        7\n",
              "actor_3_name       23\n",
              "plot_keywords     153\n",
              "language           12\n",
              "country             5\n",
              "content_rating    303\n",
              "budget            492\n",
              "imdb_score          0\n",
              "dtype: int64"
            ]
          },
          "metadata": {},
          "execution_count": 336
        }
      ]
    },
    {
      "cell_type": "code",
      "source": [
        "new_df = df.dropna()"
      ],
      "metadata": {
        "id": "wTyLfbZzDEHl"
      },
      "execution_count": 337,
      "outputs": []
    },
    {
      "cell_type": "code",
      "source": [
        "new_df.isna().sum()"
      ],
      "metadata": {
        "colab": {
          "base_uri": "https://localhost:8080/"
        },
        "id": "oG4WPC_NDLl9",
        "outputId": "0a02bfcb-a8c6-4d57-b389-30e3f3e6d969"
      },
      "execution_count": 338,
      "outputs": [
        {
          "output_type": "execute_result",
          "data": {
            "text/plain": [
              "color             0\n",
              "director_name     0\n",
              "duration          0\n",
              "actor_2_name      0\n",
              "genres            0\n",
              "actor_1_name      0\n",
              "actor_3_name      0\n",
              "plot_keywords     0\n",
              "language          0\n",
              "country           0\n",
              "content_rating    0\n",
              "budget            0\n",
              "imdb_score        0\n",
              "dtype: int64"
            ]
          },
          "metadata": {},
          "execution_count": 338
        }
      ]
    },
    {
      "cell_type": "code",
      "source": [
        "new_df.shape"
      ],
      "metadata": {
        "colab": {
          "base_uri": "https://localhost:8080/"
        },
        "id": "Jcsdq-i2Db3y",
        "outputId": "0346ac94-57be-4db1-e1a7-b88974b999b3"
      },
      "execution_count": 339,
      "outputs": [
        {
          "output_type": "execute_result",
          "data": {
            "text/plain": [
              "(4264, 13)"
            ]
          },
          "metadata": {},
          "execution_count": 339
        }
      ]
    },
    {
      "cell_type": "code",
      "source": [
        "df = new_df"
      ],
      "metadata": {
        "id": "GtGIAOROPlX3"
      },
      "execution_count": 340,
      "outputs": []
    },
    {
      "cell_type": "code",
      "source": [
        "df.drop_duplicates(inplace=True)\n",
        "df.shape"
      ],
      "metadata": {
        "colab": {
          "base_uri": "https://localhost:8080/"
        },
        "id": "aPmlWwNaOTnf",
        "outputId": "150e39eb-56fd-4873-d374-dc660c6c18b3"
      },
      "execution_count": 341,
      "outputs": [
        {
          "output_type": "execute_result",
          "data": {
            "text/plain": [
              "(4152, 13)"
            ]
          },
          "metadata": {},
          "execution_count": 341
        }
      ]
    },
    {
      "cell_type": "code",
      "source": [
        "#Check Amount in Each Language of Movies\n",
        "df[\"language\"].value_counts()"
      ],
      "metadata": {
        "colab": {
          "base_uri": "https://localhost:8080/"
        },
        "id": "XwvCd_FIPN0e",
        "outputId": "697e76d5-4aef-4a59-e4ec-194e67f6db2c"
      },
      "execution_count": 342,
      "outputs": [
        {
          "output_type": "execute_result",
          "data": {
            "text/plain": [
              "English       3967\n",
              "French          40\n",
              "Spanish         28\n",
              "Mandarin        16\n",
              "Japanese        13\n",
              "German          10\n",
              "Italian          8\n",
              "Cantonese        7\n",
              "Hindi            7\n",
              "Portuguese       6\n",
              "Russian          5\n",
              "Korean           5\n",
              "Norwegian        4\n",
              "Persian          3\n",
              "Danish           3\n",
              "Thai             3\n",
              "Dutch            3\n",
              "Zulu             2\n",
              "Aboriginal       2\n",
              "None             2\n",
              "Indonesian       2\n",
              "Dari             2\n",
              "Hebrew           2\n",
              "Mongolian        1\n",
              "Romanian         1\n",
              "Vietnamese       1\n",
              "Arabic           1\n",
              "Filipino         1\n",
              "Czech            1\n",
              "Maya             1\n",
              "Kazakh           1\n",
              "Aramaic          1\n",
              "Hungarian        1\n",
              "Bosnian          1\n",
              "Swedish          1\n",
              "Name: language, dtype: int64"
            ]
          },
          "metadata": {},
          "execution_count": 342
        }
      ]
    },
    {
      "cell_type": "code",
      "source": [
        "#Drop Language Column because Most of Movie is in English\n",
        "\n",
        "df.drop('language',axis=1,inplace=True)"
      ],
      "metadata": {
        "id": "EF9ZIqPsRJ0y"
      },
      "execution_count": 343,
      "outputs": []
    },
    {
      "cell_type": "code",
      "source": [
        "df[\"country\"].value_counts()"
      ],
      "metadata": {
        "colab": {
          "base_uri": "https://localhost:8080/"
        },
        "id": "r5tPOVdKRYsz",
        "outputId": "0f6be911-c089-49e3-b8d6-e74f6ba61637"
      },
      "execution_count": 344,
      "outputs": [
        {
          "output_type": "execute_result",
          "data": {
            "text/plain": [
              "USA               3251\n",
              "UK                 352\n",
              "France             116\n",
              "Canada              89\n",
              "Germany             84\n",
              "Australia           45\n",
              "Spain               25\n",
              "Japan               18\n",
              "Italy               16\n",
              "China               14\n",
              "Hong Kong           13\n",
              "New Zealand         11\n",
              "Denmark              9\n",
              "South Korea          9\n",
              "South Africa         8\n",
              "Norway               7\n",
              "Mexico               7\n",
              "Ireland              7\n",
              "India                7\n",
              "Russia               6\n",
              "Brazil               6\n",
              "Argentina            4\n",
              "Iran                 4\n",
              "Thailand             4\n",
              "Netherlands          4\n",
              "Czech Republic       3\n",
              "Taiwan               2\n",
              "Israel               2\n",
              "Hungary              2\n",
              "West Germany         2\n",
              "Romania              2\n",
              "Belgium              1\n",
              "Iceland              1\n",
              "Sweden               1\n",
              "Switzerland          1\n",
              "Afghanistan          1\n",
              "Indonesia            1\n",
              "Kyrgyzstan           1\n",
              "New Line             1\n",
              "Poland               1\n",
              "Colombia             1\n",
              "Soviet Union         1\n",
              "Finland              1\n",
              "Bahamas              1\n",
              "Greece               1\n",
              "Peru                 1\n",
              "Aruba                1\n",
              "Libya                1\n",
              "Georgia              1\n",
              "Bulgaria             1\n",
              "Chile                1\n",
              "Official site        1\n",
              "Panama               1\n",
              "Philippines          1\n",
              "Name: country, dtype: int64"
            ]
          },
          "metadata": {},
          "execution_count": 344
        }
      ]
    },
    {
      "cell_type": "code",
      "source": [
        "#Drop Country Column because Most of Movie is in USA\n",
        "\n",
        "df.drop('country',axis=1,inplace=True)"
      ],
      "metadata": {
        "id": "MtC8W0sRRlXr"
      },
      "execution_count": 345,
      "outputs": []
    },
    {
      "cell_type": "code",
      "source": [
        "df[\"color\"].value_counts()"
      ],
      "metadata": {
        "colab": {
          "base_uri": "https://localhost:8080/"
        },
        "id": "_fhCpfugx8cq",
        "outputId": "c7e232ec-824d-4cd8-9cf7-d8af8f832e7c"
      },
      "execution_count": 346,
      "outputs": [
        {
          "output_type": "execute_result",
          "data": {
            "text/plain": [
              "Color               3981\n",
              " Black and White     171\n",
              "Name: color, dtype: int64"
            ]
          },
          "metadata": {},
          "execution_count": 346
        }
      ]
    },
    {
      "cell_type": "code",
      "source": [
        "#Drop Country Column because Most of Movie is in Color\n",
        "df.drop('color',axis=1,inplace=True)"
      ],
      "metadata": {
        "id": "jhT-uT1fyHYH"
      },
      "execution_count": 347,
      "outputs": []
    },
    {
      "cell_type": "code",
      "source": [
        "#Drop Plot Keywords Column because it has too many unique variables per movie\n",
        "df.drop('plot_keywords',axis=1,inplace=True)"
      ],
      "metadata": {
        "id": "arzH05KlmRh8"
      },
      "execution_count": 348,
      "outputs": []
    },
    {
      "cell_type": "code",
      "source": [
        "df.head()"
      ],
      "metadata": {
        "colab": {
          "base_uri": "https://localhost:8080/",
          "height": 206
        },
        "id": "feKRcl12UcN_",
        "outputId": "aade4f5f-d20c-4a6d-eb2a-d2bc8fa9c9de"
      },
      "execution_count": 349,
      "outputs": [
        {
          "output_type": "execute_result",
          "data": {
            "text/plain": [
              "       director_name  duration      actor_2_name  \\\n",
              "0      James Cameron     178.0  Joel David Moore   \n",
              "1     Gore Verbinski     169.0     Orlando Bloom   \n",
              "2         Sam Mendes     148.0      Rory Kinnear   \n",
              "3  Christopher Nolan     164.0    Christian Bale   \n",
              "5     Andrew Stanton     132.0   Samantha Morton   \n",
              "\n",
              "                            genres     actor_1_name          actor_3_name  \\\n",
              "0  Action|Adventure|Fantasy|Sci-Fi      CCH Pounder             Wes Studi   \n",
              "1         Action|Adventure|Fantasy      Johnny Depp        Jack Davenport   \n",
              "2        Action|Adventure|Thriller  Christoph Waltz      Stephanie Sigman   \n",
              "3                  Action|Thriller        Tom Hardy  Joseph Gordon-Levitt   \n",
              "5          Action|Adventure|Sci-Fi     Daryl Sabara          Polly Walker   \n",
              "\n",
              "  content_rating       budget  imdb_score  \n",
              "0          PG-13  237000000.0         7.9  \n",
              "1          PG-13  300000000.0         7.1  \n",
              "2          PG-13  245000000.0         6.8  \n",
              "3          PG-13  250000000.0         8.5  \n",
              "5          PG-13  263700000.0         6.6  "
            ],
            "text/html": [
              "\n",
              "  <div id=\"df-873de84e-be6b-459c-aa7d-1412dd2707e0\">\n",
              "    <div class=\"colab-df-container\">\n",
              "      <div>\n",
              "<style scoped>\n",
              "    .dataframe tbody tr th:only-of-type {\n",
              "        vertical-align: middle;\n",
              "    }\n",
              "\n",
              "    .dataframe tbody tr th {\n",
              "        vertical-align: top;\n",
              "    }\n",
              "\n",
              "    .dataframe thead th {\n",
              "        text-align: right;\n",
              "    }\n",
              "</style>\n",
              "<table border=\"1\" class=\"dataframe\">\n",
              "  <thead>\n",
              "    <tr style=\"text-align: right;\">\n",
              "      <th></th>\n",
              "      <th>director_name</th>\n",
              "      <th>duration</th>\n",
              "      <th>actor_2_name</th>\n",
              "      <th>genres</th>\n",
              "      <th>actor_1_name</th>\n",
              "      <th>actor_3_name</th>\n",
              "      <th>content_rating</th>\n",
              "      <th>budget</th>\n",
              "      <th>imdb_score</th>\n",
              "    </tr>\n",
              "  </thead>\n",
              "  <tbody>\n",
              "    <tr>\n",
              "      <th>0</th>\n",
              "      <td>James Cameron</td>\n",
              "      <td>178.0</td>\n",
              "      <td>Joel David Moore</td>\n",
              "      <td>Action|Adventure|Fantasy|Sci-Fi</td>\n",
              "      <td>CCH Pounder</td>\n",
              "      <td>Wes Studi</td>\n",
              "      <td>PG-13</td>\n",
              "      <td>237000000.0</td>\n",
              "      <td>7.9</td>\n",
              "    </tr>\n",
              "    <tr>\n",
              "      <th>1</th>\n",
              "      <td>Gore Verbinski</td>\n",
              "      <td>169.0</td>\n",
              "      <td>Orlando Bloom</td>\n",
              "      <td>Action|Adventure|Fantasy</td>\n",
              "      <td>Johnny Depp</td>\n",
              "      <td>Jack Davenport</td>\n",
              "      <td>PG-13</td>\n",
              "      <td>300000000.0</td>\n",
              "      <td>7.1</td>\n",
              "    </tr>\n",
              "    <tr>\n",
              "      <th>2</th>\n",
              "      <td>Sam Mendes</td>\n",
              "      <td>148.0</td>\n",
              "      <td>Rory Kinnear</td>\n",
              "      <td>Action|Adventure|Thriller</td>\n",
              "      <td>Christoph Waltz</td>\n",
              "      <td>Stephanie Sigman</td>\n",
              "      <td>PG-13</td>\n",
              "      <td>245000000.0</td>\n",
              "      <td>6.8</td>\n",
              "    </tr>\n",
              "    <tr>\n",
              "      <th>3</th>\n",
              "      <td>Christopher Nolan</td>\n",
              "      <td>164.0</td>\n",
              "      <td>Christian Bale</td>\n",
              "      <td>Action|Thriller</td>\n",
              "      <td>Tom Hardy</td>\n",
              "      <td>Joseph Gordon-Levitt</td>\n",
              "      <td>PG-13</td>\n",
              "      <td>250000000.0</td>\n",
              "      <td>8.5</td>\n",
              "    </tr>\n",
              "    <tr>\n",
              "      <th>5</th>\n",
              "      <td>Andrew Stanton</td>\n",
              "      <td>132.0</td>\n",
              "      <td>Samantha Morton</td>\n",
              "      <td>Action|Adventure|Sci-Fi</td>\n",
              "      <td>Daryl Sabara</td>\n",
              "      <td>Polly Walker</td>\n",
              "      <td>PG-13</td>\n",
              "      <td>263700000.0</td>\n",
              "      <td>6.6</td>\n",
              "    </tr>\n",
              "  </tbody>\n",
              "</table>\n",
              "</div>\n",
              "      <button class=\"colab-df-convert\" onclick=\"convertToInteractive('df-873de84e-be6b-459c-aa7d-1412dd2707e0')\"\n",
              "              title=\"Convert this dataframe to an interactive table.\"\n",
              "              style=\"display:none;\">\n",
              "        \n",
              "  <svg xmlns=\"http://www.w3.org/2000/svg\" height=\"24px\"viewBox=\"0 0 24 24\"\n",
              "       width=\"24px\">\n",
              "    <path d=\"M0 0h24v24H0V0z\" fill=\"none\"/>\n",
              "    <path d=\"M18.56 5.44l.94 2.06.94-2.06 2.06-.94-2.06-.94-.94-2.06-.94 2.06-2.06.94zm-11 1L8.5 8.5l.94-2.06 2.06-.94-2.06-.94L8.5 2.5l-.94 2.06-2.06.94zm10 10l.94 2.06.94-2.06 2.06-.94-2.06-.94-.94-2.06-.94 2.06-2.06.94z\"/><path d=\"M17.41 7.96l-1.37-1.37c-.4-.4-.92-.59-1.43-.59-.52 0-1.04.2-1.43.59L10.3 9.45l-7.72 7.72c-.78.78-.78 2.05 0 2.83L4 21.41c.39.39.9.59 1.41.59.51 0 1.02-.2 1.41-.59l7.78-7.78 2.81-2.81c.8-.78.8-2.07 0-2.86zM5.41 20L4 18.59l7.72-7.72 1.47 1.35L5.41 20z\"/>\n",
              "  </svg>\n",
              "      </button>\n",
              "      \n",
              "  <style>\n",
              "    .colab-df-container {\n",
              "      display:flex;\n",
              "      flex-wrap:wrap;\n",
              "      gap: 12px;\n",
              "    }\n",
              "\n",
              "    .colab-df-convert {\n",
              "      background-color: #E8F0FE;\n",
              "      border: none;\n",
              "      border-radius: 50%;\n",
              "      cursor: pointer;\n",
              "      display: none;\n",
              "      fill: #1967D2;\n",
              "      height: 32px;\n",
              "      padding: 0 0 0 0;\n",
              "      width: 32px;\n",
              "    }\n",
              "\n",
              "    .colab-df-convert:hover {\n",
              "      background-color: #E2EBFA;\n",
              "      box-shadow: 0px 1px 2px rgba(60, 64, 67, 0.3), 0px 1px 3px 1px rgba(60, 64, 67, 0.15);\n",
              "      fill: #174EA6;\n",
              "    }\n",
              "\n",
              "    [theme=dark] .colab-df-convert {\n",
              "      background-color: #3B4455;\n",
              "      fill: #D2E3FC;\n",
              "    }\n",
              "\n",
              "    [theme=dark] .colab-df-convert:hover {\n",
              "      background-color: #434B5C;\n",
              "      box-shadow: 0px 1px 3px 1px rgba(0, 0, 0, 0.15);\n",
              "      filter: drop-shadow(0px 1px 2px rgba(0, 0, 0, 0.3));\n",
              "      fill: #FFFFFF;\n",
              "    }\n",
              "  </style>\n",
              "\n",
              "      <script>\n",
              "        const buttonEl =\n",
              "          document.querySelector('#df-873de84e-be6b-459c-aa7d-1412dd2707e0 button.colab-df-convert');\n",
              "        buttonEl.style.display =\n",
              "          google.colab.kernel.accessAllowed ? 'block' : 'none';\n",
              "\n",
              "        async function convertToInteractive(key) {\n",
              "          const element = document.querySelector('#df-873de84e-be6b-459c-aa7d-1412dd2707e0');\n",
              "          const dataTable =\n",
              "            await google.colab.kernel.invokeFunction('convertToInteractive',\n",
              "                                                     [key], {});\n",
              "          if (!dataTable) return;\n",
              "\n",
              "          const docLinkHtml = 'Like what you see? Visit the ' +\n",
              "            '<a target=\"_blank\" href=https://colab.research.google.com/notebooks/data_table.ipynb>data table notebook</a>'\n",
              "            + ' to learn more about interactive tables.';\n",
              "          element.innerHTML = '';\n",
              "          dataTable['output_type'] = 'display_data';\n",
              "          await google.colab.output.renderOutput(dataTable, element);\n",
              "          const docLink = document.createElement('div');\n",
              "          docLink.innerHTML = docLinkHtml;\n",
              "          element.appendChild(docLink);\n",
              "        }\n",
              "      </script>\n",
              "    </div>\n",
              "  </div>\n",
              "  "
            ]
          },
          "metadata": {},
          "execution_count": 349
        }
      ]
    },
    {
      "cell_type": "code",
      "source": [
        "df.shape"
      ],
      "metadata": {
        "colab": {
          "base_uri": "https://localhost:8080/"
        },
        "id": "8ydvXDboVfiw",
        "outputId": "d45a2d58-ea01-4b96-ed3b-8d218b8026ba"
      },
      "execution_count": 350,
      "outputs": [
        {
          "output_type": "execute_result",
          "data": {
            "text/plain": [
              "(4152, 9)"
            ]
          },
          "metadata": {},
          "execution_count": 350
        }
      ]
    },
    {
      "cell_type": "code",
      "source": [
        "df.columns"
      ],
      "metadata": {
        "colab": {
          "base_uri": "https://localhost:8080/"
        },
        "id": "8S6vlsZYV7Dk",
        "outputId": "09fa3713-d87a-4dc7-b7ee-4a7b2f62b6f6"
      },
      "execution_count": 351,
      "outputs": [
        {
          "output_type": "execute_result",
          "data": {
            "text/plain": [
              "Index(['director_name', 'duration', 'actor_2_name', 'genres', 'actor_1_name',\n",
              "       'actor_3_name', 'content_rating', 'budget', 'imdb_score'],\n",
              "      dtype='object')"
            ]
          },
          "metadata": {},
          "execution_count": 351
        }
      ]
    },
    {
      "cell_type": "markdown",
      "source": [
        "## Replace spacebar in Name"
      ],
      "metadata": {
        "id": "HfnhLv0aPWOx"
      }
    },
    {
      "cell_type": "code",
      "source": [
        "df['director_name'] = df['director_name'].str.replace(' ', '')\n",
        "df['actor_1_name'] = df['actor_1_name'].str.replace(' ', '')\n",
        "df['actor_2_name'] = df['actor_2_name'].str.replace(' ', '')\n",
        "df['actor_3_name'] = df['actor_3_name'].str.replace(' ', '')"
      ],
      "metadata": {
        "id": "G-2NxIhoPaLd"
      },
      "execution_count": 352,
      "outputs": []
    },
    {
      "cell_type": "markdown",
      "source": [
        "## Split genres to Columns (One Hot)"
      ],
      "metadata": {
        "id": "bH5Gnigs4sYW"
      }
    },
    {
      "cell_type": "code",
      "source": [
        "df['genres'] = df['genres'].str.replace('|', ',')"
      ],
      "metadata": {
        "id": "CrUT8kissIcA"
      },
      "execution_count": 353,
      "outputs": []
    },
    {
      "cell_type": "code",
      "source": [
        "from sklearn.preprocessing import MultiLabelBinarizer"
      ],
      "metadata": {
        "id": "sQr-Sacg4rsL"
      },
      "execution_count": 354,
      "outputs": []
    },
    {
      "cell_type": "code",
      "source": [
        "mlb = MultiLabelBinarizer()"
      ],
      "metadata": {
        "id": "yXHfeh8F47oC"
      },
      "execution_count": 355,
      "outputs": []
    },
    {
      "cell_type": "code",
      "source": [
        "df1 = df.join(pd.DataFrame(mlb.fit_transform(df['genres'].str.split(',')),\n",
        "                           columns=mlb.classes_))"
      ],
      "metadata": {
        "id": "Cn8GoqX953ta"
      },
      "execution_count": 356,
      "outputs": []
    },
    {
      "cell_type": "code",
      "source": [
        "df1.columns"
      ],
      "metadata": {
        "colab": {
          "base_uri": "https://localhost:8080/"
        },
        "id": "aFSDf9bm58IR",
        "outputId": "b583b04b-5af0-49f8-eed2-2fd7e6eed9fa"
      },
      "execution_count": 357,
      "outputs": [
        {
          "output_type": "execute_result",
          "data": {
            "text/plain": [
              "Index(['director_name', 'duration', 'actor_2_name', 'genres', 'actor_1_name',\n",
              "       'actor_3_name', 'content_rating', 'budget', 'imdb_score', 'Action',\n",
              "       'Adventure', 'Animation', 'Biography', 'Comedy', 'Crime', 'Documentary',\n",
              "       'Drama', 'Family', 'Fantasy', 'Film-Noir', 'History', 'Horror', 'Music',\n",
              "       'Musical', 'Mystery', 'Romance', 'Sci-Fi', 'Sport', 'Thriller', 'War',\n",
              "       'Western'],\n",
              "      dtype='object')"
            ]
          },
          "metadata": {},
          "execution_count": 357
        }
      ]
    },
    {
      "cell_type": "code",
      "source": [
        "for g in mlb.classes_:\n",
        "  df1[g].fillna(\"0\", inplace = True) "
      ],
      "metadata": {
        "id": "OwAb-DFA6Gbp"
      },
      "execution_count": 358,
      "outputs": []
    },
    {
      "cell_type": "code",
      "source": [
        "df1"
      ],
      "metadata": {
        "colab": {
          "base_uri": "https://localhost:8080/",
          "height": 522
        },
        "id": "zB_GPA6e6qf_",
        "outputId": "a3681570-f7a5-4074-d918-50a519878dec"
      },
      "execution_count": 359,
      "outputs": [
        {
          "output_type": "execute_result",
          "data": {
            "text/plain": [
              "         director_name  duration       actor_2_name  \\\n",
              "0         JamesCameron     178.0     JoelDavidMoore   \n",
              "1        GoreVerbinski     169.0       OrlandoBloom   \n",
              "2            SamMendes     148.0        RoryKinnear   \n",
              "3     ChristopherNolan     164.0      ChristianBale   \n",
              "5        AndrewStanton     132.0     SamanthaMorton   \n",
              "...                ...       ...                ...   \n",
              "5034    NeillDelaLlana      80.0     EdgarTancangco   \n",
              "5035   RobertRodriguez      81.0     PeterMarquardt   \n",
              "5036    AnthonyVallone      84.0      JohnConsidine   \n",
              "5037       EdwardBurns      95.0  CaitlinFitzGerald   \n",
              "5042           JonGunn      90.0    BrianHerzlinger   \n",
              "\n",
              "                                   genres    actor_1_name  \\\n",
              "0         Action,Adventure,Fantasy,Sci-Fi      CCHPounder   \n",
              "1                Action,Adventure,Fantasy      JohnnyDepp   \n",
              "2               Action,Adventure,Thriller  ChristophWaltz   \n",
              "3                         Action,Thriller        TomHardy   \n",
              "5                 Action,Adventure,Sci-Fi     DarylSabara   \n",
              "...                                   ...             ...   \n",
              "5034                             Thriller      IanGamazon   \n",
              "5035  Action,Crime,Drama,Romance,Thriller  CarlosGallardo   \n",
              "5036                          Crime,Drama   RichardJewell   \n",
              "5037                         Comedy,Drama      KerryBishé   \n",
              "5042                          Documentary      JohnAugust   \n",
              "\n",
              "             actor_3_name content_rating       budget  imdb_score Action  ...  \\\n",
              "0                WesStudi          PG-13  237000000.0         7.9    1.0  ...   \n",
              "1           JackDavenport          PG-13  300000000.0         7.1    1.0  ...   \n",
              "2         StephanieSigman          PG-13  245000000.0         6.8    1.0  ...   \n",
              "3     JosephGordon-Levitt          PG-13  250000000.0         8.5    1.0  ...   \n",
              "5             PollyWalker          PG-13  263700000.0         6.6    1.0  ...   \n",
              "...                   ...            ...          ...         ...    ...  ...   \n",
              "5034             QuynnTon      Not Rated       7000.0         6.3      0  ...   \n",
              "5035        ConsueloGómez              R       7000.0         6.9      0  ...   \n",
              "5036        SaraStepnicka          PG-13       3250.0         7.8      0  ...   \n",
              "5037       DaniellaPineda      Not Rated       9000.0         6.4      0  ...   \n",
              "5042              JonGunn             PG       1100.0         6.6      0  ...   \n",
              "\n",
              "     Horror Music Musical Mystery Romance Sci-Fi Sport Thriller  War Western  \n",
              "0       0.0   0.0     0.0     0.0     0.0    1.0   0.0      0.0  0.0     0.0  \n",
              "1       0.0   0.0     0.0     0.0     0.0    0.0   0.0      0.0  0.0     0.0  \n",
              "2       0.0   0.0     0.0     0.0     0.0    0.0   0.0      1.0  0.0     0.0  \n",
              "3       0.0   0.0     0.0     0.0     0.0    0.0   0.0      1.0  0.0     0.0  \n",
              "5       0.0   0.0     0.0     0.0     1.0    0.0   0.0      0.0  0.0     0.0  \n",
              "...     ...   ...     ...     ...     ...    ...   ...      ...  ...     ...  \n",
              "5034      0     0       0       0       0      0     0        0    0       0  \n",
              "5035      0     0       0       0       0      0     0        0    0       0  \n",
              "5036      0     0       0       0       0      0     0        0    0       0  \n",
              "5037      0     0       0       0       0      0     0        0    0       0  \n",
              "5042      0     0       0       0       0      0     0        0    0       0  \n",
              "\n",
              "[4152 rows x 31 columns]"
            ],
            "text/html": [
              "\n",
              "  <div id=\"df-97642e2d-164c-43e9-b60c-c4be5e95e4d4\">\n",
              "    <div class=\"colab-df-container\">\n",
              "      <div>\n",
              "<style scoped>\n",
              "    .dataframe tbody tr th:only-of-type {\n",
              "        vertical-align: middle;\n",
              "    }\n",
              "\n",
              "    .dataframe tbody tr th {\n",
              "        vertical-align: top;\n",
              "    }\n",
              "\n",
              "    .dataframe thead th {\n",
              "        text-align: right;\n",
              "    }\n",
              "</style>\n",
              "<table border=\"1\" class=\"dataframe\">\n",
              "  <thead>\n",
              "    <tr style=\"text-align: right;\">\n",
              "      <th></th>\n",
              "      <th>director_name</th>\n",
              "      <th>duration</th>\n",
              "      <th>actor_2_name</th>\n",
              "      <th>genres</th>\n",
              "      <th>actor_1_name</th>\n",
              "      <th>actor_3_name</th>\n",
              "      <th>content_rating</th>\n",
              "      <th>budget</th>\n",
              "      <th>imdb_score</th>\n",
              "      <th>Action</th>\n",
              "      <th>...</th>\n",
              "      <th>Horror</th>\n",
              "      <th>Music</th>\n",
              "      <th>Musical</th>\n",
              "      <th>Mystery</th>\n",
              "      <th>Romance</th>\n",
              "      <th>Sci-Fi</th>\n",
              "      <th>Sport</th>\n",
              "      <th>Thriller</th>\n",
              "      <th>War</th>\n",
              "      <th>Western</th>\n",
              "    </tr>\n",
              "  </thead>\n",
              "  <tbody>\n",
              "    <tr>\n",
              "      <th>0</th>\n",
              "      <td>JamesCameron</td>\n",
              "      <td>178.0</td>\n",
              "      <td>JoelDavidMoore</td>\n",
              "      <td>Action,Adventure,Fantasy,Sci-Fi</td>\n",
              "      <td>CCHPounder</td>\n",
              "      <td>WesStudi</td>\n",
              "      <td>PG-13</td>\n",
              "      <td>237000000.0</td>\n",
              "      <td>7.9</td>\n",
              "      <td>1.0</td>\n",
              "      <td>...</td>\n",
              "      <td>0.0</td>\n",
              "      <td>0.0</td>\n",
              "      <td>0.0</td>\n",
              "      <td>0.0</td>\n",
              "      <td>0.0</td>\n",
              "      <td>1.0</td>\n",
              "      <td>0.0</td>\n",
              "      <td>0.0</td>\n",
              "      <td>0.0</td>\n",
              "      <td>0.0</td>\n",
              "    </tr>\n",
              "    <tr>\n",
              "      <th>1</th>\n",
              "      <td>GoreVerbinski</td>\n",
              "      <td>169.0</td>\n",
              "      <td>OrlandoBloom</td>\n",
              "      <td>Action,Adventure,Fantasy</td>\n",
              "      <td>JohnnyDepp</td>\n",
              "      <td>JackDavenport</td>\n",
              "      <td>PG-13</td>\n",
              "      <td>300000000.0</td>\n",
              "      <td>7.1</td>\n",
              "      <td>1.0</td>\n",
              "      <td>...</td>\n",
              "      <td>0.0</td>\n",
              "      <td>0.0</td>\n",
              "      <td>0.0</td>\n",
              "      <td>0.0</td>\n",
              "      <td>0.0</td>\n",
              "      <td>0.0</td>\n",
              "      <td>0.0</td>\n",
              "      <td>0.0</td>\n",
              "      <td>0.0</td>\n",
              "      <td>0.0</td>\n",
              "    </tr>\n",
              "    <tr>\n",
              "      <th>2</th>\n",
              "      <td>SamMendes</td>\n",
              "      <td>148.0</td>\n",
              "      <td>RoryKinnear</td>\n",
              "      <td>Action,Adventure,Thriller</td>\n",
              "      <td>ChristophWaltz</td>\n",
              "      <td>StephanieSigman</td>\n",
              "      <td>PG-13</td>\n",
              "      <td>245000000.0</td>\n",
              "      <td>6.8</td>\n",
              "      <td>1.0</td>\n",
              "      <td>...</td>\n",
              "      <td>0.0</td>\n",
              "      <td>0.0</td>\n",
              "      <td>0.0</td>\n",
              "      <td>0.0</td>\n",
              "      <td>0.0</td>\n",
              "      <td>0.0</td>\n",
              "      <td>0.0</td>\n",
              "      <td>1.0</td>\n",
              "      <td>0.0</td>\n",
              "      <td>0.0</td>\n",
              "    </tr>\n",
              "    <tr>\n",
              "      <th>3</th>\n",
              "      <td>ChristopherNolan</td>\n",
              "      <td>164.0</td>\n",
              "      <td>ChristianBale</td>\n",
              "      <td>Action,Thriller</td>\n",
              "      <td>TomHardy</td>\n",
              "      <td>JosephGordon-Levitt</td>\n",
              "      <td>PG-13</td>\n",
              "      <td>250000000.0</td>\n",
              "      <td>8.5</td>\n",
              "      <td>1.0</td>\n",
              "      <td>...</td>\n",
              "      <td>0.0</td>\n",
              "      <td>0.0</td>\n",
              "      <td>0.0</td>\n",
              "      <td>0.0</td>\n",
              "      <td>0.0</td>\n",
              "      <td>0.0</td>\n",
              "      <td>0.0</td>\n",
              "      <td>1.0</td>\n",
              "      <td>0.0</td>\n",
              "      <td>0.0</td>\n",
              "    </tr>\n",
              "    <tr>\n",
              "      <th>5</th>\n",
              "      <td>AndrewStanton</td>\n",
              "      <td>132.0</td>\n",
              "      <td>SamanthaMorton</td>\n",
              "      <td>Action,Adventure,Sci-Fi</td>\n",
              "      <td>DarylSabara</td>\n",
              "      <td>PollyWalker</td>\n",
              "      <td>PG-13</td>\n",
              "      <td>263700000.0</td>\n",
              "      <td>6.6</td>\n",
              "      <td>1.0</td>\n",
              "      <td>...</td>\n",
              "      <td>0.0</td>\n",
              "      <td>0.0</td>\n",
              "      <td>0.0</td>\n",
              "      <td>0.0</td>\n",
              "      <td>1.0</td>\n",
              "      <td>0.0</td>\n",
              "      <td>0.0</td>\n",
              "      <td>0.0</td>\n",
              "      <td>0.0</td>\n",
              "      <td>0.0</td>\n",
              "    </tr>\n",
              "    <tr>\n",
              "      <th>...</th>\n",
              "      <td>...</td>\n",
              "      <td>...</td>\n",
              "      <td>...</td>\n",
              "      <td>...</td>\n",
              "      <td>...</td>\n",
              "      <td>...</td>\n",
              "      <td>...</td>\n",
              "      <td>...</td>\n",
              "      <td>...</td>\n",
              "      <td>...</td>\n",
              "      <td>...</td>\n",
              "      <td>...</td>\n",
              "      <td>...</td>\n",
              "      <td>...</td>\n",
              "      <td>...</td>\n",
              "      <td>...</td>\n",
              "      <td>...</td>\n",
              "      <td>...</td>\n",
              "      <td>...</td>\n",
              "      <td>...</td>\n",
              "      <td>...</td>\n",
              "    </tr>\n",
              "    <tr>\n",
              "      <th>5034</th>\n",
              "      <td>NeillDelaLlana</td>\n",
              "      <td>80.0</td>\n",
              "      <td>EdgarTancangco</td>\n",
              "      <td>Thriller</td>\n",
              "      <td>IanGamazon</td>\n",
              "      <td>QuynnTon</td>\n",
              "      <td>Not Rated</td>\n",
              "      <td>7000.0</td>\n",
              "      <td>6.3</td>\n",
              "      <td>0</td>\n",
              "      <td>...</td>\n",
              "      <td>0</td>\n",
              "      <td>0</td>\n",
              "      <td>0</td>\n",
              "      <td>0</td>\n",
              "      <td>0</td>\n",
              "      <td>0</td>\n",
              "      <td>0</td>\n",
              "      <td>0</td>\n",
              "      <td>0</td>\n",
              "      <td>0</td>\n",
              "    </tr>\n",
              "    <tr>\n",
              "      <th>5035</th>\n",
              "      <td>RobertRodriguez</td>\n",
              "      <td>81.0</td>\n",
              "      <td>PeterMarquardt</td>\n",
              "      <td>Action,Crime,Drama,Romance,Thriller</td>\n",
              "      <td>CarlosGallardo</td>\n",
              "      <td>ConsueloGómez</td>\n",
              "      <td>R</td>\n",
              "      <td>7000.0</td>\n",
              "      <td>6.9</td>\n",
              "      <td>0</td>\n",
              "      <td>...</td>\n",
              "      <td>0</td>\n",
              "      <td>0</td>\n",
              "      <td>0</td>\n",
              "      <td>0</td>\n",
              "      <td>0</td>\n",
              "      <td>0</td>\n",
              "      <td>0</td>\n",
              "      <td>0</td>\n",
              "      <td>0</td>\n",
              "      <td>0</td>\n",
              "    </tr>\n",
              "    <tr>\n",
              "      <th>5036</th>\n",
              "      <td>AnthonyVallone</td>\n",
              "      <td>84.0</td>\n",
              "      <td>JohnConsidine</td>\n",
              "      <td>Crime,Drama</td>\n",
              "      <td>RichardJewell</td>\n",
              "      <td>SaraStepnicka</td>\n",
              "      <td>PG-13</td>\n",
              "      <td>3250.0</td>\n",
              "      <td>7.8</td>\n",
              "      <td>0</td>\n",
              "      <td>...</td>\n",
              "      <td>0</td>\n",
              "      <td>0</td>\n",
              "      <td>0</td>\n",
              "      <td>0</td>\n",
              "      <td>0</td>\n",
              "      <td>0</td>\n",
              "      <td>0</td>\n",
              "      <td>0</td>\n",
              "      <td>0</td>\n",
              "      <td>0</td>\n",
              "    </tr>\n",
              "    <tr>\n",
              "      <th>5037</th>\n",
              "      <td>EdwardBurns</td>\n",
              "      <td>95.0</td>\n",
              "      <td>CaitlinFitzGerald</td>\n",
              "      <td>Comedy,Drama</td>\n",
              "      <td>KerryBishé</td>\n",
              "      <td>DaniellaPineda</td>\n",
              "      <td>Not Rated</td>\n",
              "      <td>9000.0</td>\n",
              "      <td>6.4</td>\n",
              "      <td>0</td>\n",
              "      <td>...</td>\n",
              "      <td>0</td>\n",
              "      <td>0</td>\n",
              "      <td>0</td>\n",
              "      <td>0</td>\n",
              "      <td>0</td>\n",
              "      <td>0</td>\n",
              "      <td>0</td>\n",
              "      <td>0</td>\n",
              "      <td>0</td>\n",
              "      <td>0</td>\n",
              "    </tr>\n",
              "    <tr>\n",
              "      <th>5042</th>\n",
              "      <td>JonGunn</td>\n",
              "      <td>90.0</td>\n",
              "      <td>BrianHerzlinger</td>\n",
              "      <td>Documentary</td>\n",
              "      <td>JohnAugust</td>\n",
              "      <td>JonGunn</td>\n",
              "      <td>PG</td>\n",
              "      <td>1100.0</td>\n",
              "      <td>6.6</td>\n",
              "      <td>0</td>\n",
              "      <td>...</td>\n",
              "      <td>0</td>\n",
              "      <td>0</td>\n",
              "      <td>0</td>\n",
              "      <td>0</td>\n",
              "      <td>0</td>\n",
              "      <td>0</td>\n",
              "      <td>0</td>\n",
              "      <td>0</td>\n",
              "      <td>0</td>\n",
              "      <td>0</td>\n",
              "    </tr>\n",
              "  </tbody>\n",
              "</table>\n",
              "<p>4152 rows × 31 columns</p>\n",
              "</div>\n",
              "      <button class=\"colab-df-convert\" onclick=\"convertToInteractive('df-97642e2d-164c-43e9-b60c-c4be5e95e4d4')\"\n",
              "              title=\"Convert this dataframe to an interactive table.\"\n",
              "              style=\"display:none;\">\n",
              "        \n",
              "  <svg xmlns=\"http://www.w3.org/2000/svg\" height=\"24px\"viewBox=\"0 0 24 24\"\n",
              "       width=\"24px\">\n",
              "    <path d=\"M0 0h24v24H0V0z\" fill=\"none\"/>\n",
              "    <path d=\"M18.56 5.44l.94 2.06.94-2.06 2.06-.94-2.06-.94-.94-2.06-.94 2.06-2.06.94zm-11 1L8.5 8.5l.94-2.06 2.06-.94-2.06-.94L8.5 2.5l-.94 2.06-2.06.94zm10 10l.94 2.06.94-2.06 2.06-.94-2.06-.94-.94-2.06-.94 2.06-2.06.94z\"/><path d=\"M17.41 7.96l-1.37-1.37c-.4-.4-.92-.59-1.43-.59-.52 0-1.04.2-1.43.59L10.3 9.45l-7.72 7.72c-.78.78-.78 2.05 0 2.83L4 21.41c.39.39.9.59 1.41.59.51 0 1.02-.2 1.41-.59l7.78-7.78 2.81-2.81c.8-.78.8-2.07 0-2.86zM5.41 20L4 18.59l7.72-7.72 1.47 1.35L5.41 20z\"/>\n",
              "  </svg>\n",
              "      </button>\n",
              "      \n",
              "  <style>\n",
              "    .colab-df-container {\n",
              "      display:flex;\n",
              "      flex-wrap:wrap;\n",
              "      gap: 12px;\n",
              "    }\n",
              "\n",
              "    .colab-df-convert {\n",
              "      background-color: #E8F0FE;\n",
              "      border: none;\n",
              "      border-radius: 50%;\n",
              "      cursor: pointer;\n",
              "      display: none;\n",
              "      fill: #1967D2;\n",
              "      height: 32px;\n",
              "      padding: 0 0 0 0;\n",
              "      width: 32px;\n",
              "    }\n",
              "\n",
              "    .colab-df-convert:hover {\n",
              "      background-color: #E2EBFA;\n",
              "      box-shadow: 0px 1px 2px rgba(60, 64, 67, 0.3), 0px 1px 3px 1px rgba(60, 64, 67, 0.15);\n",
              "      fill: #174EA6;\n",
              "    }\n",
              "\n",
              "    [theme=dark] .colab-df-convert {\n",
              "      background-color: #3B4455;\n",
              "      fill: #D2E3FC;\n",
              "    }\n",
              "\n",
              "    [theme=dark] .colab-df-convert:hover {\n",
              "      background-color: #434B5C;\n",
              "      box-shadow: 0px 1px 3px 1px rgba(0, 0, 0, 0.15);\n",
              "      filter: drop-shadow(0px 1px 2px rgba(0, 0, 0, 0.3));\n",
              "      fill: #FFFFFF;\n",
              "    }\n",
              "  </style>\n",
              "\n",
              "      <script>\n",
              "        const buttonEl =\n",
              "          document.querySelector('#df-97642e2d-164c-43e9-b60c-c4be5e95e4d4 button.colab-df-convert');\n",
              "        buttonEl.style.display =\n",
              "          google.colab.kernel.accessAllowed ? 'block' : 'none';\n",
              "\n",
              "        async function convertToInteractive(key) {\n",
              "          const element = document.querySelector('#df-97642e2d-164c-43e9-b60c-c4be5e95e4d4');\n",
              "          const dataTable =\n",
              "            await google.colab.kernel.invokeFunction('convertToInteractive',\n",
              "                                                     [key], {});\n",
              "          if (!dataTable) return;\n",
              "\n",
              "          const docLinkHtml = 'Like what you see? Visit the ' +\n",
              "            '<a target=\"_blank\" href=https://colab.research.google.com/notebooks/data_table.ipynb>data table notebook</a>'\n",
              "            + ' to learn more about interactive tables.';\n",
              "          element.innerHTML = '';\n",
              "          dataTable['output_type'] = 'display_data';\n",
              "          await google.colab.output.renderOutput(dataTable, element);\n",
              "          const docLink = document.createElement('div');\n",
              "          docLink.innerHTML = docLinkHtml;\n",
              "          element.appendChild(docLink);\n",
              "        }\n",
              "      </script>\n",
              "    </div>\n",
              "  </div>\n",
              "  "
            ]
          },
          "metadata": {},
          "execution_count": 359
        }
      ]
    },
    {
      "cell_type": "code",
      "source": [
        "df1.dtypes"
      ],
      "metadata": {
        "colab": {
          "base_uri": "https://localhost:8080/"
        },
        "id": "LeAixwv66-SN",
        "outputId": "4c226076-aa74-4f66-e6fd-b2faa7a31abe"
      },
      "execution_count": 360,
      "outputs": [
        {
          "output_type": "execute_result",
          "data": {
            "text/plain": [
              "director_name      object\n",
              "duration          float64\n",
              "actor_2_name       object\n",
              "genres             object\n",
              "actor_1_name       object\n",
              "actor_3_name       object\n",
              "content_rating     object\n",
              "budget            float64\n",
              "imdb_score        float64\n",
              "Action             object\n",
              "Adventure          object\n",
              "Animation          object\n",
              "Biography          object\n",
              "Comedy             object\n",
              "Crime              object\n",
              "Documentary        object\n",
              "Drama              object\n",
              "Family             object\n",
              "Fantasy            object\n",
              "Film-Noir          object\n",
              "History            object\n",
              "Horror             object\n",
              "Music              object\n",
              "Musical            object\n",
              "Mystery            object\n",
              "Romance            object\n",
              "Sci-Fi             object\n",
              "Sport              object\n",
              "Thriller           object\n",
              "War                object\n",
              "Western            object\n",
              "dtype: object"
            ]
          },
          "metadata": {},
          "execution_count": 360
        }
      ]
    },
    {
      "cell_type": "code",
      "source": [
        "df = df1"
      ],
      "metadata": {
        "id": "FbVgNa_U9qhc"
      },
      "execution_count": 361,
      "outputs": []
    },
    {
      "cell_type": "code",
      "source": [
        "df.drop('genres',axis=1,inplace=True)"
      ],
      "metadata": {
        "id": "fCJtEX4C-Jb_"
      },
      "execution_count": 362,
      "outputs": []
    },
    {
      "cell_type": "markdown",
      "source": [
        "## Binning Movies' Budget"
      ],
      "metadata": {
        "id": "sGyHkt6P9jhZ"
      }
    },
    {
      "cell_type": "code",
      "source": [
        "df['budget_binned'] = pd.qcut(df['budget'], q=4)"
      ],
      "metadata": {
        "id": "79HQr5nfAkIX"
      },
      "execution_count": 363,
      "outputs": []
    },
    {
      "cell_type": "code",
      "source": [
        "df['budget_binned'] .value_counts()"
      ],
      "metadata": {
        "colab": {
          "base_uri": "https://localhost:8080/"
        },
        "id": "tK5Z9E-eBDOx",
        "outputId": "dfeca79a-79f9-45c7-b9f9-71a899e561c8"
      },
      "execution_count": 364,
      "outputs": [
        {
          "output_type": "execute_result",
          "data": {
            "text/plain": [
              "(7500000.0, 20000000.0]        1077\n",
              "(217.999, 7500000.0]           1053\n",
              "(45000000.0, 12215500000.0]    1026\n",
              "(20000000.0, 45000000.0]        996\n",
              "Name: budget_binned, dtype: int64"
            ]
          },
          "metadata": {},
          "execution_count": 364
        }
      ]
    },
    {
      "cell_type": "code",
      "source": [
        "df.drop('budget',axis=1,inplace=True)"
      ],
      "metadata": {
        "id": "q33m5ur5BZ4w"
      },
      "execution_count": 365,
      "outputs": []
    },
    {
      "cell_type": "code",
      "source": [
        "df.dtypes"
      ],
      "metadata": {
        "colab": {
          "base_uri": "https://localhost:8080/"
        },
        "id": "5FJXlXsb_V3C",
        "outputId": "4c8124d5-a550-4050-ab45-35afe8a47ba3"
      },
      "execution_count": 366,
      "outputs": [
        {
          "output_type": "execute_result",
          "data": {
            "text/plain": [
              "director_name       object\n",
              "duration           float64\n",
              "actor_2_name        object\n",
              "actor_1_name        object\n",
              "actor_3_name        object\n",
              "content_rating      object\n",
              "imdb_score         float64\n",
              "Action              object\n",
              "Adventure           object\n",
              "Animation           object\n",
              "Biography           object\n",
              "Comedy              object\n",
              "Crime               object\n",
              "Documentary         object\n",
              "Drama               object\n",
              "Family              object\n",
              "Fantasy             object\n",
              "Film-Noir           object\n",
              "History             object\n",
              "Horror              object\n",
              "Music               object\n",
              "Musical             object\n",
              "Mystery             object\n",
              "Romance             object\n",
              "Sci-Fi              object\n",
              "Sport               object\n",
              "Thriller            object\n",
              "War                 object\n",
              "Western             object\n",
              "budget_binned     category\n",
              "dtype: object"
            ]
          },
          "metadata": {},
          "execution_count": 366
        }
      ]
    },
    {
      "cell_type": "markdown",
      "source": [
        "## Binning Movies' Duration"
      ],
      "metadata": {
        "id": "Y3W5RbPrBq5_"
      }
    },
    {
      "cell_type": "code",
      "source": [
        "df['duration_binned'] = pd.qcut(df['duration'], q=4)"
      ],
      "metadata": {
        "id": "eczBwfULBq6A"
      },
      "execution_count": 367,
      "outputs": []
    },
    {
      "cell_type": "code",
      "source": [
        "df['duration_binned'] .value_counts()"
      ],
      "metadata": {
        "colab": {
          "base_uri": "https://localhost:8080/"
        },
        "outputId": "eb646be5-350f-42b1-d3b7-03076c5c12fc",
        "id": "_huA2rnmBq6A"
      },
      "execution_count": 368,
      "outputs": [
        {
          "output_type": "execute_result",
          "data": {
            "text/plain": [
              "(19.999, 95.0]    1128\n",
              "(119.0, 330.0]    1020\n",
              "(95.0, 105.0]     1004\n",
              "(105.0, 119.0]    1000\n",
              "Name: duration_binned, dtype: int64"
            ]
          },
          "metadata": {},
          "execution_count": 368
        }
      ]
    },
    {
      "cell_type": "code",
      "source": [
        "df.drop('duration',axis=1,inplace=True)"
      ],
      "metadata": {
        "id": "B2wn7ltkBq6A"
      },
      "execution_count": 369,
      "outputs": []
    },
    {
      "cell_type": "code",
      "source": [
        "df.dtypes"
      ],
      "metadata": {
        "colab": {
          "base_uri": "https://localhost:8080/"
        },
        "outputId": "a06ebfe9-1258-4943-ecfc-eb985824da59",
        "id": "4JeypuD1Bq6A"
      },
      "execution_count": 370,
      "outputs": [
        {
          "output_type": "execute_result",
          "data": {
            "text/plain": [
              "director_name        object\n",
              "actor_2_name         object\n",
              "actor_1_name         object\n",
              "actor_3_name         object\n",
              "content_rating       object\n",
              "imdb_score          float64\n",
              "Action               object\n",
              "Adventure            object\n",
              "Animation            object\n",
              "Biography            object\n",
              "Comedy               object\n",
              "Crime                object\n",
              "Documentary          object\n",
              "Drama                object\n",
              "Family               object\n",
              "Fantasy              object\n",
              "Film-Noir            object\n",
              "History              object\n",
              "Horror               object\n",
              "Music                object\n",
              "Musical              object\n",
              "Mystery              object\n",
              "Romance              object\n",
              "Sci-Fi               object\n",
              "Sport                object\n",
              "Thriller             object\n",
              "War                  object\n",
              "Western              object\n",
              "budget_binned      category\n",
              "duration_binned    category\n",
              "dtype: object"
            ]
          },
          "metadata": {},
          "execution_count": 370
        }
      ]
    },
    {
      "cell_type": "markdown",
      "source": [
        "## Binning Movies' Score"
      ],
      "metadata": {
        "id": "Eb-1nlA3B74S"
      }
    },
    {
      "cell_type": "code",
      "source": [
        "df['score_binned'] = pd.qcut(df['imdb_score'], q=4)"
      ],
      "metadata": {
        "id": "JwK9CAiWB74S"
      },
      "execution_count": 371,
      "outputs": []
    },
    {
      "cell_type": "code",
      "source": [
        "df['score_binned'] .value_counts()"
      ],
      "metadata": {
        "colab": {
          "base_uri": "https://localhost:8080/"
        },
        "outputId": "22e24b33-72fe-4c9a-a54c-607cb9b3e69a",
        "id": "yuO2HIpnB74T"
      },
      "execution_count": 372,
      "outputs": [
        {
          "output_type": "execute_result",
          "data": {
            "text/plain": [
              "(6.55, 7.2]                  1122\n",
              "(1.5990000000000002, 5.8]    1065\n",
              "(5.8, 6.55]                  1011\n",
              "(7.2, 9.3]                    954\n",
              "Name: score_binned, dtype: int64"
            ]
          },
          "metadata": {},
          "execution_count": 372
        }
      ]
    },
    {
      "cell_type": "code",
      "source": [
        "df.drop('imdb_score',axis=1,inplace=True)"
      ],
      "metadata": {
        "id": "rc5pQd5MB74T"
      },
      "execution_count": 373,
      "outputs": []
    },
    {
      "cell_type": "code",
      "source": [
        "df.dtypes"
      ],
      "metadata": {
        "colab": {
          "base_uri": "https://localhost:8080/"
        },
        "outputId": "93898652-f5f4-4503-ace9-25609701ba38",
        "id": "ZNDp0NjiB74T"
      },
      "execution_count": 374,
      "outputs": [
        {
          "output_type": "execute_result",
          "data": {
            "text/plain": [
              "director_name        object\n",
              "actor_2_name         object\n",
              "actor_1_name         object\n",
              "actor_3_name         object\n",
              "content_rating       object\n",
              "Action               object\n",
              "Adventure            object\n",
              "Animation            object\n",
              "Biography            object\n",
              "Comedy               object\n",
              "Crime                object\n",
              "Documentary          object\n",
              "Drama                object\n",
              "Family               object\n",
              "Fantasy              object\n",
              "Film-Noir            object\n",
              "History              object\n",
              "Horror               object\n",
              "Music                object\n",
              "Musical              object\n",
              "Mystery              object\n",
              "Romance              object\n",
              "Sci-Fi               object\n",
              "Sport                object\n",
              "Thriller             object\n",
              "War                  object\n",
              "Western              object\n",
              "budget_binned      category\n",
              "duration_binned    category\n",
              "score_binned       category\n",
              "dtype: object"
            ]
          },
          "metadata": {},
          "execution_count": 374
        }
      ]
    },
    {
      "cell_type": "markdown",
      "source": [
        "# Splitting the data into training and test data"
      ],
      "metadata": {
        "id": "iGtPxQ6ZjE5w"
      }
    },
    {
      "cell_type": "code",
      "source": [
        "df.columns"
      ],
      "metadata": {
        "colab": {
          "base_uri": "https://localhost:8080/"
        },
        "id": "DkQis0OMDGmi",
        "outputId": "576d56b6-73a8-4359-9bab-f45432b0aecc"
      },
      "execution_count": 375,
      "outputs": [
        {
          "output_type": "execute_result",
          "data": {
            "text/plain": [
              "Index(['director_name', 'actor_2_name', 'actor_1_name', 'actor_3_name',\n",
              "       'content_rating', 'Action', 'Adventure', 'Animation', 'Biography',\n",
              "       'Comedy', 'Crime', 'Documentary', 'Drama', 'Family', 'Fantasy',\n",
              "       'Film-Noir', 'History', 'Horror', 'Music', 'Musical', 'Mystery',\n",
              "       'Romance', 'Sci-Fi', 'Sport', 'Thriller', 'War', 'Western',\n",
              "       'budget_binned', 'duration_binned', 'score_binned'],\n",
              "      dtype='object')"
            ]
          },
          "metadata": {},
          "execution_count": 375
        }
      ]
    },
    {
      "cell_type": "code",
      "source": [
        "X=pd.DataFrame(columns=['director_name', 'actor_2_name', 'actor_1_name', 'actor_3_name',\n",
        "       'content_rating', 'Action', 'Adventure', 'Animation', 'Biography',\n",
        "       'Comedy', 'Crime', 'Documentary', 'Drama', 'Family', 'Fantasy',\n",
        "       'Film-Noir', 'History', 'Horror', 'Music', 'Musical', 'Mystery',\n",
        "       'Romance', 'Sci-Fi', 'Sport', 'Thriller', 'War', 'Western',\n",
        "       'budget_binned', 'duration_binned'] ,data=df)\n",
        "y=pd.DataFrame(columns=['score_binned'],data=df)"
      ],
      "metadata": {
        "id": "_8_t3kZrWuAH"
      },
      "execution_count": 376,
      "outputs": []
    },
    {
      "cell_type": "code",
      "source": [
        "from sklearn.model_selection import train_test_split\n",
        "X_train, X_test, y_train, y_test=train_test_split(X,y,test_size=0.3,random_state=100)"
      ],
      "metadata": {
        "id": "5N7OUKQsvJ6E"
      },
      "execution_count": 377,
      "outputs": []
    },
    {
      "cell_type": "markdown",
      "source": [
        "# Model"
      ],
      "metadata": {
        "id": "OLE1EsV2JiSX"
      }
    },
    {
      "cell_type": "code",
      "source": [
        "from sklearn.preprocessing import LabelEncoder\n",
        "from sklearn import model_selection, svm\n",
        "from sklearn.metrics import accuracy_score"
      ],
      "metadata": {
        "id": "V4a9ZXXrNQ-d"
      },
      "execution_count": 378,
      "outputs": []
    },
    {
      "cell_type": "code",
      "source": [
        "Encoder = LabelEncoder()"
      ],
      "metadata": {
        "id": "B-sIE40TOpyK"
      },
      "execution_count": 379,
      "outputs": []
    },
    {
      "cell_type": "code",
      "source": [
        "y_train = Encoder.fit_transform(y_train)\n",
        "y_test = Encoder.fit_transform(y_test)"
      ],
      "metadata": {
        "id": "86TsGOh7OvJK"
      },
      "execution_count": 380,
      "outputs": []
    },
    {
      "cell_type": "code",
      "source": [
        "SVM = svm.SVC(C=1.0, kernel='linear', degree=3, gamma='auto')\n",
        "SVM.fit(X_train,y_train)\n",
        "# predict labels\n",
        "predictions_SVM = SVM.predict(X_test)\n",
        "# get the accuracy\n",
        "print(\"Accuracy: \",accuracy_score(predictions_SVM, y_test)*100)"
      ],
      "metadata": {
        "colab": {
          "base_uri": "https://localhost:8080/",
          "height": 392
        },
        "id": "-7XYI1XqO5V3",
        "outputId": "f5a1ba0b-0877-403f-f7e1-5998c0e49058"
      },
      "execution_count": 381,
      "outputs": [
        {
          "output_type": "error",
          "ename": "ValueError",
          "evalue": "ignored",
          "traceback": [
            "\u001b[0;31m---------------------------------------------------------------------------\u001b[0m",
            "\u001b[0;31mValueError\u001b[0m                                Traceback (most recent call last)",
            "\u001b[0;32m<ipython-input-381-de4a53e787f7>\u001b[0m in \u001b[0;36m<module>\u001b[0;34m()\u001b[0m\n\u001b[1;32m      1\u001b[0m \u001b[0mSVM\u001b[0m \u001b[0;34m=\u001b[0m \u001b[0msvm\u001b[0m\u001b[0;34m.\u001b[0m\u001b[0mSVC\u001b[0m\u001b[0;34m(\u001b[0m\u001b[0mC\u001b[0m\u001b[0;34m=\u001b[0m\u001b[0;36m1.0\u001b[0m\u001b[0;34m,\u001b[0m \u001b[0mkernel\u001b[0m\u001b[0;34m=\u001b[0m\u001b[0;34m'linear'\u001b[0m\u001b[0;34m,\u001b[0m \u001b[0mdegree\u001b[0m\u001b[0;34m=\u001b[0m\u001b[0;36m3\u001b[0m\u001b[0;34m,\u001b[0m \u001b[0mgamma\u001b[0m\u001b[0;34m=\u001b[0m\u001b[0;34m'auto'\u001b[0m\u001b[0;34m)\u001b[0m\u001b[0;34m\u001b[0m\u001b[0;34m\u001b[0m\u001b[0m\n\u001b[0;32m----> 2\u001b[0;31m \u001b[0mSVM\u001b[0m\u001b[0;34m.\u001b[0m\u001b[0mfit\u001b[0m\u001b[0;34m(\u001b[0m\u001b[0mX_train\u001b[0m\u001b[0;34m,\u001b[0m\u001b[0my_train\u001b[0m\u001b[0;34m)\u001b[0m\u001b[0;34m\u001b[0m\u001b[0;34m\u001b[0m\u001b[0m\n\u001b[0m\u001b[1;32m      3\u001b[0m \u001b[0;31m# predict labels\u001b[0m\u001b[0;34m\u001b[0m\u001b[0;34m\u001b[0m\u001b[0;34m\u001b[0m\u001b[0m\n\u001b[1;32m      4\u001b[0m \u001b[0mpredictions_SVM\u001b[0m \u001b[0;34m=\u001b[0m \u001b[0mSVM\u001b[0m\u001b[0;34m.\u001b[0m\u001b[0mpredict\u001b[0m\u001b[0;34m(\u001b[0m\u001b[0mX_test\u001b[0m\u001b[0;34m)\u001b[0m\u001b[0;34m\u001b[0m\u001b[0;34m\u001b[0m\u001b[0m\n\u001b[1;32m      5\u001b[0m \u001b[0;31m# get the accuracy\u001b[0m\u001b[0;34m\u001b[0m\u001b[0;34m\u001b[0m\u001b[0;34m\u001b[0m\u001b[0m\n",
            "\u001b[0;32m/usr/local/lib/python3.7/dist-packages/sklearn/svm/_base.py\u001b[0m in \u001b[0;36mfit\u001b[0;34m(self, X, y, sample_weight)\u001b[0m\n\u001b[1;32m    194\u001b[0m                 \u001b[0morder\u001b[0m\u001b[0;34m=\u001b[0m\u001b[0;34m\"C\"\u001b[0m\u001b[0;34m,\u001b[0m\u001b[0;34m\u001b[0m\u001b[0;34m\u001b[0m\u001b[0m\n\u001b[1;32m    195\u001b[0m                 \u001b[0maccept_sparse\u001b[0m\u001b[0;34m=\u001b[0m\u001b[0;34m\"csr\"\u001b[0m\u001b[0;34m,\u001b[0m\u001b[0;34m\u001b[0m\u001b[0;34m\u001b[0m\u001b[0m\n\u001b[0;32m--> 196\u001b[0;31m                 \u001b[0maccept_large_sparse\u001b[0m\u001b[0;34m=\u001b[0m\u001b[0;32mFalse\u001b[0m\u001b[0;34m,\u001b[0m\u001b[0;34m\u001b[0m\u001b[0;34m\u001b[0m\u001b[0m\n\u001b[0m\u001b[1;32m    197\u001b[0m             )\n\u001b[1;32m    198\u001b[0m \u001b[0;34m\u001b[0m\u001b[0m\n",
            "\u001b[0;32m/usr/local/lib/python3.7/dist-packages/sklearn/base.py\u001b[0m in \u001b[0;36m_validate_data\u001b[0;34m(self, X, y, reset, validate_separately, **check_params)\u001b[0m\n\u001b[1;32m    579\u001b[0m                 \u001b[0my\u001b[0m \u001b[0;34m=\u001b[0m \u001b[0mcheck_array\u001b[0m\u001b[0;34m(\u001b[0m\u001b[0my\u001b[0m\u001b[0;34m,\u001b[0m \u001b[0;34m**\u001b[0m\u001b[0mcheck_y_params\u001b[0m\u001b[0;34m)\u001b[0m\u001b[0;34m\u001b[0m\u001b[0;34m\u001b[0m\u001b[0m\n\u001b[1;32m    580\u001b[0m             \u001b[0;32melse\u001b[0m\u001b[0;34m:\u001b[0m\u001b[0;34m\u001b[0m\u001b[0;34m\u001b[0m\u001b[0m\n\u001b[0;32m--> 581\u001b[0;31m                 \u001b[0mX\u001b[0m\u001b[0;34m,\u001b[0m \u001b[0my\u001b[0m \u001b[0;34m=\u001b[0m \u001b[0mcheck_X_y\u001b[0m\u001b[0;34m(\u001b[0m\u001b[0mX\u001b[0m\u001b[0;34m,\u001b[0m \u001b[0my\u001b[0m\u001b[0;34m,\u001b[0m \u001b[0;34m**\u001b[0m\u001b[0mcheck_params\u001b[0m\u001b[0;34m)\u001b[0m\u001b[0;34m\u001b[0m\u001b[0;34m\u001b[0m\u001b[0m\n\u001b[0m\u001b[1;32m    582\u001b[0m             \u001b[0mout\u001b[0m \u001b[0;34m=\u001b[0m \u001b[0mX\u001b[0m\u001b[0;34m,\u001b[0m \u001b[0my\u001b[0m\u001b[0;34m\u001b[0m\u001b[0;34m\u001b[0m\u001b[0m\n\u001b[1;32m    583\u001b[0m \u001b[0;34m\u001b[0m\u001b[0m\n",
            "\u001b[0;32m/usr/local/lib/python3.7/dist-packages/sklearn/utils/validation.py\u001b[0m in \u001b[0;36mcheck_X_y\u001b[0;34m(X, y, accept_sparse, accept_large_sparse, dtype, order, copy, force_all_finite, ensure_2d, allow_nd, multi_output, ensure_min_samples, ensure_min_features, y_numeric, estimator)\u001b[0m\n\u001b[1;32m    974\u001b[0m         \u001b[0mensure_min_samples\u001b[0m\u001b[0;34m=\u001b[0m\u001b[0mensure_min_samples\u001b[0m\u001b[0;34m,\u001b[0m\u001b[0;34m\u001b[0m\u001b[0;34m\u001b[0m\u001b[0m\n\u001b[1;32m    975\u001b[0m         \u001b[0mensure_min_features\u001b[0m\u001b[0;34m=\u001b[0m\u001b[0mensure_min_features\u001b[0m\u001b[0;34m,\u001b[0m\u001b[0;34m\u001b[0m\u001b[0;34m\u001b[0m\u001b[0m\n\u001b[0;32m--> 976\u001b[0;31m         \u001b[0mestimator\u001b[0m\u001b[0;34m=\u001b[0m\u001b[0mestimator\u001b[0m\u001b[0;34m,\u001b[0m\u001b[0;34m\u001b[0m\u001b[0;34m\u001b[0m\u001b[0m\n\u001b[0m\u001b[1;32m    977\u001b[0m     )\n\u001b[1;32m    978\u001b[0m \u001b[0;34m\u001b[0m\u001b[0m\n",
            "\u001b[0;32m/usr/local/lib/python3.7/dist-packages/sklearn/utils/validation.py\u001b[0m in \u001b[0;36mcheck_array\u001b[0;34m(array, accept_sparse, accept_large_sparse, dtype, order, copy, force_all_finite, ensure_2d, allow_nd, ensure_min_samples, ensure_min_features, estimator)\u001b[0m\n\u001b[1;32m    744\u001b[0m                     \u001b[0marray\u001b[0m \u001b[0;34m=\u001b[0m \u001b[0marray\u001b[0m\u001b[0;34m.\u001b[0m\u001b[0mastype\u001b[0m\u001b[0;34m(\u001b[0m\u001b[0mdtype\u001b[0m\u001b[0;34m,\u001b[0m \u001b[0mcasting\u001b[0m\u001b[0;34m=\u001b[0m\u001b[0;34m\"unsafe\"\u001b[0m\u001b[0;34m,\u001b[0m \u001b[0mcopy\u001b[0m\u001b[0;34m=\u001b[0m\u001b[0;32mFalse\u001b[0m\u001b[0;34m)\u001b[0m\u001b[0;34m\u001b[0m\u001b[0;34m\u001b[0m\u001b[0m\n\u001b[1;32m    745\u001b[0m                 \u001b[0;32melse\u001b[0m\u001b[0;34m:\u001b[0m\u001b[0;34m\u001b[0m\u001b[0;34m\u001b[0m\u001b[0m\n\u001b[0;32m--> 746\u001b[0;31m                     \u001b[0marray\u001b[0m \u001b[0;34m=\u001b[0m \u001b[0mnp\u001b[0m\u001b[0;34m.\u001b[0m\u001b[0masarray\u001b[0m\u001b[0;34m(\u001b[0m\u001b[0marray\u001b[0m\u001b[0;34m,\u001b[0m \u001b[0morder\u001b[0m\u001b[0;34m=\u001b[0m\u001b[0morder\u001b[0m\u001b[0;34m,\u001b[0m \u001b[0mdtype\u001b[0m\u001b[0;34m=\u001b[0m\u001b[0mdtype\u001b[0m\u001b[0;34m)\u001b[0m\u001b[0;34m\u001b[0m\u001b[0;34m\u001b[0m\u001b[0m\n\u001b[0m\u001b[1;32m    747\u001b[0m             \u001b[0;32mexcept\u001b[0m \u001b[0mComplexWarning\u001b[0m \u001b[0;32mas\u001b[0m \u001b[0mcomplex_warning\u001b[0m\u001b[0;34m:\u001b[0m\u001b[0;34m\u001b[0m\u001b[0;34m\u001b[0m\u001b[0m\n\u001b[1;32m    748\u001b[0m                 raise ValueError(\n",
            "\u001b[0;32m/usr/local/lib/python3.7/dist-packages/pandas/core/generic.py\u001b[0m in \u001b[0;36m__array__\u001b[0;34m(self, dtype)\u001b[0m\n\u001b[1;32m   1991\u001b[0m \u001b[0;34m\u001b[0m\u001b[0m\n\u001b[1;32m   1992\u001b[0m     \u001b[0;32mdef\u001b[0m \u001b[0m__array__\u001b[0m\u001b[0;34m(\u001b[0m\u001b[0mself\u001b[0m\u001b[0;34m,\u001b[0m \u001b[0mdtype\u001b[0m\u001b[0;34m:\u001b[0m \u001b[0mNpDtype\u001b[0m \u001b[0;34m|\u001b[0m \u001b[0;32mNone\u001b[0m \u001b[0;34m=\u001b[0m \u001b[0;32mNone\u001b[0m\u001b[0;34m)\u001b[0m \u001b[0;34m->\u001b[0m \u001b[0mnp\u001b[0m\u001b[0;34m.\u001b[0m\u001b[0mndarray\u001b[0m\u001b[0;34m:\u001b[0m\u001b[0;34m\u001b[0m\u001b[0;34m\u001b[0m\u001b[0m\n\u001b[0;32m-> 1993\u001b[0;31m         \u001b[0;32mreturn\u001b[0m \u001b[0mnp\u001b[0m\u001b[0;34m.\u001b[0m\u001b[0masarray\u001b[0m\u001b[0;34m(\u001b[0m\u001b[0mself\u001b[0m\u001b[0;34m.\u001b[0m\u001b[0m_values\u001b[0m\u001b[0;34m,\u001b[0m \u001b[0mdtype\u001b[0m\u001b[0;34m=\u001b[0m\u001b[0mdtype\u001b[0m\u001b[0;34m)\u001b[0m\u001b[0;34m\u001b[0m\u001b[0;34m\u001b[0m\u001b[0m\n\u001b[0m\u001b[1;32m   1994\u001b[0m \u001b[0;34m\u001b[0m\u001b[0m\n\u001b[1;32m   1995\u001b[0m     def __array_wrap__(\n",
            "\u001b[0;31mValueError\u001b[0m: could not convert string to float: 'RichardAttenborough'"
          ]
        }
      ]
    }
  ]
}