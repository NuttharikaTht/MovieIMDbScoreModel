{
  "nbformat": 4,
  "nbformat_minor": 0,
  "metadata": {
    "colab": {
      "name": "model.ipynb",
      "provenance": [],
      "collapsed_sections": [],
      "authorship_tag": "ABX9TyMqqkSWNWomQds/pw+F8Ce6",
      "include_colab_link": true
    },
    "kernelspec": {
      "name": "python3",
      "display_name": "Python 3"
    },
    "language_info": {
      "name": "python"
    }
  },
  "cells": [
    {
      "cell_type": "markdown",
      "metadata": {
        "id": "view-in-github",
        "colab_type": "text"
      },
      "source": [
        "<a href=\"https://colab.research.google.com/github/NuttharikaTht/MovieIMDbScoreModel/blob/main/model.ipynb\" target=\"_parent\"><img src=\"https://colab.research.google.com/assets/colab-badge.svg\" alt=\"Open In Colab\"/></a>"
      ]
    },
    {
      "cell_type": "markdown",
      "source": [
        "# Import Library and Dataset"
      ],
      "metadata": {
        "id": "Jw8s-VI8dKvS"
      }
    },
    {
      "cell_type": "code",
      "source": [
        "import numpy as np\n",
        "import pandas as pd\n",
        "import matplotlib.pyplot as plt\n",
        "import seaborn as sns\n",
        "from plotnine import *"
      ],
      "metadata": {
        "id": "XPwl2G8IdKhJ"
      },
      "execution_count": null,
      "outputs": []
    },
    {
      "cell_type": "code",
      "execution_count": null,
      "metadata": {
        "id": "j9J4vDQzZyz-"
      },
      "outputs": [],
      "source": [
        "df = pd.read_csv(\"./movie_metadata.csv\")"
      ]
    },
    {
      "cell_type": "markdown",
      "source": [
        "# Dataset Checking"
      ],
      "metadata": {
        "id": "BenmRoUwgqxu"
      }
    },
    {
      "cell_type": "code",
      "source": [
        "df.head()"
      ],
      "metadata": {
        "colab": {
          "base_uri": "https://localhost:8080/",
          "height": 334
        },
        "id": "05nT2T5igNmE",
        "outputId": "49418ea8-a83b-4406-9c62-8132d5a8aaf4"
      },
      "execution_count": null,
      "outputs": [
        {
          "output_type": "execute_result",
          "data": {
            "text/plain": [
              "   color      director_name  num_critic_for_reviews  duration  \\\n",
              "0  Color      James Cameron                   723.0     178.0   \n",
              "1  Color     Gore Verbinski                   302.0     169.0   \n",
              "2  Color         Sam Mendes                   602.0     148.0   \n",
              "3  Color  Christopher Nolan                   813.0     164.0   \n",
              "4    NaN        Doug Walker                     NaN       NaN   \n",
              "\n",
              "   director_facebook_likes  actor_3_facebook_likes      actor_2_name  \\\n",
              "0                      0.0                   855.0  Joel David Moore   \n",
              "1                    563.0                  1000.0     Orlando Bloom   \n",
              "2                      0.0                   161.0      Rory Kinnear   \n",
              "3                  22000.0                 23000.0    Christian Bale   \n",
              "4                    131.0                     NaN        Rob Walker   \n",
              "\n",
              "   actor_1_facebook_likes        gross                           genres  ...  \\\n",
              "0                  1000.0  760505847.0  Action|Adventure|Fantasy|Sci-Fi  ...   \n",
              "1                 40000.0  309404152.0         Action|Adventure|Fantasy  ...   \n",
              "2                 11000.0  200074175.0        Action|Adventure|Thriller  ...   \n",
              "3                 27000.0  448130642.0                  Action|Thriller  ...   \n",
              "4                   131.0          NaN                      Documentary  ...   \n",
              "\n",
              "  num_user_for_reviews language  country  content_rating       budget  \\\n",
              "0               3054.0  English      USA           PG-13  237000000.0   \n",
              "1               1238.0  English      USA           PG-13  300000000.0   \n",
              "2                994.0  English       UK           PG-13  245000000.0   \n",
              "3               2701.0  English      USA           PG-13  250000000.0   \n",
              "4                  NaN      NaN      NaN             NaN          NaN   \n",
              "\n",
              "   title_year actor_2_facebook_likes imdb_score  aspect_ratio  \\\n",
              "0      2009.0                  936.0        7.9          1.78   \n",
              "1      2007.0                 5000.0        7.1          2.35   \n",
              "2      2015.0                  393.0        6.8          2.35   \n",
              "3      2012.0                23000.0        8.5          2.35   \n",
              "4         NaN                   12.0        7.1           NaN   \n",
              "\n",
              "  movie_facebook_likes  \n",
              "0                33000  \n",
              "1                    0  \n",
              "2                85000  \n",
              "3               164000  \n",
              "4                    0  \n",
              "\n",
              "[5 rows x 28 columns]"
            ],
            "text/html": [
              "\n",
              "  <div id=\"df-cfa56fb3-dada-4c73-ad23-26f94b50bf77\">\n",
              "    <div class=\"colab-df-container\">\n",
              "      <div>\n",
              "<style scoped>\n",
              "    .dataframe tbody tr th:only-of-type {\n",
              "        vertical-align: middle;\n",
              "    }\n",
              "\n",
              "    .dataframe tbody tr th {\n",
              "        vertical-align: top;\n",
              "    }\n",
              "\n",
              "    .dataframe thead th {\n",
              "        text-align: right;\n",
              "    }\n",
              "</style>\n",
              "<table border=\"1\" class=\"dataframe\">\n",
              "  <thead>\n",
              "    <tr style=\"text-align: right;\">\n",
              "      <th></th>\n",
              "      <th>color</th>\n",
              "      <th>director_name</th>\n",
              "      <th>num_critic_for_reviews</th>\n",
              "      <th>duration</th>\n",
              "      <th>director_facebook_likes</th>\n",
              "      <th>actor_3_facebook_likes</th>\n",
              "      <th>actor_2_name</th>\n",
              "      <th>actor_1_facebook_likes</th>\n",
              "      <th>gross</th>\n",
              "      <th>genres</th>\n",
              "      <th>...</th>\n",
              "      <th>num_user_for_reviews</th>\n",
              "      <th>language</th>\n",
              "      <th>country</th>\n",
              "      <th>content_rating</th>\n",
              "      <th>budget</th>\n",
              "      <th>title_year</th>\n",
              "      <th>actor_2_facebook_likes</th>\n",
              "      <th>imdb_score</th>\n",
              "      <th>aspect_ratio</th>\n",
              "      <th>movie_facebook_likes</th>\n",
              "    </tr>\n",
              "  </thead>\n",
              "  <tbody>\n",
              "    <tr>\n",
              "      <th>0</th>\n",
              "      <td>Color</td>\n",
              "      <td>James Cameron</td>\n",
              "      <td>723.0</td>\n",
              "      <td>178.0</td>\n",
              "      <td>0.0</td>\n",
              "      <td>855.0</td>\n",
              "      <td>Joel David Moore</td>\n",
              "      <td>1000.0</td>\n",
              "      <td>760505847.0</td>\n",
              "      <td>Action|Adventure|Fantasy|Sci-Fi</td>\n",
              "      <td>...</td>\n",
              "      <td>3054.0</td>\n",
              "      <td>English</td>\n",
              "      <td>USA</td>\n",
              "      <td>PG-13</td>\n",
              "      <td>237000000.0</td>\n",
              "      <td>2009.0</td>\n",
              "      <td>936.0</td>\n",
              "      <td>7.9</td>\n",
              "      <td>1.78</td>\n",
              "      <td>33000</td>\n",
              "    </tr>\n",
              "    <tr>\n",
              "      <th>1</th>\n",
              "      <td>Color</td>\n",
              "      <td>Gore Verbinski</td>\n",
              "      <td>302.0</td>\n",
              "      <td>169.0</td>\n",
              "      <td>563.0</td>\n",
              "      <td>1000.0</td>\n",
              "      <td>Orlando Bloom</td>\n",
              "      <td>40000.0</td>\n",
              "      <td>309404152.0</td>\n",
              "      <td>Action|Adventure|Fantasy</td>\n",
              "      <td>...</td>\n",
              "      <td>1238.0</td>\n",
              "      <td>English</td>\n",
              "      <td>USA</td>\n",
              "      <td>PG-13</td>\n",
              "      <td>300000000.0</td>\n",
              "      <td>2007.0</td>\n",
              "      <td>5000.0</td>\n",
              "      <td>7.1</td>\n",
              "      <td>2.35</td>\n",
              "      <td>0</td>\n",
              "    </tr>\n",
              "    <tr>\n",
              "      <th>2</th>\n",
              "      <td>Color</td>\n",
              "      <td>Sam Mendes</td>\n",
              "      <td>602.0</td>\n",
              "      <td>148.0</td>\n",
              "      <td>0.0</td>\n",
              "      <td>161.0</td>\n",
              "      <td>Rory Kinnear</td>\n",
              "      <td>11000.0</td>\n",
              "      <td>200074175.0</td>\n",
              "      <td>Action|Adventure|Thriller</td>\n",
              "      <td>...</td>\n",
              "      <td>994.0</td>\n",
              "      <td>English</td>\n",
              "      <td>UK</td>\n",
              "      <td>PG-13</td>\n",
              "      <td>245000000.0</td>\n",
              "      <td>2015.0</td>\n",
              "      <td>393.0</td>\n",
              "      <td>6.8</td>\n",
              "      <td>2.35</td>\n",
              "      <td>85000</td>\n",
              "    </tr>\n",
              "    <tr>\n",
              "      <th>3</th>\n",
              "      <td>Color</td>\n",
              "      <td>Christopher Nolan</td>\n",
              "      <td>813.0</td>\n",
              "      <td>164.0</td>\n",
              "      <td>22000.0</td>\n",
              "      <td>23000.0</td>\n",
              "      <td>Christian Bale</td>\n",
              "      <td>27000.0</td>\n",
              "      <td>448130642.0</td>\n",
              "      <td>Action|Thriller</td>\n",
              "      <td>...</td>\n",
              "      <td>2701.0</td>\n",
              "      <td>English</td>\n",
              "      <td>USA</td>\n",
              "      <td>PG-13</td>\n",
              "      <td>250000000.0</td>\n",
              "      <td>2012.0</td>\n",
              "      <td>23000.0</td>\n",
              "      <td>8.5</td>\n",
              "      <td>2.35</td>\n",
              "      <td>164000</td>\n",
              "    </tr>\n",
              "    <tr>\n",
              "      <th>4</th>\n",
              "      <td>NaN</td>\n",
              "      <td>Doug Walker</td>\n",
              "      <td>NaN</td>\n",
              "      <td>NaN</td>\n",
              "      <td>131.0</td>\n",
              "      <td>NaN</td>\n",
              "      <td>Rob Walker</td>\n",
              "      <td>131.0</td>\n",
              "      <td>NaN</td>\n",
              "      <td>Documentary</td>\n",
              "      <td>...</td>\n",
              "      <td>NaN</td>\n",
              "      <td>NaN</td>\n",
              "      <td>NaN</td>\n",
              "      <td>NaN</td>\n",
              "      <td>NaN</td>\n",
              "      <td>NaN</td>\n",
              "      <td>12.0</td>\n",
              "      <td>7.1</td>\n",
              "      <td>NaN</td>\n",
              "      <td>0</td>\n",
              "    </tr>\n",
              "  </tbody>\n",
              "</table>\n",
              "<p>5 rows × 28 columns</p>\n",
              "</div>\n",
              "      <button class=\"colab-df-convert\" onclick=\"convertToInteractive('df-cfa56fb3-dada-4c73-ad23-26f94b50bf77')\"\n",
              "              title=\"Convert this dataframe to an interactive table.\"\n",
              "              style=\"display:none;\">\n",
              "        \n",
              "  <svg xmlns=\"http://www.w3.org/2000/svg\" height=\"24px\"viewBox=\"0 0 24 24\"\n",
              "       width=\"24px\">\n",
              "    <path d=\"M0 0h24v24H0V0z\" fill=\"none\"/>\n",
              "    <path d=\"M18.56 5.44l.94 2.06.94-2.06 2.06-.94-2.06-.94-.94-2.06-.94 2.06-2.06.94zm-11 1L8.5 8.5l.94-2.06 2.06-.94-2.06-.94L8.5 2.5l-.94 2.06-2.06.94zm10 10l.94 2.06.94-2.06 2.06-.94-2.06-.94-.94-2.06-.94 2.06-2.06.94z\"/><path d=\"M17.41 7.96l-1.37-1.37c-.4-.4-.92-.59-1.43-.59-.52 0-1.04.2-1.43.59L10.3 9.45l-7.72 7.72c-.78.78-.78 2.05 0 2.83L4 21.41c.39.39.9.59 1.41.59.51 0 1.02-.2 1.41-.59l7.78-7.78 2.81-2.81c.8-.78.8-2.07 0-2.86zM5.41 20L4 18.59l7.72-7.72 1.47 1.35L5.41 20z\"/>\n",
              "  </svg>\n",
              "      </button>\n",
              "      \n",
              "  <style>\n",
              "    .colab-df-container {\n",
              "      display:flex;\n",
              "      flex-wrap:wrap;\n",
              "      gap: 12px;\n",
              "    }\n",
              "\n",
              "    .colab-df-convert {\n",
              "      background-color: #E8F0FE;\n",
              "      border: none;\n",
              "      border-radius: 50%;\n",
              "      cursor: pointer;\n",
              "      display: none;\n",
              "      fill: #1967D2;\n",
              "      height: 32px;\n",
              "      padding: 0 0 0 0;\n",
              "      width: 32px;\n",
              "    }\n",
              "\n",
              "    .colab-df-convert:hover {\n",
              "      background-color: #E2EBFA;\n",
              "      box-shadow: 0px 1px 2px rgba(60, 64, 67, 0.3), 0px 1px 3px 1px rgba(60, 64, 67, 0.15);\n",
              "      fill: #174EA6;\n",
              "    }\n",
              "\n",
              "    [theme=dark] .colab-df-convert {\n",
              "      background-color: #3B4455;\n",
              "      fill: #D2E3FC;\n",
              "    }\n",
              "\n",
              "    [theme=dark] .colab-df-convert:hover {\n",
              "      background-color: #434B5C;\n",
              "      box-shadow: 0px 1px 3px 1px rgba(0, 0, 0, 0.15);\n",
              "      filter: drop-shadow(0px 1px 2px rgba(0, 0, 0, 0.3));\n",
              "      fill: #FFFFFF;\n",
              "    }\n",
              "  </style>\n",
              "\n",
              "      <script>\n",
              "        const buttonEl =\n",
              "          document.querySelector('#df-cfa56fb3-dada-4c73-ad23-26f94b50bf77 button.colab-df-convert');\n",
              "        buttonEl.style.display =\n",
              "          google.colab.kernel.accessAllowed ? 'block' : 'none';\n",
              "\n",
              "        async function convertToInteractive(key) {\n",
              "          const element = document.querySelector('#df-cfa56fb3-dada-4c73-ad23-26f94b50bf77');\n",
              "          const dataTable =\n",
              "            await google.colab.kernel.invokeFunction('convertToInteractive',\n",
              "                                                     [key], {});\n",
              "          if (!dataTable) return;\n",
              "\n",
              "          const docLinkHtml = 'Like what you see? Visit the ' +\n",
              "            '<a target=\"_blank\" href=https://colab.research.google.com/notebooks/data_table.ipynb>data table notebook</a>'\n",
              "            + ' to learn more about interactive tables.';\n",
              "          element.innerHTML = '';\n",
              "          dataTable['output_type'] = 'display_data';\n",
              "          await google.colab.output.renderOutput(dataTable, element);\n",
              "          const docLink = document.createElement('div');\n",
              "          docLink.innerHTML = docLinkHtml;\n",
              "          element.appendChild(docLink);\n",
              "        }\n",
              "      </script>\n",
              "    </div>\n",
              "  </div>\n",
              "  "
            ]
          },
          "metadata": {},
          "execution_count": 9
        }
      ]
    },
    {
      "cell_type": "code",
      "source": [
        "df.shape"
      ],
      "metadata": {
        "colab": {
          "base_uri": "https://localhost:8080/"
        },
        "id": "uC4BsjyqgYdq",
        "outputId": "2cbd50cb-8f4a-4627-dedd-6099a557cbd9"
      },
      "execution_count": null,
      "outputs": [
        {
          "output_type": "execute_result",
          "data": {
            "text/plain": [
              "(5043, 28)"
            ]
          },
          "metadata": {},
          "execution_count": 10
        }
      ]
    },
    {
      "cell_type": "code",
      "source": [
        "df.dtypes"
      ],
      "metadata": {
        "colab": {
          "base_uri": "https://localhost:8080/"
        },
        "id": "wKw5AeD-gcxD",
        "outputId": "782b21fe-0718-4446-b1c7-73e104f7e3db"
      },
      "execution_count": null,
      "outputs": [
        {
          "output_type": "execute_result",
          "data": {
            "text/plain": [
              "color                         object\n",
              "director_name                 object\n",
              "num_critic_for_reviews       float64\n",
              "duration                     float64\n",
              "director_facebook_likes      float64\n",
              "actor_3_facebook_likes       float64\n",
              "actor_2_name                  object\n",
              "actor_1_facebook_likes       float64\n",
              "gross                        float64\n",
              "genres                        object\n",
              "actor_1_name                  object\n",
              "movie_title                   object\n",
              "num_voted_users                int64\n",
              "cast_total_facebook_likes      int64\n",
              "actor_3_name                  object\n",
              "facenumber_in_poster         float64\n",
              "plot_keywords                 object\n",
              "movie_imdb_link               object\n",
              "num_user_for_reviews         float64\n",
              "language                      object\n",
              "country                       object\n",
              "content_rating                object\n",
              "budget                       float64\n",
              "title_year                   float64\n",
              "actor_2_facebook_likes       float64\n",
              "imdb_score                   float64\n",
              "aspect_ratio                 float64\n",
              "movie_facebook_likes           int64\n",
              "dtype: object"
            ]
          },
          "metadata": {},
          "execution_count": 11
        }
      ]
    },
    {
      "cell_type": "code",
      "source": [
        "df.describe().T"
      ],
      "metadata": {
        "colab": {
          "base_uri": "https://localhost:8080/",
          "height": 551
        },
        "id": "y-EIVhIVgixS",
        "outputId": "cc37c8e5-f52b-4695-d1eb-5735bf314041"
      },
      "execution_count": null,
      "outputs": [
        {
          "output_type": "execute_result",
          "data": {
            "text/plain": [
              "                            count          mean           std      min  \\\n",
              "num_critic_for_reviews     4993.0  1.401943e+02  1.216017e+02     1.00   \n",
              "duration                   5028.0  1.072011e+02  2.519744e+01     7.00   \n",
              "director_facebook_likes    4939.0  6.865092e+02  2.813329e+03     0.00   \n",
              "actor_3_facebook_likes     5020.0  6.450098e+02  1.665042e+03     0.00   \n",
              "actor_1_facebook_likes     5036.0  6.560047e+03  1.502076e+04     0.00   \n",
              "gross                      4159.0  4.846841e+07  6.845299e+07   162.00   \n",
              "num_voted_users            5043.0  8.366816e+04  1.384853e+05     5.00   \n",
              "cast_total_facebook_likes  5043.0  9.699064e+03  1.816380e+04     0.00   \n",
              "facenumber_in_poster       5030.0  1.371173e+00  2.013576e+00     0.00   \n",
              "num_user_for_reviews       5022.0  2.727708e+02  3.779829e+02     1.00   \n",
              "budget                     4551.0  3.975262e+07  2.061149e+08   218.00   \n",
              "title_year                 4935.0  2.002471e+03  1.247460e+01  1916.00   \n",
              "actor_2_facebook_likes     5030.0  1.651754e+03  4.042439e+03     0.00   \n",
              "imdb_score                 5043.0  6.442138e+00  1.125116e+00     1.60   \n",
              "aspect_ratio               4714.0  2.220403e+00  1.385113e+00     1.18   \n",
              "movie_facebook_likes       5043.0  7.525965e+03  1.932045e+04     0.00   \n",
              "\n",
              "                                  25%          50%          75%           max  \n",
              "num_critic_for_reviews          50.00       110.00       195.00  8.130000e+02  \n",
              "duration                        93.00       103.00       118.00  5.110000e+02  \n",
              "director_facebook_likes          7.00        49.00       194.50  2.300000e+04  \n",
              "actor_3_facebook_likes         133.00       371.50       636.00  2.300000e+04  \n",
              "actor_1_facebook_likes         614.00       988.00     11000.00  6.400000e+05  \n",
              "gross                      5340987.50  25517500.00  62309437.50  7.605058e+08  \n",
              "num_voted_users               8593.50     34359.00     96309.00  1.689764e+06  \n",
              "cast_total_facebook_likes     1411.00      3090.00     13756.50  6.567300e+05  \n",
              "facenumber_in_poster             0.00         1.00         2.00  4.300000e+01  \n",
              "num_user_for_reviews            65.00       156.00       326.00  5.060000e+03  \n",
              "budget                     6000000.00  20000000.00  45000000.00  1.221550e+10  \n",
              "title_year                    1999.00      2005.00      2011.00  2.016000e+03  \n",
              "actor_2_facebook_likes         281.00       595.00       918.00  1.370000e+05  \n",
              "imdb_score                       5.80         6.60         7.20  9.500000e+00  \n",
              "aspect_ratio                     1.85         2.35         2.35  1.600000e+01  \n",
              "movie_facebook_likes             0.00       166.00      3000.00  3.490000e+05  "
            ],
            "text/html": [
              "\n",
              "  <div id=\"df-471ab4e0-b770-4c30-b064-4726477512dd\">\n",
              "    <div class=\"colab-df-container\">\n",
              "      <div>\n",
              "<style scoped>\n",
              "    .dataframe tbody tr th:only-of-type {\n",
              "        vertical-align: middle;\n",
              "    }\n",
              "\n",
              "    .dataframe tbody tr th {\n",
              "        vertical-align: top;\n",
              "    }\n",
              "\n",
              "    .dataframe thead th {\n",
              "        text-align: right;\n",
              "    }\n",
              "</style>\n",
              "<table border=\"1\" class=\"dataframe\">\n",
              "  <thead>\n",
              "    <tr style=\"text-align: right;\">\n",
              "      <th></th>\n",
              "      <th>count</th>\n",
              "      <th>mean</th>\n",
              "      <th>std</th>\n",
              "      <th>min</th>\n",
              "      <th>25%</th>\n",
              "      <th>50%</th>\n",
              "      <th>75%</th>\n",
              "      <th>max</th>\n",
              "    </tr>\n",
              "  </thead>\n",
              "  <tbody>\n",
              "    <tr>\n",
              "      <th>num_critic_for_reviews</th>\n",
              "      <td>4993.0</td>\n",
              "      <td>1.401943e+02</td>\n",
              "      <td>1.216017e+02</td>\n",
              "      <td>1.00</td>\n",
              "      <td>50.00</td>\n",
              "      <td>110.00</td>\n",
              "      <td>195.00</td>\n",
              "      <td>8.130000e+02</td>\n",
              "    </tr>\n",
              "    <tr>\n",
              "      <th>duration</th>\n",
              "      <td>5028.0</td>\n",
              "      <td>1.072011e+02</td>\n",
              "      <td>2.519744e+01</td>\n",
              "      <td>7.00</td>\n",
              "      <td>93.00</td>\n",
              "      <td>103.00</td>\n",
              "      <td>118.00</td>\n",
              "      <td>5.110000e+02</td>\n",
              "    </tr>\n",
              "    <tr>\n",
              "      <th>director_facebook_likes</th>\n",
              "      <td>4939.0</td>\n",
              "      <td>6.865092e+02</td>\n",
              "      <td>2.813329e+03</td>\n",
              "      <td>0.00</td>\n",
              "      <td>7.00</td>\n",
              "      <td>49.00</td>\n",
              "      <td>194.50</td>\n",
              "      <td>2.300000e+04</td>\n",
              "    </tr>\n",
              "    <tr>\n",
              "      <th>actor_3_facebook_likes</th>\n",
              "      <td>5020.0</td>\n",
              "      <td>6.450098e+02</td>\n",
              "      <td>1.665042e+03</td>\n",
              "      <td>0.00</td>\n",
              "      <td>133.00</td>\n",
              "      <td>371.50</td>\n",
              "      <td>636.00</td>\n",
              "      <td>2.300000e+04</td>\n",
              "    </tr>\n",
              "    <tr>\n",
              "      <th>actor_1_facebook_likes</th>\n",
              "      <td>5036.0</td>\n",
              "      <td>6.560047e+03</td>\n",
              "      <td>1.502076e+04</td>\n",
              "      <td>0.00</td>\n",
              "      <td>614.00</td>\n",
              "      <td>988.00</td>\n",
              "      <td>11000.00</td>\n",
              "      <td>6.400000e+05</td>\n",
              "    </tr>\n",
              "    <tr>\n",
              "      <th>gross</th>\n",
              "      <td>4159.0</td>\n",
              "      <td>4.846841e+07</td>\n",
              "      <td>6.845299e+07</td>\n",
              "      <td>162.00</td>\n",
              "      <td>5340987.50</td>\n",
              "      <td>25517500.00</td>\n",
              "      <td>62309437.50</td>\n",
              "      <td>7.605058e+08</td>\n",
              "    </tr>\n",
              "    <tr>\n",
              "      <th>num_voted_users</th>\n",
              "      <td>5043.0</td>\n",
              "      <td>8.366816e+04</td>\n",
              "      <td>1.384853e+05</td>\n",
              "      <td>5.00</td>\n",
              "      <td>8593.50</td>\n",
              "      <td>34359.00</td>\n",
              "      <td>96309.00</td>\n",
              "      <td>1.689764e+06</td>\n",
              "    </tr>\n",
              "    <tr>\n",
              "      <th>cast_total_facebook_likes</th>\n",
              "      <td>5043.0</td>\n",
              "      <td>9.699064e+03</td>\n",
              "      <td>1.816380e+04</td>\n",
              "      <td>0.00</td>\n",
              "      <td>1411.00</td>\n",
              "      <td>3090.00</td>\n",
              "      <td>13756.50</td>\n",
              "      <td>6.567300e+05</td>\n",
              "    </tr>\n",
              "    <tr>\n",
              "      <th>facenumber_in_poster</th>\n",
              "      <td>5030.0</td>\n",
              "      <td>1.371173e+00</td>\n",
              "      <td>2.013576e+00</td>\n",
              "      <td>0.00</td>\n",
              "      <td>0.00</td>\n",
              "      <td>1.00</td>\n",
              "      <td>2.00</td>\n",
              "      <td>4.300000e+01</td>\n",
              "    </tr>\n",
              "    <tr>\n",
              "      <th>num_user_for_reviews</th>\n",
              "      <td>5022.0</td>\n",
              "      <td>2.727708e+02</td>\n",
              "      <td>3.779829e+02</td>\n",
              "      <td>1.00</td>\n",
              "      <td>65.00</td>\n",
              "      <td>156.00</td>\n",
              "      <td>326.00</td>\n",
              "      <td>5.060000e+03</td>\n",
              "    </tr>\n",
              "    <tr>\n",
              "      <th>budget</th>\n",
              "      <td>4551.0</td>\n",
              "      <td>3.975262e+07</td>\n",
              "      <td>2.061149e+08</td>\n",
              "      <td>218.00</td>\n",
              "      <td>6000000.00</td>\n",
              "      <td>20000000.00</td>\n",
              "      <td>45000000.00</td>\n",
              "      <td>1.221550e+10</td>\n",
              "    </tr>\n",
              "    <tr>\n",
              "      <th>title_year</th>\n",
              "      <td>4935.0</td>\n",
              "      <td>2.002471e+03</td>\n",
              "      <td>1.247460e+01</td>\n",
              "      <td>1916.00</td>\n",
              "      <td>1999.00</td>\n",
              "      <td>2005.00</td>\n",
              "      <td>2011.00</td>\n",
              "      <td>2.016000e+03</td>\n",
              "    </tr>\n",
              "    <tr>\n",
              "      <th>actor_2_facebook_likes</th>\n",
              "      <td>5030.0</td>\n",
              "      <td>1.651754e+03</td>\n",
              "      <td>4.042439e+03</td>\n",
              "      <td>0.00</td>\n",
              "      <td>281.00</td>\n",
              "      <td>595.00</td>\n",
              "      <td>918.00</td>\n",
              "      <td>1.370000e+05</td>\n",
              "    </tr>\n",
              "    <tr>\n",
              "      <th>imdb_score</th>\n",
              "      <td>5043.0</td>\n",
              "      <td>6.442138e+00</td>\n",
              "      <td>1.125116e+00</td>\n",
              "      <td>1.60</td>\n",
              "      <td>5.80</td>\n",
              "      <td>6.60</td>\n",
              "      <td>7.20</td>\n",
              "      <td>9.500000e+00</td>\n",
              "    </tr>\n",
              "    <tr>\n",
              "      <th>aspect_ratio</th>\n",
              "      <td>4714.0</td>\n",
              "      <td>2.220403e+00</td>\n",
              "      <td>1.385113e+00</td>\n",
              "      <td>1.18</td>\n",
              "      <td>1.85</td>\n",
              "      <td>2.35</td>\n",
              "      <td>2.35</td>\n",
              "      <td>1.600000e+01</td>\n",
              "    </tr>\n",
              "    <tr>\n",
              "      <th>movie_facebook_likes</th>\n",
              "      <td>5043.0</td>\n",
              "      <td>7.525965e+03</td>\n",
              "      <td>1.932045e+04</td>\n",
              "      <td>0.00</td>\n",
              "      <td>0.00</td>\n",
              "      <td>166.00</td>\n",
              "      <td>3000.00</td>\n",
              "      <td>3.490000e+05</td>\n",
              "    </tr>\n",
              "  </tbody>\n",
              "</table>\n",
              "</div>\n",
              "      <button class=\"colab-df-convert\" onclick=\"convertToInteractive('df-471ab4e0-b770-4c30-b064-4726477512dd')\"\n",
              "              title=\"Convert this dataframe to an interactive table.\"\n",
              "              style=\"display:none;\">\n",
              "        \n",
              "  <svg xmlns=\"http://www.w3.org/2000/svg\" height=\"24px\"viewBox=\"0 0 24 24\"\n",
              "       width=\"24px\">\n",
              "    <path d=\"M0 0h24v24H0V0z\" fill=\"none\"/>\n",
              "    <path d=\"M18.56 5.44l.94 2.06.94-2.06 2.06-.94-2.06-.94-.94-2.06-.94 2.06-2.06.94zm-11 1L8.5 8.5l.94-2.06 2.06-.94-2.06-.94L8.5 2.5l-.94 2.06-2.06.94zm10 10l.94 2.06.94-2.06 2.06-.94-2.06-.94-.94-2.06-.94 2.06-2.06.94z\"/><path d=\"M17.41 7.96l-1.37-1.37c-.4-.4-.92-.59-1.43-.59-.52 0-1.04.2-1.43.59L10.3 9.45l-7.72 7.72c-.78.78-.78 2.05 0 2.83L4 21.41c.39.39.9.59 1.41.59.51 0 1.02-.2 1.41-.59l7.78-7.78 2.81-2.81c.8-.78.8-2.07 0-2.86zM5.41 20L4 18.59l7.72-7.72 1.47 1.35L5.41 20z\"/>\n",
              "  </svg>\n",
              "      </button>\n",
              "      \n",
              "  <style>\n",
              "    .colab-df-container {\n",
              "      display:flex;\n",
              "      flex-wrap:wrap;\n",
              "      gap: 12px;\n",
              "    }\n",
              "\n",
              "    .colab-df-convert {\n",
              "      background-color: #E8F0FE;\n",
              "      border: none;\n",
              "      border-radius: 50%;\n",
              "      cursor: pointer;\n",
              "      display: none;\n",
              "      fill: #1967D2;\n",
              "      height: 32px;\n",
              "      padding: 0 0 0 0;\n",
              "      width: 32px;\n",
              "    }\n",
              "\n",
              "    .colab-df-convert:hover {\n",
              "      background-color: #E2EBFA;\n",
              "      box-shadow: 0px 1px 2px rgba(60, 64, 67, 0.3), 0px 1px 3px 1px rgba(60, 64, 67, 0.15);\n",
              "      fill: #174EA6;\n",
              "    }\n",
              "\n",
              "    [theme=dark] .colab-df-convert {\n",
              "      background-color: #3B4455;\n",
              "      fill: #D2E3FC;\n",
              "    }\n",
              "\n",
              "    [theme=dark] .colab-df-convert:hover {\n",
              "      background-color: #434B5C;\n",
              "      box-shadow: 0px 1px 3px 1px rgba(0, 0, 0, 0.15);\n",
              "      filter: drop-shadow(0px 1px 2px rgba(0, 0, 0, 0.3));\n",
              "      fill: #FFFFFF;\n",
              "    }\n",
              "  </style>\n",
              "\n",
              "      <script>\n",
              "        const buttonEl =\n",
              "          document.querySelector('#df-471ab4e0-b770-4c30-b064-4726477512dd button.colab-df-convert');\n",
              "        buttonEl.style.display =\n",
              "          google.colab.kernel.accessAllowed ? 'block' : 'none';\n",
              "\n",
              "        async function convertToInteractive(key) {\n",
              "          const element = document.querySelector('#df-471ab4e0-b770-4c30-b064-4726477512dd');\n",
              "          const dataTable =\n",
              "            await google.colab.kernel.invokeFunction('convertToInteractive',\n",
              "                                                     [key], {});\n",
              "          if (!dataTable) return;\n",
              "\n",
              "          const docLinkHtml = 'Like what you see? Visit the ' +\n",
              "            '<a target=\"_blank\" href=https://colab.research.google.com/notebooks/data_table.ipynb>data table notebook</a>'\n",
              "            + ' to learn more about interactive tables.';\n",
              "          element.innerHTML = '';\n",
              "          dataTable['output_type'] = 'display_data';\n",
              "          await google.colab.output.renderOutput(dataTable, element);\n",
              "          const docLink = document.createElement('div');\n",
              "          docLink.innerHTML = docLinkHtml;\n",
              "          element.appendChild(docLink);\n",
              "        }\n",
              "      </script>\n",
              "    </div>\n",
              "  </div>\n",
              "  "
            ]
          },
          "metadata": {},
          "execution_count": 12
        }
      ]
    },
    {
      "cell_type": "markdown",
      "source": [
        "# Data Preparation"
      ],
      "metadata": {
        "id": "FlMgfiEiXwP6"
      }
    },
    {
      "cell_type": "code",
      "source": [
        "# Removing Attrb that not relevant\n",
        "\n",
        "df.drop( 'movie_imdb_link', axis=1, inplace = True)\n",
        "df.drop('movie_title',axis=1,inplace=True)\n",
        "df.drop( 'num_critic_for_reviews', axis=1, inplace = True)\n",
        "df.drop( 'gross', axis=1, inplace = True)\n",
        "df.drop( 'num_voted_users', axis=1, inplace = True)\n",
        "df.drop( 'num_user_for_reviews', axis=1, inplace = True)\n",
        "df.drop( 'title_year', axis=1, inplace = True)\n",
        "df.drop( 'movie_facebook_likes', axis=1, inplace = True)\n",
        "df.drop( 'cast_total_facebook_likes',axis=1,inplace=True)"
      ],
      "metadata": {
        "id": "uJwgdjVohfVk"
      },
      "execution_count": null,
      "outputs": []
    },
    {
      "cell_type": "code",
      "source": [
        "df.columns"
      ],
      "metadata": {
        "colab": {
          "base_uri": "https://localhost:8080/"
        },
        "id": "uWtBMXFTh1z1",
        "outputId": "b11ac6bb-ea21-4261-b7ad-98be89f26b3b"
      },
      "execution_count": null,
      "outputs": [
        {
          "output_type": "execute_result",
          "data": {
            "text/plain": [
              "Index(['color', 'director_name', 'duration', 'director_facebook_likes',\n",
              "       'actor_3_facebook_likes', 'actor_2_name', 'actor_1_facebook_likes',\n",
              "       'genres', 'actor_1_name', 'movie_title', 'cast_total_facebook_likes',\n",
              "       'actor_3_name', 'facenumber_in_poster', 'plot_keywords', 'language',\n",
              "       'country', 'content_rating', 'budget', 'actor_2_facebook_likes',\n",
              "       'imdb_score', 'aspect_ratio'],\n",
              "      dtype='object')"
            ]
          },
          "metadata": {},
          "execution_count": 14
        }
      ]
    },
    {
      "cell_type": "code",
      "source": [
        "df.shape"
      ],
      "metadata": {
        "colab": {
          "base_uri": "https://localhost:8080/"
        },
        "id": "B9pJM5oIoQ4B",
        "outputId": "b4284521-1ef9-4462-ad38-d6aeb14cfdaa"
      },
      "execution_count": null,
      "outputs": [
        {
          "output_type": "execute_result",
          "data": {
            "text/plain": [
              "(5043, 21)"
            ]
          },
          "metadata": {},
          "execution_count": 16
        }
      ]
    },
    {
      "cell_type": "code",
      "source": [
        "# Checking NaN Value in each Attrb\n",
        "df.isna().any()"
      ],
      "metadata": {
        "colab": {
          "base_uri": "https://localhost:8080/"
        },
        "id": "O9nerEOlByFW",
        "outputId": "4d4bac43-2fbd-4768-d2c9-e5559be3f233"
      },
      "execution_count": null,
      "outputs": [
        {
          "output_type": "execute_result",
          "data": {
            "text/plain": [
              "color                         True\n",
              "director_name                 True\n",
              "duration                      True\n",
              "director_facebook_likes       True\n",
              "actor_3_facebook_likes        True\n",
              "actor_2_name                  True\n",
              "actor_1_facebook_likes        True\n",
              "genres                       False\n",
              "actor_1_name                  True\n",
              "movie_title                  False\n",
              "cast_total_facebook_likes    False\n",
              "actor_3_name                  True\n",
              "facenumber_in_poster          True\n",
              "plot_keywords                 True\n",
              "language                      True\n",
              "country                       True\n",
              "content_rating                True\n",
              "budget                        True\n",
              "actor_2_facebook_likes        True\n",
              "imdb_score                   False\n",
              "aspect_ratio                  True\n",
              "dtype: bool"
            ]
          },
          "metadata": {},
          "execution_count": 17
        }
      ]
    },
    {
      "cell_type": "code",
      "source": [
        "#Checking Number of NaN Value in each Attrb\n",
        "df.isna().sum()"
      ],
      "metadata": {
        "colab": {
          "base_uri": "https://localhost:8080/"
        },
        "id": "L3wS7hCUB-X4",
        "outputId": "2b0c1077-5c86-46f0-d5fc-917cb3d80e59"
      },
      "execution_count": null,
      "outputs": [
        {
          "output_type": "execute_result",
          "data": {
            "text/plain": [
              "color                         19\n",
              "director_name                104\n",
              "duration                      15\n",
              "director_facebook_likes      104\n",
              "actor_3_facebook_likes        23\n",
              "actor_2_name                  13\n",
              "actor_1_facebook_likes         7\n",
              "genres                         0\n",
              "actor_1_name                   7\n",
              "movie_title                    0\n",
              "cast_total_facebook_likes      0\n",
              "actor_3_name                  23\n",
              "facenumber_in_poster          13\n",
              "plot_keywords                153\n",
              "language                      12\n",
              "country                        5\n",
              "content_rating               303\n",
              "budget                       492\n",
              "actor_2_facebook_likes        13\n",
              "imdb_score                     0\n",
              "aspect_ratio                 329\n",
              "dtype: int64"
            ]
          },
          "metadata": {},
          "execution_count": 18
        }
      ]
    },
    {
      "cell_type": "code",
      "source": [
        "new_df = df.dropna()"
      ],
      "metadata": {
        "id": "wTyLfbZzDEHl"
      },
      "execution_count": null,
      "outputs": []
    },
    {
      "cell_type": "code",
      "source": [
        "df.shape"
      ],
      "metadata": {
        "colab": {
          "base_uri": "https://localhost:8080/"
        },
        "id": "kJl8oDpwDF9i",
        "outputId": "3ae20ee5-5619-46a6-b4d5-84da2ccef9d3"
      },
      "execution_count": null,
      "outputs": [
        {
          "output_type": "execute_result",
          "data": {
            "text/plain": [
              "(5043, 21)"
            ]
          },
          "metadata": {},
          "execution_count": 20
        }
      ]
    },
    {
      "cell_type": "code",
      "source": [
        "new_df.isna().sum()"
      ],
      "metadata": {
        "colab": {
          "base_uri": "https://localhost:8080/"
        },
        "id": "oG4WPC_NDLl9",
        "outputId": "056630df-85dc-484c-fbac-9e95afa26338"
      },
      "execution_count": null,
      "outputs": [
        {
          "output_type": "execute_result",
          "data": {
            "text/plain": [
              "color                        0\n",
              "director_name                0\n",
              "duration                     0\n",
              "director_facebook_likes      0\n",
              "actor_3_facebook_likes       0\n",
              "actor_2_name                 0\n",
              "actor_1_facebook_likes       0\n",
              "genres                       0\n",
              "actor_1_name                 0\n",
              "movie_title                  0\n",
              "cast_total_facebook_likes    0\n",
              "actor_3_name                 0\n",
              "facenumber_in_poster         0\n",
              "plot_keywords                0\n",
              "language                     0\n",
              "country                      0\n",
              "content_rating               0\n",
              "budget                       0\n",
              "actor_2_facebook_likes       0\n",
              "imdb_score                   0\n",
              "aspect_ratio                 0\n",
              "dtype: int64"
            ]
          },
          "metadata": {},
          "execution_count": 21
        }
      ]
    },
    {
      "cell_type": "code",
      "source": [
        "new_df.shape"
      ],
      "metadata": {
        "colab": {
          "base_uri": "https://localhost:8080/"
        },
        "id": "Jcsdq-i2Db3y",
        "outputId": "c71d892d-3a57-4e83-aadb-81603504953b"
      },
      "execution_count": null,
      "outputs": [
        {
          "output_type": "execute_result",
          "data": {
            "text/plain": [
              "(4141, 21)"
            ]
          },
          "metadata": {},
          "execution_count": 22
        }
      ]
    },
    {
      "cell_type": "code",
      "source": [
        "df = new_df"
      ],
      "metadata": {
        "id": "GtGIAOROPlX3"
      },
      "execution_count": null,
      "outputs": []
    },
    {
      "cell_type": "code",
      "source": [
        "df.drop_duplicates(inplace=True)\n",
        "df.shape"
      ],
      "metadata": {
        "colab": {
          "base_uri": "https://localhost:8080/"
        },
        "id": "aPmlWwNaOTnf",
        "outputId": "7ea48e3a-8aab-4ea0-c793-6dbbd410a1ef"
      },
      "execution_count": null,
      "outputs": [
        {
          "output_type": "execute_result",
          "data": {
            "text/plain": [
              "(4944, 21)"
            ]
          },
          "metadata": {},
          "execution_count": 28
        }
      ]
    },
    {
      "cell_type": "code",
      "source": [
        "#Check Amount in Each Language of Movies\n",
        "df[\"language\"].value_counts()"
      ],
      "metadata": {
        "colab": {
          "base_uri": "https://localhost:8080/"
        },
        "id": "XwvCd_FIPN0e",
        "outputId": "f3092853-4e6b-4356-ac8c-78113e90b01b"
      },
      "execution_count": null,
      "outputs": [
        {
          "output_type": "execute_result",
          "data": {
            "text/plain": [
              "English       3871\n",
              "French          39\n",
              "Spanish         27\n",
              "Mandarin        16\n",
              "Japanese        13\n",
              "German          10\n",
              "Italian          8\n",
              "Hindi            7\n",
              "Cantonese        7\n",
              "Portuguese       6\n",
              "Korean           5\n",
              "Norwegian        4\n",
              "Persian          3\n",
              "Danish           3\n",
              "Thai             3\n",
              "Dutch            3\n",
              "Russian          3\n",
              "Dari             2\n",
              "Zulu             2\n",
              "Aboriginal       2\n",
              "None             2\n",
              "Indonesian       2\n",
              "Romanian         1\n",
              "Vietnamese       1\n",
              "Arabic           1\n",
              "Hebrew           1\n",
              "Filipino         1\n",
              "Czech            1\n",
              "Mongolian        1\n",
              "Maya             1\n",
              "Kazakh           1\n",
              "Hungarian        1\n",
              "Aramaic          1\n",
              "Bosnian          1\n",
              "Swedish          1\n",
              "Name: language, dtype: int64"
            ]
          },
          "metadata": {},
          "execution_count": 34
        }
      ]
    },
    {
      "cell_type": "code",
      "source": [
        "# Data Presentaion \n",
        "plt.figure(figsize=(40,10))\n",
        "sns.countplot(df[\"language\"])\n",
        "plt.show()"
      ],
      "metadata": {
        "colab": {
          "base_uri": "https://localhost:8080/",
          "height": 662
        },
        "id": "Nigi6SA3QpL4",
        "outputId": "8ba8f68a-3f2b-4ed6-a374-e35e517c57c6"
      },
      "execution_count": null,
      "outputs": [
        {
          "output_type": "stream",
          "name": "stderr",
          "text": [
            "/usr/local/lib/python3.7/dist-packages/seaborn/_decorators.py:43: FutureWarning: Pass the following variable as a keyword arg: x. From version 0.12, the only valid positional argument will be `data`, and passing other arguments without an explicit keyword will result in an error or misinterpretation.\n",
            "  FutureWarning\n"
          ]
        },
        {
          "output_type": "display_data",
          "data": {
            "text/plain": [
              "<Figure size 2880x720 with 1 Axes>"
            ],
            "image/png": "[encoded data removed]"
          },
          "metadata": {
            "needs_background": "light"
          }
        }
      ]
    },
    {
      "cell_type": "code",
      "source": [
        "#Drop Language Column because Most of Movie is in English\n",
        "\n",
        "df.drop('language',axis=1,inplace=True)"
      ],
      "metadata": {
        "id": "EF9ZIqPsRJ0y"
      },
      "execution_count": null,
      "outputs": []
    },
    {
      "cell_type": "code",
      "source": [
        "df[\"country\"].value_counts()"
      ],
      "metadata": {
        "colab": {
          "base_uri": "https://localhost:8080/"
        },
        "id": "r5tPOVdKRYsz",
        "outputId": "72d0ef69-6b56-4676-bc5d-6ab9c7788108"
      },
      "execution_count": null,
      "outputs": [
        {
          "output_type": "execute_result",
          "data": {
            "text/plain": [
              "USA               3170\n",
              "UK                 350\n",
              "France             113\n",
              "Germany             84\n",
              "Canada              83\n",
              "Australia           46\n",
              "Spain               25\n",
              "Japan               18\n",
              "Italy               16\n",
              "China               14\n",
              "Hong Kong           13\n",
              "New Zealand         12\n",
              "South Korea          9\n",
              "Denmark              8\n",
              "Mexico               7\n",
              "India                7\n",
              "Ireland              7\n",
              "Norway               6\n",
              "Brazil               6\n",
              "South Africa         5\n",
              "Russia               4\n",
              "Iran                 4\n",
              "Thailand             4\n",
              "Netherlands          4\n",
              "Czech Republic       3\n",
              "Argentina            3\n",
              "Taiwan               2\n",
              "Hungary              2\n",
              "West Germany         2\n",
              "Romania              2\n",
              "Belgium              1\n",
              "Bahamas              1\n",
              "Switzerland          1\n",
              "Afghanistan          1\n",
              "Indonesia            1\n",
              "Kyrgyzstan           1\n",
              "Israel               1\n",
              "Poland               1\n",
              "Colombia             1\n",
              "New Line             1\n",
              "Iceland              1\n",
              "Finland              1\n",
              "Greece               1\n",
              "Soviet Union         1\n",
              "Peru                 1\n",
              "Aruba                1\n",
              "Libya                1\n",
              "Georgia              1\n",
              "Bulgaria             1\n",
              "Official site        1\n",
              "Chile                1\n",
              "Sweden               1\n",
              "Name: country, dtype: int64"
            ]
          },
          "metadata": {},
          "execution_count": 38
        }
      ]
    },
    {
      "cell_type": "code",
      "source": [
        "#Drop Country Column because Most of Movie is in USA\n",
        "\n",
        "df.drop('country',axis=1,inplace=True)"
      ],
      "metadata": {
        "id": "MtC8W0sRRlXr"
      },
      "execution_count": null,
      "outputs": []
    },
    {
      "cell_type": "code",
      "source": [
        "df[\"color\"].value_counts()"
      ],
      "metadata": {
        "colab": {
          "base_uri": "https://localhost:8080/"
        },
        "id": "_fhCpfugx8cq",
        "outputId": "e34f5937-39ae-4277-d708-904adadd397d"
      },
      "execution_count": null,
      "outputs": [
        {
          "output_type": "execute_result",
          "data": {
            "text/plain": [
              "Color               3880\n",
              " Black and White     171\n",
              "Name: color, dtype: int64"
            ]
          },
          "metadata": {},
          "execution_count": 56
        }
      ]
    },
    {
      "cell_type": "code",
      "source": [
        "df.drop('color',axis=1,inplace=True)"
      ],
      "metadata": {
        "id": "jhT-uT1fyHYH"
      },
      "execution_count": null,
      "outputs": []
    },
    {
      "cell_type": "code",
      "source": [
        "df.head()"
      ],
      "metadata": {
        "colab": {
          "base_uri": "https://localhost:8080/",
          "height": 357
        },
        "id": "feKRcl12UcN_",
        "outputId": "00775553-7943-488a-8a25-0d472276dd91"
      },
      "execution_count": null,
      "outputs": [
        {
          "output_type": "execute_result",
          "data": {
            "text/plain": [
              "       director_name  duration  director_facebook_likes  \\\n",
              "0      James Cameron     178.0                      0.0   \n",
              "1     Gore Verbinski     169.0                    563.0   \n",
              "2         Sam Mendes     148.0                      0.0   \n",
              "3  Christopher Nolan     164.0                  22000.0   \n",
              "5     Andrew Stanton     132.0                    475.0   \n",
              "\n",
              "   actor_3_facebook_likes      actor_2_name  actor_1_facebook_likes  \\\n",
              "0                   855.0  Joel David Moore                  1000.0   \n",
              "1                  1000.0     Orlando Bloom                 40000.0   \n",
              "2                   161.0      Rory Kinnear                 11000.0   \n",
              "3                 23000.0    Christian Bale                 27000.0   \n",
              "5                   530.0   Samantha Morton                   640.0   \n",
              "\n",
              "                            genres     actor_1_name          actor_3_name  \\\n",
              "0  Action|Adventure|Fantasy|Sci-Fi      CCH Pounder             Wes Studi   \n",
              "1         Action|Adventure|Fantasy      Johnny Depp        Jack Davenport   \n",
              "2        Action|Adventure|Thriller  Christoph Waltz      Stephanie Sigman   \n",
              "3                  Action|Thriller        Tom Hardy  Joseph Gordon-Levitt   \n",
              "5          Action|Adventure|Sci-Fi     Daryl Sabara          Polly Walker   \n",
              "\n",
              "   facenumber_in_poster                                      plot_keywords  \\\n",
              "0                   0.0             avatar|future|marine|native|paraplegic   \n",
              "1                   0.0  goddess|marriage ceremony|marriage proposal|pi...   \n",
              "2                   1.0                bomb|espionage|sequel|spy|terrorist   \n",
              "3                   0.0  deception|imprisonment|lawlessness|police offi...   \n",
              "5                   1.0  alien|american civil war|male nipple|mars|prin...   \n",
              "\n",
              "  content_rating       budget  actor_2_facebook_likes  imdb_score  \\\n",
              "0          PG-13  237000000.0                   936.0         7.9   \n",
              "1          PG-13  300000000.0                  5000.0         7.1   \n",
              "2          PG-13  245000000.0                   393.0         6.8   \n",
              "3          PG-13  250000000.0                 23000.0         8.5   \n",
              "5          PG-13  263700000.0                   632.0         6.6   \n",
              "\n",
              "   aspect_ratio  \n",
              "0          1.78  \n",
              "1          2.35  \n",
              "2          2.35  \n",
              "3          2.35  \n",
              "5          2.35  "
            ],
            "text/html": [
              "\n",
              "  <div id=\"df-72c2145d-aaaa-4c3f-9b77-1aac6c2d23ee\">\n",
              "    <div class=\"colab-df-container\">\n",
              "      <div>\n",
              "<style scoped>\n",
              "    .dataframe tbody tr th:only-of-type {\n",
              "        vertical-align: middle;\n",
              "    }\n",
              "\n",
              "    .dataframe tbody tr th {\n",
              "        vertical-align: top;\n",
              "    }\n",
              "\n",
              "    .dataframe thead th {\n",
              "        text-align: right;\n",
              "    }\n",
              "</style>\n",
              "<table border=\"1\" class=\"dataframe\">\n",
              "  <thead>\n",
              "    <tr style=\"text-align: right;\">\n",
              "      <th></th>\n",
              "      <th>director_name</th>\n",
              "      <th>duration</th>\n",
              "      <th>director_facebook_likes</th>\n",
              "      <th>actor_3_facebook_likes</th>\n",
              "      <th>actor_2_name</th>\n",
              "      <th>actor_1_facebook_likes</th>\n",
              "      <th>genres</th>\n",
              "      <th>actor_1_name</th>\n",
              "      <th>actor_3_name</th>\n",
              "      <th>facenumber_in_poster</th>\n",
              "      <th>plot_keywords</th>\n",
              "      <th>content_rating</th>\n",
              "      <th>budget</th>\n",
              "      <th>actor_2_facebook_likes</th>\n",
              "      <th>imdb_score</th>\n",
              "      <th>aspect_ratio</th>\n",
              "    </tr>\n",
              "  </thead>\n",
              "  <tbody>\n",
              "    <tr>\n",
              "      <th>0</th>\n",
              "      <td>James Cameron</td>\n",
              "      <td>178.0</td>\n",
              "      <td>0.0</td>\n",
              "      <td>855.0</td>\n",
              "      <td>Joel David Moore</td>\n",
              "      <td>1000.0</td>\n",
              "      <td>Action|Adventure|Fantasy|Sci-Fi</td>\n",
              "      <td>CCH Pounder</td>\n",
              "      <td>Wes Studi</td>\n",
              "      <td>0.0</td>\n",
              "      <td>avatar|future|marine|native|paraplegic</td>\n",
              "      <td>PG-13</td>\n",
              "      <td>237000000.0</td>\n",
              "      <td>936.0</td>\n",
              "      <td>7.9</td>\n",
              "      <td>1.78</td>\n",
              "    </tr>\n",
              "    <tr>\n",
              "      <th>1</th>\n",
              "      <td>Gore Verbinski</td>\n",
              "      <td>169.0</td>\n",
              "      <td>563.0</td>\n",
              "      <td>1000.0</td>\n",
              "      <td>Orlando Bloom</td>\n",
              "      <td>40000.0</td>\n",
              "      <td>Action|Adventure|Fantasy</td>\n",
              "      <td>Johnny Depp</td>\n",
              "      <td>Jack Davenport</td>\n",
              "      <td>0.0</td>\n",
              "      <td>goddess|marriage ceremony|marriage proposal|pi...</td>\n",
              "      <td>PG-13</td>\n",
              "      <td>300000000.0</td>\n",
              "      <td>5000.0</td>\n",
              "      <td>7.1</td>\n",
              "      <td>2.35</td>\n",
              "    </tr>\n",
              "    <tr>\n",
              "      <th>2</th>\n",
              "      <td>Sam Mendes</td>\n",
              "      <td>148.0</td>\n",
              "      <td>0.0</td>\n",
              "      <td>161.0</td>\n",
              "      <td>Rory Kinnear</td>\n",
              "      <td>11000.0</td>\n",
              "      <td>Action|Adventure|Thriller</td>\n",
              "      <td>Christoph Waltz</td>\n",
              "      <td>Stephanie Sigman</td>\n",
              "      <td>1.0</td>\n",
              "      <td>bomb|espionage|sequel|spy|terrorist</td>\n",
              "      <td>PG-13</td>\n",
              "      <td>245000000.0</td>\n",
              "      <td>393.0</td>\n",
              "      <td>6.8</td>\n",
              "      <td>2.35</td>\n",
              "    </tr>\n",
              "    <tr>\n",
              "      <th>3</th>\n",
              "      <td>Christopher Nolan</td>\n",
              "      <td>164.0</td>\n",
              "      <td>22000.0</td>\n",
              "      <td>23000.0</td>\n",
              "      <td>Christian Bale</td>\n",
              "      <td>27000.0</td>\n",
              "      <td>Action|Thriller</td>\n",
              "      <td>Tom Hardy</td>\n",
              "      <td>Joseph Gordon-Levitt</td>\n",
              "      <td>0.0</td>\n",
              "      <td>deception|imprisonment|lawlessness|police offi...</td>\n",
              "      <td>PG-13</td>\n",
              "      <td>250000000.0</td>\n",
              "      <td>23000.0</td>\n",
              "      <td>8.5</td>\n",
              "      <td>2.35</td>\n",
              "    </tr>\n",
              "    <tr>\n",
              "      <th>5</th>\n",
              "      <td>Andrew Stanton</td>\n",
              "      <td>132.0</td>\n",
              "      <td>475.0</td>\n",
              "      <td>530.0</td>\n",
              "      <td>Samantha Morton</td>\n",
              "      <td>640.0</td>\n",
              "      <td>Action|Adventure|Sci-Fi</td>\n",
              "      <td>Daryl Sabara</td>\n",
              "      <td>Polly Walker</td>\n",
              "      <td>1.0</td>\n",
              "      <td>alien|american civil war|male nipple|mars|prin...</td>\n",
              "      <td>PG-13</td>\n",
              "      <td>263700000.0</td>\n",
              "      <td>632.0</td>\n",
              "      <td>6.6</td>\n",
              "      <td>2.35</td>\n",
              "    </tr>\n",
              "  </tbody>\n",
              "</table>\n",
              "</div>\n",
              "      <button class=\"colab-df-convert\" onclick=\"convertToInteractive('df-72c2145d-aaaa-4c3f-9b77-1aac6c2d23ee')\"\n",
              "              title=\"Convert this dataframe to an interactive table.\"\n",
              "              style=\"display:none;\">\n",
              "        \n",
              "  <svg xmlns=\"http://www.w3.org/2000/svg\" height=\"24px\"viewBox=\"0 0 24 24\"\n",
              "       width=\"24px\">\n",
              "    <path d=\"M0 0h24v24H0V0z\" fill=\"none\"/>\n",
              "    <path d=\"M18.56 5.44l.94 2.06.94-2.06 2.06-.94-2.06-.94-.94-2.06-.94 2.06-2.06.94zm-11 1L8.5 8.5l.94-2.06 2.06-.94-2.06-.94L8.5 2.5l-.94 2.06-2.06.94zm10 10l.94 2.06.94-2.06 2.06-.94-2.06-.94-.94-2.06-.94 2.06-2.06.94z\"/><path d=\"M17.41 7.96l-1.37-1.37c-.4-.4-.92-.59-1.43-.59-.52 0-1.04.2-1.43.59L10.3 9.45l-7.72 7.72c-.78.78-.78 2.05 0 2.83L4 21.41c.39.39.9.59 1.41.59.51 0 1.02-.2 1.41-.59l7.78-7.78 2.81-2.81c.8-.78.8-2.07 0-2.86zM5.41 20L4 18.59l7.72-7.72 1.47 1.35L5.41 20z\"/>\n",
              "  </svg>\n",
              "      </button>\n",
              "      \n",
              "  <style>\n",
              "    .colab-df-container {\n",
              "      display:flex;\n",
              "      flex-wrap:wrap;\n",
              "      gap: 12px;\n",
              "    }\n",
              "\n",
              "    .colab-df-convert {\n",
              "      background-color: #E8F0FE;\n",
              "      border: none;\n",
              "      border-radius: 50%;\n",
              "      cursor: pointer;\n",
              "      display: none;\n",
              "      fill: #1967D2;\n",
              "      height: 32px;\n",
              "      padding: 0 0 0 0;\n",
              "      width: 32px;\n",
              "    }\n",
              "\n",
              "    .colab-df-convert:hover {\n",
              "      background-color: #E2EBFA;\n",
              "      box-shadow: 0px 1px 2px rgba(60, 64, 67, 0.3), 0px 1px 3px 1px rgba(60, 64, 67, 0.15);\n",
              "      fill: #174EA6;\n",
              "    }\n",
              "\n",
              "    [theme=dark] .colab-df-convert {\n",
              "      background-color: #3B4455;\n",
              "      fill: #D2E3FC;\n",
              "    }\n",
              "\n",
              "    [theme=dark] .colab-df-convert:hover {\n",
              "      background-color: #434B5C;\n",
              "      box-shadow: 0px 1px 3px 1px rgba(0, 0, 0, 0.15);\n",
              "      filter: drop-shadow(0px 1px 2px rgba(0, 0, 0, 0.3));\n",
              "      fill: #FFFFFF;\n",
              "    }\n",
              "  </style>\n",
              "\n",
              "      <script>\n",
              "        const buttonEl =\n",
              "          document.querySelector('#df-72c2145d-aaaa-4c3f-9b77-1aac6c2d23ee button.colab-df-convert');\n",
              "        buttonEl.style.display =\n",
              "          google.colab.kernel.accessAllowed ? 'block' : 'none';\n",
              "\n",
              "        async function convertToInteractive(key) {\n",
              "          const element = document.querySelector('#df-72c2145d-aaaa-4c3f-9b77-1aac6c2d23ee');\n",
              "          const dataTable =\n",
              "            await google.colab.kernel.invokeFunction('convertToInteractive',\n",
              "                                                     [key], {});\n",
              "          if (!dataTable) return;\n",
              "\n",
              "          const docLinkHtml = 'Like what you see? Visit the ' +\n",
              "            '<a target=\"_blank\" href=https://colab.research.google.com/notebooks/data_table.ipynb>data table notebook</a>'\n",
              "            + ' to learn more about interactive tables.';\n",
              "          element.innerHTML = '';\n",
              "          dataTable['output_type'] = 'display_data';\n",
              "          await google.colab.output.renderOutput(dataTable, element);\n",
              "          const docLink = document.createElement('div');\n",
              "          docLink.innerHTML = docLinkHtml;\n",
              "          element.appendChild(docLink);\n",
              "        }\n",
              "      </script>\n",
              "    </div>\n",
              "  </div>\n",
              "  "
            ]
          },
          "metadata": {},
          "execution_count": 58
        }
      ]
    },
    {
      "cell_type": "code",
      "source": [
        "df.shape"
      ],
      "metadata": {
        "colab": {
          "base_uri": "https://localhost:8080/"
        },
        "id": "8ydvXDboVfiw",
        "outputId": "fdb8a0f6-a963-41a8-fa66-56e77b1e1fb8"
      },
      "execution_count": null,
      "outputs": [
        {
          "output_type": "execute_result",
          "data": {
            "text/plain": [
              "(4051, 16)"
            ]
          },
          "metadata": {},
          "execution_count": 59
        }
      ]
    },
    {
      "cell_type": "code",
      "source": [
        "df.columns"
      ],
      "metadata": {
        "colab": {
          "base_uri": "https://localhost:8080/"
        },
        "id": "8S6vlsZYV7Dk",
        "outputId": "e7e2cd59-0bb3-4b83-9447-5e9daea15b9c"
      },
      "execution_count": null,
      "outputs": [
        {
          "output_type": "execute_result",
          "data": {
            "text/plain": [
              "Index(['director_name', 'duration', 'director_facebook_likes',\n",
              "       'actor_3_facebook_likes', 'actor_2_name', 'actor_1_facebook_likes',\n",
              "       'genres', 'actor_1_name', 'actor_3_name', 'facenumber_in_poster',\n",
              "       'plot_keywords', 'content_rating', 'budget', 'actor_2_facebook_likes',\n",
              "       'imdb_score', 'aspect_ratio'],\n",
              "      dtype='object')"
            ]
          },
          "metadata": {},
          "execution_count": 60
        }
      ]
    },
    {
      "cell_type": "code",
      "source": [
        "corr = df.corr()\n",
        "sns.set_context(\"notebook\", font_scale=1.0, rc={\"lines.linewidth\": 2.5})\n",
        "plt.figure(figsize=(13,7))\n",
        "# create a mask so we only see the correlation values once\n",
        "mask = np.zeros_like(corr)\n",
        "mask[np.triu_indices_from(mask, 1)] = True\n",
        "a = sns.heatmap(corr,mask=mask, annot=True, fmt='.2f')\n",
        "rotx = a.set_xticklabels(a.get_xticklabels(), rotation=90)\n",
        "roty = a.set_yticklabels(a.get_yticklabels(), rotation=30)"
      ],
      "metadata": {
        "colab": {
          "base_uri": "https://localhost:8080/",
          "height": 555
        },
        "id": "E44Dad9xiLxC",
        "outputId": "01504c3b-5fe8-4e36-d15c-531597eba474"
      },
      "execution_count": null,
      "outputs": [
        {
          "output_type": "display_data",
          "data": {
            "text/plain": [
              "<Figure size 936x504 with 2 Axes>"
            ],
            "image/png": "[encoded data removed]"
          },
          "metadata": {
            "needs_background": "light"
          }
        }
      ]
    },
    {
      "cell_type": "markdown",
      "source": [
        "# Splitting the data into training and test data"
      ],
      "metadata": {
        "id": "iGtPxQ6ZjE5w"
      }
    },
    {
      "cell_type": "code",
      "source": [
        "X=pd.DataFrame(columns=['director_name', 'duration', 'director_facebook_likes',\n",
        "       'actor_3_facebook_likes', 'actor_2_name', 'actor_1_facebook_likes',\n",
        "       'genres', 'actor_1_name', 'actor_3_name', 'facenumber_in_poster',\n",
        "       'plot_keywords', 'content_rating', 'budget', 'actor_2_facebook_likes',\n",
        "       'aspect_ratio'], data=df)\n",
        "y=pd.DataFrame(columns=['imdb_score'],data=df)"
      ],
      "metadata": {
        "id": "_8_t3kZrWuAH"
      },
      "execution_count": null,
      "outputs": []
    },
    {
      "cell_type": "code",
      "source": [
        "from sklearn.model_selection import train_test_split\n",
        "X_train, X_test, y_train, y_test=train_test_split(X,y,test_size=0.3,random_state=100)"
      ],
      "metadata": {
        "id": "5N7OUKQsvJ6E"
      },
      "execution_count": null,
      "outputs": []
    },
    {
      "cell_type": "code",
      "source": [
        ""
      ],
      "metadata": {
        "id": "Oi_6dvuxAZJb"
      },
      "execution_count": null,
      "outputs": []
    },
    {
      "cell_type": "markdown",
      "source": [
        "# Feature Scaling"
      ],
      "metadata": {
        "id": "lWgYZjIsxr4z"
      }
    },
    {
      "cell_type": "code",
      "source": [
        "print(X_train)"
      ],
      "metadata": {
        "colab": {
          "base_uri": "https://localhost:8080/"
        },
        "id": "UmLGmlBH3Nqz",
        "outputId": "56979fbe-9db6-4f65-d753-6e64be7d9054"
      },
      "execution_count": null,
      "outputs": [
        {
          "output_type": "stream",
          "name": "stdout",
          "text": [
            "          director_name  duration  director_facebook_likes  \\\n",
            "2977     Darnell Martin     109.0                     67.0   \n",
            "1084   Denis Villeneuve     153.0                    777.0   \n",
            "2859        Spike Jonze     112.0                      0.0   \n",
            "3907        Woody Allen      96.0                  11000.0   \n",
            "4402    Adrienne Shelly     108.0                    191.0   \n",
            "...                 ...       ...                      ...   \n",
            "4741  Morgan J. Freeman      86.0                    204.0   \n",
            "4781    Paul Greengrass     107.0                    521.0   \n",
            "1987    Lasse Hallström     116.0                    529.0   \n",
            "3119      Peter Sollett      90.0                      6.0   \n",
            "1640       Ridley Scott     125.0                      0.0   \n",
            "\n",
            "      actor_3_facebook_likes            actor_2_name  actor_1_facebook_likes  \\\n",
            "2977                   192.0           Veronika Dash                   436.0   \n",
            "1084                  1000.0         Jake Gyllenhaal                 20000.0   \n",
            "2859                   213.0              Orson Bean                   512.0   \n",
            "3907                   405.0           Kevin McNally                 19000.0   \n",
            "4402                   336.0            Cheryl Hines                   597.0   \n",
            "...                      ...                     ...                     ...   \n",
            "4741                   474.0       Heather Matarazzo                   659.0   \n",
            "4781                    80.0        Nicholas Farrell                   773.0   \n",
            "1987                   174.0  Christopher Evan Welch                   442.0   \n",
            "3119                   617.0           Alexis Dziena                   904.0   \n",
            "1640                   237.0            Ken Takakura                   939.0   \n",
            "\n",
            "                            genres            actor_1_name      actor_3_name  \\\n",
            "2977         Biography|Drama|Music  Cedric the Entertainer   Tammy Blanchard   \n",
            "1084  Crime|Drama|Mystery|Thriller            Hugh Jackman    Dylan Minnette   \n",
            "2859          Comedy|Drama|Fantasy           Willie Garson    Mary Kay Place   \n",
            "3907          Comedy|Crime|Mystery      Scarlett Johansson        Geoff Bell   \n",
            "4402          Comedy|Drama|Romance              Lew Temple     Eddie Jemison   \n",
            "...                            ...                     ...               ...   \n",
            "4741           Crime|Drama|Romance              Edie Falco        Lynn Cohen   \n",
            "4781             Drama|History|War           James Nesbitt  Tim Pigott-Smith   \n",
            "1987                  Comedy|Drama              Hope Davis      James Biberi   \n",
            "3119    Comedy|Drama|Music|Romance             Ari Graynor         Aaron Yoo   \n",
            "1640         Action|Crime|Thriller            Stephen Root      Kate Capshaw   \n",
            "\n",
            "      facenumber_in_poster                                      plot_keywords  \\\n",
            "2977                   3.0  1950s|jazz|jazz music|sex|title directed by fe...   \n",
            "1084                   2.0  child abduction|detective|investigation|police...   \n",
            "2859                   2.0  body swap|magical realism|portal|puppeteer|sur...   \n",
            "3907                   0.0  english garden|fake drowning|fake parent|music...   \n",
            "4402                   1.0  domestic violence|pregnancy|unhappy marriage|u...   \n",
            "...                    ...                                                ...   \n",
            "4741                   3.0             gang|new mexico|prison|smuggling|theft   \n",
            "4781                   0.0  civil rights|irish|march|northern ireland|prot...   \n",
            "1987                   0.0              book|fabrication|fake|hoax|manuscript   \n",
            "3119                   2.0                     band|gay|gay friend|love|night   \n",
            "1640                   2.0    counterfeit|detective|japan|police chase|yakuza   \n",
            "\n",
            "     content_rating      budget  actor_2_facebook_likes  aspect_ratio  \n",
            "2977              R  12000000.0                   223.0          2.35  \n",
            "1084              R  46000000.0                 15000.0          1.85  \n",
            "2859              R  13000000.0                   216.0          1.85  \n",
            "3907          PG-13   4000000.0                   427.0          1.85  \n",
            "4402          PG-13   2000000.0                   541.0          1.85  \n",
            "...             ...         ...                     ...           ...  \n",
            "4741              R    500000.0                   529.0          1.85  \n",
            "4781              R   2000000.0                    89.0          1.85  \n",
            "1987              R  25000000.0                   252.0          1.85  \n",
            "3119          PG-13   9000000.0                   715.0          1.85  \n",
            "1640              R  30000000.0                   255.0          2.35  \n",
            "\n",
            "[2835 rows x 15 columns]\n"
          ]
        }
      ]
    },
    {
      "cell_type": "code",
      "source": [
        "from sklearn.preprocessing import StandardScaler\n",
        "sc_X = StandardScaler()\n",
        "X_train = sc_X.fit_transform(X_train)\n",
        "X_test = sc_X.transform(X_test)"
      ],
      "metadata": {
        "colab": {
          "base_uri": "https://localhost:8080/",
          "height": 374
        },
        "id": "QxkMrWXh7BM5",
        "outputId": "695b53ce-84c1-464b-8c33-ab35b6b0163c"
      },
      "execution_count": null,
      "outputs": [
        {
          "output_type": "error",
          "ename": "ValueError",
          "evalue": "ignored",
          "traceback": [
            "\u001b[0;31m---------------------------------------------------------------------------\u001b[0m",
            "\u001b[0;31mValueError\u001b[0m                                Traceback (most recent call last)",
            "\u001b[0;32m<ipython-input-69-9c21b084f638>\u001b[0m in \u001b[0;36m<module>\u001b[0;34m()\u001b[0m\n\u001b[1;32m      1\u001b[0m \u001b[0;32mfrom\u001b[0m \u001b[0msklearn\u001b[0m\u001b[0;34m.\u001b[0m\u001b[0mpreprocessing\u001b[0m \u001b[0;32mimport\u001b[0m \u001b[0mStandardScaler\u001b[0m\u001b[0;34m\u001b[0m\u001b[0;34m\u001b[0m\u001b[0m\n\u001b[1;32m      2\u001b[0m \u001b[0msc_X\u001b[0m \u001b[0;34m=\u001b[0m \u001b[0mStandardScaler\u001b[0m\u001b[0;34m(\u001b[0m\u001b[0;34m)\u001b[0m\u001b[0;34m\u001b[0m\u001b[0;34m\u001b[0m\u001b[0m\n\u001b[0;32m----> 3\u001b[0;31m \u001b[0mX_train\u001b[0m \u001b[0;34m=\u001b[0m \u001b[0msc_X\u001b[0m\u001b[0;34m.\u001b[0m\u001b[0mfit_transform\u001b[0m\u001b[0;34m(\u001b[0m\u001b[0mX_train\u001b[0m\u001b[0;34m)\u001b[0m\u001b[0;34m\u001b[0m\u001b[0;34m\u001b[0m\u001b[0m\n\u001b[0m\u001b[1;32m      4\u001b[0m \u001b[0mX_test\u001b[0m \u001b[0;34m=\u001b[0m \u001b[0msc_X\u001b[0m\u001b[0;34m.\u001b[0m\u001b[0mtransform\u001b[0m\u001b[0;34m(\u001b[0m\u001b[0mX_test\u001b[0m\u001b[0;34m)\u001b[0m\u001b[0;34m\u001b[0m\u001b[0;34m\u001b[0m\u001b[0m\n",
            "\u001b[0;32m/usr/local/lib/python3.7/dist-packages/sklearn/base.py\u001b[0m in \u001b[0;36mfit_transform\u001b[0;34m(self, X, y, **fit_params)\u001b[0m\n\u001b[1;32m    850\u001b[0m         \u001b[0;32mif\u001b[0m \u001b[0my\u001b[0m \u001b[0;32mis\u001b[0m \u001b[0;32mNone\u001b[0m\u001b[0;34m:\u001b[0m\u001b[0;34m\u001b[0m\u001b[0;34m\u001b[0m\u001b[0m\n\u001b[1;32m    851\u001b[0m             \u001b[0;31m# fit method of arity 1 (unsupervised transformation)\u001b[0m\u001b[0;34m\u001b[0m\u001b[0;34m\u001b[0m\u001b[0;34m\u001b[0m\u001b[0m\n\u001b[0;32m--> 852\u001b[0;31m             \u001b[0;32mreturn\u001b[0m \u001b[0mself\u001b[0m\u001b[0;34m.\u001b[0m\u001b[0mfit\u001b[0m\u001b[0;34m(\u001b[0m\u001b[0mX\u001b[0m\u001b[0;34m,\u001b[0m \u001b[0;34m**\u001b[0m\u001b[0mfit_params\u001b[0m\u001b[0;34m)\u001b[0m\u001b[0;34m.\u001b[0m\u001b[0mtransform\u001b[0m\u001b[0;34m(\u001b[0m\u001b[0mX\u001b[0m\u001b[0;34m)\u001b[0m\u001b[0;34m\u001b[0m\u001b[0;34m\u001b[0m\u001b[0m\n\u001b[0m\u001b[1;32m    853\u001b[0m         \u001b[0;32melse\u001b[0m\u001b[0;34m:\u001b[0m\u001b[0;34m\u001b[0m\u001b[0;34m\u001b[0m\u001b[0m\n\u001b[1;32m    854\u001b[0m             \u001b[0;31m# fit method of arity 2 (supervised transformation)\u001b[0m\u001b[0;34m\u001b[0m\u001b[0;34m\u001b[0m\u001b[0;34m\u001b[0m\u001b[0m\n",
            "\u001b[0;32m/usr/local/lib/python3.7/dist-packages/sklearn/preprocessing/_data.py\u001b[0m in \u001b[0;36mfit\u001b[0;34m(self, X, y, sample_weight)\u001b[0m\n\u001b[1;32m    804\u001b[0m         \u001b[0;31m# Reset internal state before fitting\u001b[0m\u001b[0;34m\u001b[0m\u001b[0;34m\u001b[0m\u001b[0;34m\u001b[0m\u001b[0m\n\u001b[1;32m    805\u001b[0m         \u001b[0mself\u001b[0m\u001b[0;34m.\u001b[0m\u001b[0m_reset\u001b[0m\u001b[0;34m(\u001b[0m\u001b[0;34m)\u001b[0m\u001b[0;34m\u001b[0m\u001b[0;34m\u001b[0m\u001b[0m\n\u001b[0;32m--> 806\u001b[0;31m         \u001b[0;32mreturn\u001b[0m \u001b[0mself\u001b[0m\u001b[0;34m.\u001b[0m\u001b[0mpartial_fit\u001b[0m\u001b[0;34m(\u001b[0m\u001b[0mX\u001b[0m\u001b[0;34m,\u001b[0m \u001b[0my\u001b[0m\u001b[0;34m,\u001b[0m \u001b[0msample_weight\u001b[0m\u001b[0;34m)\u001b[0m\u001b[0;34m\u001b[0m\u001b[0;34m\u001b[0m\u001b[0m\n\u001b[0m\u001b[1;32m    807\u001b[0m \u001b[0;34m\u001b[0m\u001b[0m\n\u001b[1;32m    808\u001b[0m     \u001b[0;32mdef\u001b[0m \u001b[0mpartial_fit\u001b[0m\u001b[0;34m(\u001b[0m\u001b[0mself\u001b[0m\u001b[0;34m,\u001b[0m \u001b[0mX\u001b[0m\u001b[0;34m,\u001b[0m \u001b[0my\u001b[0m\u001b[0;34m=\u001b[0m\u001b[0;32mNone\u001b[0m\u001b[0;34m,\u001b[0m \u001b[0msample_weight\u001b[0m\u001b[0;34m=\u001b[0m\u001b[0;32mNone\u001b[0m\u001b[0;34m)\u001b[0m\u001b[0;34m:\u001b[0m\u001b[0;34m\u001b[0m\u001b[0;34m\u001b[0m\u001b[0m\n",
            "\u001b[0;32m/usr/local/lib/python3.7/dist-packages/sklearn/preprocessing/_data.py\u001b[0m in \u001b[0;36mpartial_fit\u001b[0;34m(self, X, y, sample_weight)\u001b[0m\n\u001b[1;32m    845\u001b[0m             \u001b[0mdtype\u001b[0m\u001b[0;34m=\u001b[0m\u001b[0mFLOAT_DTYPES\u001b[0m\u001b[0;34m,\u001b[0m\u001b[0;34m\u001b[0m\u001b[0;34m\u001b[0m\u001b[0m\n\u001b[1;32m    846\u001b[0m             \u001b[0mforce_all_finite\u001b[0m\u001b[0;34m=\u001b[0m\u001b[0;34m\"allow-nan\"\u001b[0m\u001b[0;34m,\u001b[0m\u001b[0;34m\u001b[0m\u001b[0;34m\u001b[0m\u001b[0m\n\u001b[0;32m--> 847\u001b[0;31m             \u001b[0mreset\u001b[0m\u001b[0;34m=\u001b[0m\u001b[0mfirst_call\u001b[0m\u001b[0;34m,\u001b[0m\u001b[0;34m\u001b[0m\u001b[0;34m\u001b[0m\u001b[0m\n\u001b[0m\u001b[1;32m    848\u001b[0m         )\n\u001b[1;32m    849\u001b[0m         \u001b[0mn_features\u001b[0m \u001b[0;34m=\u001b[0m \u001b[0mX\u001b[0m\u001b[0;34m.\u001b[0m\u001b[0mshape\u001b[0m\u001b[0;34m[\u001b[0m\u001b[0;36m1\u001b[0m\u001b[0;34m]\u001b[0m\u001b[0;34m\u001b[0m\u001b[0;34m\u001b[0m\u001b[0m\n",
            "\u001b[0;32m/usr/local/lib/python3.7/dist-packages/sklearn/base.py\u001b[0m in \u001b[0;36m_validate_data\u001b[0;34m(self, X, y, reset, validate_separately, **check_params)\u001b[0m\n\u001b[1;32m    564\u001b[0m             \u001b[0;32mraise\u001b[0m \u001b[0mValueError\u001b[0m\u001b[0;34m(\u001b[0m\u001b[0;34m\"Validation should be done on X, y or both.\"\u001b[0m\u001b[0;34m)\u001b[0m\u001b[0;34m\u001b[0m\u001b[0;34m\u001b[0m\u001b[0m\n\u001b[1;32m    565\u001b[0m         \u001b[0;32melif\u001b[0m \u001b[0;32mnot\u001b[0m \u001b[0mno_val_X\u001b[0m \u001b[0;32mand\u001b[0m \u001b[0mno_val_y\u001b[0m\u001b[0;34m:\u001b[0m\u001b[0;34m\u001b[0m\u001b[0;34m\u001b[0m\u001b[0m\n\u001b[0;32m--> 566\u001b[0;31m             \u001b[0mX\u001b[0m \u001b[0;34m=\u001b[0m \u001b[0mcheck_array\u001b[0m\u001b[0;34m(\u001b[0m\u001b[0mX\u001b[0m\u001b[0;34m,\u001b[0m \u001b[0;34m**\u001b[0m\u001b[0mcheck_params\u001b[0m\u001b[0;34m)\u001b[0m\u001b[0;34m\u001b[0m\u001b[0;34m\u001b[0m\u001b[0m\n\u001b[0m\u001b[1;32m    567\u001b[0m             \u001b[0mout\u001b[0m \u001b[0;34m=\u001b[0m \u001b[0mX\u001b[0m\u001b[0;34m\u001b[0m\u001b[0;34m\u001b[0m\u001b[0m\n\u001b[1;32m    568\u001b[0m         \u001b[0;32melif\u001b[0m \u001b[0mno_val_X\u001b[0m \u001b[0;32mand\u001b[0m \u001b[0;32mnot\u001b[0m \u001b[0mno_val_y\u001b[0m\u001b[0;34m:\u001b[0m\u001b[0;34m\u001b[0m\u001b[0;34m\u001b[0m\u001b[0m\n",
            "\u001b[0;32m/usr/local/lib/python3.7/dist-packages/sklearn/utils/validation.py\u001b[0m in \u001b[0;36mcheck_array\u001b[0;34m(array, accept_sparse, accept_large_sparse, dtype, order, copy, force_all_finite, ensure_2d, allow_nd, ensure_min_samples, ensure_min_features, estimator)\u001b[0m\n\u001b[1;32m    744\u001b[0m                     \u001b[0marray\u001b[0m \u001b[0;34m=\u001b[0m \u001b[0marray\u001b[0m\u001b[0;34m.\u001b[0m\u001b[0mastype\u001b[0m\u001b[0;34m(\u001b[0m\u001b[0mdtype\u001b[0m\u001b[0;34m,\u001b[0m \u001b[0mcasting\u001b[0m\u001b[0;34m=\u001b[0m\u001b[0;34m\"unsafe\"\u001b[0m\u001b[0;34m,\u001b[0m \u001b[0mcopy\u001b[0m\u001b[0;34m=\u001b[0m\u001b[0;32mFalse\u001b[0m\u001b[0;34m)\u001b[0m\u001b[0;34m\u001b[0m\u001b[0;34m\u001b[0m\u001b[0m\n\u001b[1;32m    745\u001b[0m                 \u001b[0;32melse\u001b[0m\u001b[0;34m:\u001b[0m\u001b[0;34m\u001b[0m\u001b[0;34m\u001b[0m\u001b[0m\n\u001b[0;32m--> 746\u001b[0;31m                     \u001b[0marray\u001b[0m \u001b[0;34m=\u001b[0m \u001b[0mnp\u001b[0m\u001b[0;34m.\u001b[0m\u001b[0masarray\u001b[0m\u001b[0;34m(\u001b[0m\u001b[0marray\u001b[0m\u001b[0;34m,\u001b[0m \u001b[0morder\u001b[0m\u001b[0;34m=\u001b[0m\u001b[0morder\u001b[0m\u001b[0;34m,\u001b[0m \u001b[0mdtype\u001b[0m\u001b[0;34m=\u001b[0m\u001b[0mdtype\u001b[0m\u001b[0;34m)\u001b[0m\u001b[0;34m\u001b[0m\u001b[0;34m\u001b[0m\u001b[0m\n\u001b[0m\u001b[1;32m    747\u001b[0m             \u001b[0;32mexcept\u001b[0m \u001b[0mComplexWarning\u001b[0m \u001b[0;32mas\u001b[0m \u001b[0mcomplex_warning\u001b[0m\u001b[0;34m:\u001b[0m\u001b[0;34m\u001b[0m\u001b[0;34m\u001b[0m\u001b[0m\n\u001b[1;32m    748\u001b[0m                 raise ValueError(\n",
            "\u001b[0;32m/usr/local/lib/python3.7/dist-packages/pandas/core/generic.py\u001b[0m in \u001b[0;36m__array__\u001b[0;34m(self, dtype)\u001b[0m\n\u001b[1;32m   1991\u001b[0m \u001b[0;34m\u001b[0m\u001b[0m\n\u001b[1;32m   1992\u001b[0m     \u001b[0;32mdef\u001b[0m \u001b[0m__array__\u001b[0m\u001b[0;34m(\u001b[0m\u001b[0mself\u001b[0m\u001b[0;34m,\u001b[0m \u001b[0mdtype\u001b[0m\u001b[0;34m:\u001b[0m \u001b[0mNpDtype\u001b[0m \u001b[0;34m|\u001b[0m \u001b[0;32mNone\u001b[0m \u001b[0;34m=\u001b[0m \u001b[0;32mNone\u001b[0m\u001b[0;34m)\u001b[0m \u001b[0;34m->\u001b[0m \u001b[0mnp\u001b[0m\u001b[0;34m.\u001b[0m\u001b[0mndarray\u001b[0m\u001b[0;34m:\u001b[0m\u001b[0;34m\u001b[0m\u001b[0;34m\u001b[0m\u001b[0m\n\u001b[0;32m-> 1993\u001b[0;31m         \u001b[0;32mreturn\u001b[0m \u001b[0mnp\u001b[0m\u001b[0;34m.\u001b[0m\u001b[0masarray\u001b[0m\u001b[0;34m(\u001b[0m\u001b[0mself\u001b[0m\u001b[0;34m.\u001b[0m\u001b[0m_values\u001b[0m\u001b[0;34m,\u001b[0m \u001b[0mdtype\u001b[0m\u001b[0;34m=\u001b[0m\u001b[0mdtype\u001b[0m\u001b[0;34m)\u001b[0m\u001b[0;34m\u001b[0m\u001b[0;34m\u001b[0m\u001b[0m\n\u001b[0m\u001b[1;32m   1994\u001b[0m \u001b[0;34m\u001b[0m\u001b[0m\n\u001b[1;32m   1995\u001b[0m     def __array_wrap__(\n",
            "\u001b[0;31mValueError\u001b[0m: could not convert string to float: 'Darnell Martin'"
          ]
        }
      ]
    }
  ]
}