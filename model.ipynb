{
  "nbformat": 4,
  "nbformat_minor": 0,
  "metadata": {
    "colab": {
      "name": "model.ipynb",
      "provenance": [],
      "collapsed_sections": [
        "Jw8s-VI8dKvS",
        "BenmRoUwgqxu",
        "FlMgfiEiXwP6",
        "Izt0i5xSrrYl",
        "XQGevonbUtT3",
        "_Sv04x9nY9P1",
        "do0ay5fCYmbJ",
        "8SWiYM2uXLjm",
        "zcPEKYgvcG3T",
        "Ge0K7yDIcSx8",
        "ugCVpljRco31",
        "SxX3qglOc2KL",
        "eD9pupuOdFmO"
      ],
      "authorship_tag": "ABX9TyN1zqR0z51+8Q5a3pVF3dDZ",
      "include_colab_link": true
    },
    "kernelspec": {
      "name": "python3",
      "display_name": "Python 3"
    },
    "language_info": {
      "name": "python"
    }
  },
  "cells": [
    {
      "cell_type": "markdown",
      "metadata": {
        "id": "view-in-github",
        "colab_type": "text"
      },
      "source": [
        "<a href=\"https://colab.research.google.com/github/NuttharikaTht/MovieIMDbScoreModel/blob/main/model.ipynb\" target=\"_parent\"><img src=\"https://colab.research.google.com/assets/colab-badge.svg\" alt=\"Open In Colab\"/></a>"
      ]
    },
    {
      "cell_type": "markdown",
      "source": [
        "#**Movie IMDb Rating Predictation Model**"
      ],
      "metadata": {
        "id": "53Opsg8Ehwh_"
      }
    },
    {
      "cell_type": "markdown",
      "source": [
        "code study and reference : https://www.kaggle.com/code/saurav9786/imdb-score-prediction-for-movies/notebook\n",
        "\n",
        "\n",
        "dataset : https://www.kaggle.com/datasets/carolzhangdc/imdb-5000-movie-dataset"
      ],
      "metadata": {
        "id": "Oh_n14-8h2Q7"
      }
    },
    {
      "cell_type": "markdown",
      "source": [
        "# Import Library and Dataset"
      ],
      "metadata": {
        "id": "Jw8s-VI8dKvS"
      }
    },
    {
      "cell_type": "code",
      "source": [
        "import numpy as np\n",
        "import pandas as pd\n",
        "import matplotlib.pyplot as plt\n",
        "import seaborn as sns\n",
        "from plotnine import *"
      ],
      "metadata": {
        "id": "XPwl2G8IdKhJ"
      },
      "execution_count": 1,
      "outputs": []
    },
    {
      "cell_type": "code",
      "execution_count": 2,
      "metadata": {
        "id": "j9J4vDQzZyz-"
      },
      "outputs": [],
      "source": [
        "df = pd.read_csv(\"./movie_metadata.csv\")"
      ]
    },
    {
      "cell_type": "markdown",
      "source": [
        "# Dataset Checking"
      ],
      "metadata": {
        "id": "BenmRoUwgqxu"
      }
    },
    {
      "cell_type": "code",
      "source": [
        "df.head()"
      ],
      "metadata": {
        "colab": {
          "base_uri": "https://localhost:8080/",
          "height": 334
        },
        "id": "05nT2T5igNmE",
        "outputId": "d71a000d-7bc5-4e65-e226-4e976b8179f1"
      },
      "execution_count": 3,
      "outputs": [
        {
          "output_type": "execute_result",
          "data": {
            "text/plain": [
              "   color      director_name  num_critic_for_reviews  duration  \\\n",
              "0  Color      James Cameron                   723.0     178.0   \n",
              "1  Color     Gore Verbinski                   302.0     169.0   \n",
              "2  Color         Sam Mendes                   602.0     148.0   \n",
              "3  Color  Christopher Nolan                   813.0     164.0   \n",
              "4    NaN        Doug Walker                     NaN       NaN   \n",
              "\n",
              "   director_facebook_likes  actor_3_facebook_likes      actor_2_name  \\\n",
              "0                      0.0                   855.0  Joel David Moore   \n",
              "1                    563.0                  1000.0     Orlando Bloom   \n",
              "2                      0.0                   161.0      Rory Kinnear   \n",
              "3                  22000.0                 23000.0    Christian Bale   \n",
              "4                    131.0                     NaN        Rob Walker   \n",
              "\n",
              "   actor_1_facebook_likes        gross                           genres  ...  \\\n",
              "0                  1000.0  760505847.0  Action|Adventure|Fantasy|Sci-Fi  ...   \n",
              "1                 40000.0  309404152.0         Action|Adventure|Fantasy  ...   \n",
              "2                 11000.0  200074175.0        Action|Adventure|Thriller  ...   \n",
              "3                 27000.0  448130642.0                  Action|Thriller  ...   \n",
              "4                   131.0          NaN                      Documentary  ...   \n",
              "\n",
              "  num_user_for_reviews language  country  content_rating       budget  \\\n",
              "0               3054.0  English      USA           PG-13  237000000.0   \n",
              "1               1238.0  English      USA           PG-13  300000000.0   \n",
              "2                994.0  English       UK           PG-13  245000000.0   \n",
              "3               2701.0  English      USA           PG-13  250000000.0   \n",
              "4                  NaN      NaN      NaN             NaN          NaN   \n",
              "\n",
              "   title_year actor_2_facebook_likes imdb_score  aspect_ratio  \\\n",
              "0      2009.0                  936.0        7.9          1.78   \n",
              "1      2007.0                 5000.0        7.1          2.35   \n",
              "2      2015.0                  393.0        6.8          2.35   \n",
              "3      2012.0                23000.0        8.5          2.35   \n",
              "4         NaN                   12.0        7.1           NaN   \n",
              "\n",
              "  movie_facebook_likes  \n",
              "0                33000  \n",
              "1                    0  \n",
              "2                85000  \n",
              "3               164000  \n",
              "4                    0  \n",
              "\n",
              "[5 rows x 28 columns]"
            ],
            "text/html": [
              "\n",
              "  <div id=\"df-bc3434fb-e8fc-4a73-a18f-64ad3a9cc1b4\">\n",
              "    <div class=\"colab-df-container\">\n",
              "      <div>\n",
              "<style scoped>\n",
              "    .dataframe tbody tr th:only-of-type {\n",
              "        vertical-align: middle;\n",
              "    }\n",
              "\n",
              "    .dataframe tbody tr th {\n",
              "        vertical-align: top;\n",
              "    }\n",
              "\n",
              "    .dataframe thead th {\n",
              "        text-align: right;\n",
              "    }\n",
              "</style>\n",
              "<table border=\"1\" class=\"dataframe\">\n",
              "  <thead>\n",
              "    <tr style=\"text-align: right;\">\n",
              "      <th></th>\n",
              "      <th>color</th>\n",
              "      <th>director_name</th>\n",
              "      <th>num_critic_for_reviews</th>\n",
              "      <th>duration</th>\n",
              "      <th>director_facebook_likes</th>\n",
              "      <th>actor_3_facebook_likes</th>\n",
              "      <th>actor_2_name</th>\n",
              "      <th>actor_1_facebook_likes</th>\n",
              "      <th>gross</th>\n",
              "      <th>genres</th>\n",
              "      <th>...</th>\n",
              "      <th>num_user_for_reviews</th>\n",
              "      <th>language</th>\n",
              "      <th>country</th>\n",
              "      <th>content_rating</th>\n",
              "      <th>budget</th>\n",
              "      <th>title_year</th>\n",
              "      <th>actor_2_facebook_likes</th>\n",
              "      <th>imdb_score</th>\n",
              "      <th>aspect_ratio</th>\n",
              "      <th>movie_facebook_likes</th>\n",
              "    </tr>\n",
              "  </thead>\n",
              "  <tbody>\n",
              "    <tr>\n",
              "      <th>0</th>\n",
              "      <td>Color</td>\n",
              "      <td>James Cameron</td>\n",
              "      <td>723.0</td>\n",
              "      <td>178.0</td>\n",
              "      <td>0.0</td>\n",
              "      <td>855.0</td>\n",
              "      <td>Joel David Moore</td>\n",
              "      <td>1000.0</td>\n",
              "      <td>760505847.0</td>\n",
              "      <td>Action|Adventure|Fantasy|Sci-Fi</td>\n",
              "      <td>...</td>\n",
              "      <td>3054.0</td>\n",
              "      <td>English</td>\n",
              "      <td>USA</td>\n",
              "      <td>PG-13</td>\n",
              "      <td>237000000.0</td>\n",
              "      <td>2009.0</td>\n",
              "      <td>936.0</td>\n",
              "      <td>7.9</td>\n",
              "      <td>1.78</td>\n",
              "      <td>33000</td>\n",
              "    </tr>\n",
              "    <tr>\n",
              "      <th>1</th>\n",
              "      <td>Color</td>\n",
              "      <td>Gore Verbinski</td>\n",
              "      <td>302.0</td>\n",
              "      <td>169.0</td>\n",
              "      <td>563.0</td>\n",
              "      <td>1000.0</td>\n",
              "      <td>Orlando Bloom</td>\n",
              "      <td>40000.0</td>\n",
              "      <td>309404152.0</td>\n",
              "      <td>Action|Adventure|Fantasy</td>\n",
              "      <td>...</td>\n",
              "      <td>1238.0</td>\n",
              "      <td>English</td>\n",
              "      <td>USA</td>\n",
              "      <td>PG-13</td>\n",
              "      <td>300000000.0</td>\n",
              "      <td>2007.0</td>\n",
              "      <td>5000.0</td>\n",
              "      <td>7.1</td>\n",
              "      <td>2.35</td>\n",
              "      <td>0</td>\n",
              "    </tr>\n",
              "    <tr>\n",
              "      <th>2</th>\n",
              "      <td>Color</td>\n",
              "      <td>Sam Mendes</td>\n",
              "      <td>602.0</td>\n",
              "      <td>148.0</td>\n",
              "      <td>0.0</td>\n",
              "      <td>161.0</td>\n",
              "      <td>Rory Kinnear</td>\n",
              "      <td>11000.0</td>\n",
              "      <td>200074175.0</td>\n",
              "      <td>Action|Adventure|Thriller</td>\n",
              "      <td>...</td>\n",
              "      <td>994.0</td>\n",
              "      <td>English</td>\n",
              "      <td>UK</td>\n",
              "      <td>PG-13</td>\n",
              "      <td>245000000.0</td>\n",
              "      <td>2015.0</td>\n",
              "      <td>393.0</td>\n",
              "      <td>6.8</td>\n",
              "      <td>2.35</td>\n",
              "      <td>85000</td>\n",
              "    </tr>\n",
              "    <tr>\n",
              "      <th>3</th>\n",
              "      <td>Color</td>\n",
              "      <td>Christopher Nolan</td>\n",
              "      <td>813.0</td>\n",
              "      <td>164.0</td>\n",
              "      <td>22000.0</td>\n",
              "      <td>23000.0</td>\n",
              "      <td>Christian Bale</td>\n",
              "      <td>27000.0</td>\n",
              "      <td>448130642.0</td>\n",
              "      <td>Action|Thriller</td>\n",
              "      <td>...</td>\n",
              "      <td>2701.0</td>\n",
              "      <td>English</td>\n",
              "      <td>USA</td>\n",
              "      <td>PG-13</td>\n",
              "      <td>250000000.0</td>\n",
              "      <td>2012.0</td>\n",
              "      <td>23000.0</td>\n",
              "      <td>8.5</td>\n",
              "      <td>2.35</td>\n",
              "      <td>164000</td>\n",
              "    </tr>\n",
              "    <tr>\n",
              "      <th>4</th>\n",
              "      <td>NaN</td>\n",
              "      <td>Doug Walker</td>\n",
              "      <td>NaN</td>\n",
              "      <td>NaN</td>\n",
              "      <td>131.0</td>\n",
              "      <td>NaN</td>\n",
              "      <td>Rob Walker</td>\n",
              "      <td>131.0</td>\n",
              "      <td>NaN</td>\n",
              "      <td>Documentary</td>\n",
              "      <td>...</td>\n",
              "      <td>NaN</td>\n",
              "      <td>NaN</td>\n",
              "      <td>NaN</td>\n",
              "      <td>NaN</td>\n",
              "      <td>NaN</td>\n",
              "      <td>NaN</td>\n",
              "      <td>12.0</td>\n",
              "      <td>7.1</td>\n",
              "      <td>NaN</td>\n",
              "      <td>0</td>\n",
              "    </tr>\n",
              "  </tbody>\n",
              "</table>\n",
              "<p>5 rows × 28 columns</p>\n",
              "</div>\n",
              "      <button class=\"colab-df-convert\" onclick=\"convertToInteractive('df-bc3434fb-e8fc-4a73-a18f-64ad3a9cc1b4')\"\n",
              "              title=\"Convert this dataframe to an interactive table.\"\n",
              "              style=\"display:none;\">\n",
              "        \n",
              "  <svg xmlns=\"http://www.w3.org/2000/svg\" height=\"24px\"viewBox=\"0 0 24 24\"\n",
              "       width=\"24px\">\n",
              "    <path d=\"M0 0h24v24H0V0z\" fill=\"none\"/>\n",
              "    <path d=\"M18.56 5.44l.94 2.06.94-2.06 2.06-.94-2.06-.94-.94-2.06-.94 2.06-2.06.94zm-11 1L8.5 8.5l.94-2.06 2.06-.94-2.06-.94L8.5 2.5l-.94 2.06-2.06.94zm10 10l.94 2.06.94-2.06 2.06-.94-2.06-.94-.94-2.06-.94 2.06-2.06.94z\"/><path d=\"M17.41 7.96l-1.37-1.37c-.4-.4-.92-.59-1.43-.59-.52 0-1.04.2-1.43.59L10.3 9.45l-7.72 7.72c-.78.78-.78 2.05 0 2.83L4 21.41c.39.39.9.59 1.41.59.51 0 1.02-.2 1.41-.59l7.78-7.78 2.81-2.81c.8-.78.8-2.07 0-2.86zM5.41 20L4 18.59l7.72-7.72 1.47 1.35L5.41 20z\"/>\n",
              "  </svg>\n",
              "      </button>\n",
              "      \n",
              "  <style>\n",
              "    .colab-df-container {\n",
              "      display:flex;\n",
              "      flex-wrap:wrap;\n",
              "      gap: 12px;\n",
              "    }\n",
              "\n",
              "    .colab-df-convert {\n",
              "      background-color: #E8F0FE;\n",
              "      border: none;\n",
              "      border-radius: 50%;\n",
              "      cursor: pointer;\n",
              "      display: none;\n",
              "      fill: #1967D2;\n",
              "      height: 32px;\n",
              "      padding: 0 0 0 0;\n",
              "      width: 32px;\n",
              "    }\n",
              "\n",
              "    .colab-df-convert:hover {\n",
              "      background-color: #E2EBFA;\n",
              "      box-shadow: 0px 1px 2px rgba(60, 64, 67, 0.3), 0px 1px 3px 1px rgba(60, 64, 67, 0.15);\n",
              "      fill: #174EA6;\n",
              "    }\n",
              "\n",
              "    [theme=dark] .colab-df-convert {\n",
              "      background-color: #3B4455;\n",
              "      fill: #D2E3FC;\n",
              "    }\n",
              "\n",
              "    [theme=dark] .colab-df-convert:hover {\n",
              "      background-color: #434B5C;\n",
              "      box-shadow: 0px 1px 3px 1px rgba(0, 0, 0, 0.15);\n",
              "      filter: drop-shadow(0px 1px 2px rgba(0, 0, 0, 0.3));\n",
              "      fill: #FFFFFF;\n",
              "    }\n",
              "  </style>\n",
              "\n",
              "      <script>\n",
              "        const buttonEl =\n",
              "          document.querySelector('#df-bc3434fb-e8fc-4a73-a18f-64ad3a9cc1b4 button.colab-df-convert');\n",
              "        buttonEl.style.display =\n",
              "          google.colab.kernel.accessAllowed ? 'block' : 'none';\n",
              "\n",
              "        async function convertToInteractive(key) {\n",
              "          const element = document.querySelector('#df-bc3434fb-e8fc-4a73-a18f-64ad3a9cc1b4');\n",
              "          const dataTable =\n",
              "            await google.colab.kernel.invokeFunction('convertToInteractive',\n",
              "                                                     [key], {});\n",
              "          if (!dataTable) return;\n",
              "\n",
              "          const docLinkHtml = 'Like what you see? Visit the ' +\n",
              "            '<a target=\"_blank\" href=https://colab.research.google.com/notebooks/data_table.ipynb>data table notebook</a>'\n",
              "            + ' to learn more about interactive tables.';\n",
              "          element.innerHTML = '';\n",
              "          dataTable['output_type'] = 'display_data';\n",
              "          await google.colab.output.renderOutput(dataTable, element);\n",
              "          const docLink = document.createElement('div');\n",
              "          docLink.innerHTML = docLinkHtml;\n",
              "          element.appendChild(docLink);\n",
              "        }\n",
              "      </script>\n",
              "    </div>\n",
              "  </div>\n",
              "  "
            ]
          },
          "metadata": {},
          "execution_count": 3
        }
      ]
    },
    {
      "cell_type": "code",
      "source": [
        "df.shape"
      ],
      "metadata": {
        "colab": {
          "base_uri": "https://localhost:8080/"
        },
        "id": "uC4BsjyqgYdq",
        "outputId": "46604c37-dc48-4ea7-c117-133e495ece26"
      },
      "execution_count": 4,
      "outputs": [
        {
          "output_type": "execute_result",
          "data": {
            "text/plain": [
              "(5043, 28)"
            ]
          },
          "metadata": {},
          "execution_count": 4
        }
      ]
    },
    {
      "cell_type": "code",
      "source": [
        "df.dtypes"
      ],
      "metadata": {
        "colab": {
          "base_uri": "https://localhost:8080/"
        },
        "id": "wKw5AeD-gcxD",
        "outputId": "d6d947f4-0338-43f4-ca9c-0ab87ea45e18"
      },
      "execution_count": 5,
      "outputs": [
        {
          "output_type": "execute_result",
          "data": {
            "text/plain": [
              "color                         object\n",
              "director_name                 object\n",
              "num_critic_for_reviews       float64\n",
              "duration                     float64\n",
              "director_facebook_likes      float64\n",
              "actor_3_facebook_likes       float64\n",
              "actor_2_name                  object\n",
              "actor_1_facebook_likes       float64\n",
              "gross                        float64\n",
              "genres                        object\n",
              "actor_1_name                  object\n",
              "movie_title                   object\n",
              "num_voted_users                int64\n",
              "cast_total_facebook_likes      int64\n",
              "actor_3_name                  object\n",
              "facenumber_in_poster         float64\n",
              "plot_keywords                 object\n",
              "movie_imdb_link               object\n",
              "num_user_for_reviews         float64\n",
              "language                      object\n",
              "country                       object\n",
              "content_rating                object\n",
              "budget                       float64\n",
              "title_year                   float64\n",
              "actor_2_facebook_likes       float64\n",
              "imdb_score                   float64\n",
              "aspect_ratio                 float64\n",
              "movie_facebook_likes           int64\n",
              "dtype: object"
            ]
          },
          "metadata": {},
          "execution_count": 5
        }
      ]
    },
    {
      "cell_type": "code",
      "source": [
        "df.describe().T"
      ],
      "metadata": {
        "colab": {
          "base_uri": "https://localhost:8080/",
          "height": 615
        },
        "id": "y-EIVhIVgixS",
        "outputId": "cb030b04-aaba-4821-9354-381f2e3ad291"
      },
      "execution_count": 6,
      "outputs": [
        {
          "output_type": "execute_result",
          "data": {
            "text/plain": [
              "                            count          mean           std      min  \\\n",
              "num_critic_for_reviews     4993.0  1.401943e+02  1.216017e+02     1.00   \n",
              "duration                   5028.0  1.072011e+02  2.519744e+01     7.00   \n",
              "director_facebook_likes    4939.0  6.865092e+02  2.813329e+03     0.00   \n",
              "actor_3_facebook_likes     5020.0  6.450098e+02  1.665042e+03     0.00   \n",
              "actor_1_facebook_likes     5036.0  6.560047e+03  1.502076e+04     0.00   \n",
              "gross                      4159.0  4.846841e+07  6.845299e+07   162.00   \n",
              "num_voted_users            5043.0  8.366816e+04  1.384853e+05     5.00   \n",
              "cast_total_facebook_likes  5043.0  9.699064e+03  1.816380e+04     0.00   \n",
              "facenumber_in_poster       5030.0  1.371173e+00  2.013576e+00     0.00   \n",
              "num_user_for_reviews       5022.0  2.727708e+02  3.779829e+02     1.00   \n",
              "budget                     4551.0  3.975262e+07  2.061149e+08   218.00   \n",
              "title_year                 4935.0  2.002471e+03  1.247460e+01  1916.00   \n",
              "actor_2_facebook_likes     5030.0  1.651754e+03  4.042439e+03     0.00   \n",
              "imdb_score                 5043.0  6.442138e+00  1.125116e+00     1.60   \n",
              "aspect_ratio               4714.0  2.220403e+00  1.385113e+00     1.18   \n",
              "movie_facebook_likes       5043.0  7.525965e+03  1.932045e+04     0.00   \n",
              "\n",
              "                                  25%          50%          75%           max  \n",
              "num_critic_for_reviews          50.00       110.00       195.00  8.130000e+02  \n",
              "duration                        93.00       103.00       118.00  5.110000e+02  \n",
              "director_facebook_likes          7.00        49.00       194.50  2.300000e+04  \n",
              "actor_3_facebook_likes         133.00       371.50       636.00  2.300000e+04  \n",
              "actor_1_facebook_likes         614.00       988.00     11000.00  6.400000e+05  \n",
              "gross                      5340987.50  25517500.00  62309437.50  7.605058e+08  \n",
              "num_voted_users               8593.50     34359.00     96309.00  1.689764e+06  \n",
              "cast_total_facebook_likes     1411.00      3090.00     13756.50  6.567300e+05  \n",
              "facenumber_in_poster             0.00         1.00         2.00  4.300000e+01  \n",
              "num_user_for_reviews            65.00       156.00       326.00  5.060000e+03  \n",
              "budget                     6000000.00  20000000.00  45000000.00  1.221550e+10  \n",
              "title_year                    1999.00      2005.00      2011.00  2.016000e+03  \n",
              "actor_2_facebook_likes         281.00       595.00       918.00  1.370000e+05  \n",
              "imdb_score                       5.80         6.60         7.20  9.500000e+00  \n",
              "aspect_ratio                     1.85         2.35         2.35  1.600000e+01  \n",
              "movie_facebook_likes             0.00       166.00      3000.00  3.490000e+05  "
            ],
            "text/html": [
              "\n",
              "  <div id=\"df-a5179f39-27a8-4fa6-b364-6518f02321f3\">\n",
              "    <div class=\"colab-df-container\">\n",
              "      <div>\n",
              "<style scoped>\n",
              "    .dataframe tbody tr th:only-of-type {\n",
              "        vertical-align: middle;\n",
              "    }\n",
              "\n",
              "    .dataframe tbody tr th {\n",
              "        vertical-align: top;\n",
              "    }\n",
              "\n",
              "    .dataframe thead th {\n",
              "        text-align: right;\n",
              "    }\n",
              "</style>\n",
              "<table border=\"1\" class=\"dataframe\">\n",
              "  <thead>\n",
              "    <tr style=\"text-align: right;\">\n",
              "      <th></th>\n",
              "      <th>count</th>\n",
              "      <th>mean</th>\n",
              "      <th>std</th>\n",
              "      <th>min</th>\n",
              "      <th>25%</th>\n",
              "      <th>50%</th>\n",
              "      <th>75%</th>\n",
              "      <th>max</th>\n",
              "    </tr>\n",
              "  </thead>\n",
              "  <tbody>\n",
              "    <tr>\n",
              "      <th>num_critic_for_reviews</th>\n",
              "      <td>4993.0</td>\n",
              "      <td>1.401943e+02</td>\n",
              "      <td>1.216017e+02</td>\n",
              "      <td>1.00</td>\n",
              "      <td>50.00</td>\n",
              "      <td>110.00</td>\n",
              "      <td>195.00</td>\n",
              "      <td>8.130000e+02</td>\n",
              "    </tr>\n",
              "    <tr>\n",
              "      <th>duration</th>\n",
              "      <td>5028.0</td>\n",
              "      <td>1.072011e+02</td>\n",
              "      <td>2.519744e+01</td>\n",
              "      <td>7.00</td>\n",
              "      <td>93.00</td>\n",
              "      <td>103.00</td>\n",
              "      <td>118.00</td>\n",
              "      <td>5.110000e+02</td>\n",
              "    </tr>\n",
              "    <tr>\n",
              "      <th>director_facebook_likes</th>\n",
              "      <td>4939.0</td>\n",
              "      <td>6.865092e+02</td>\n",
              "      <td>2.813329e+03</td>\n",
              "      <td>0.00</td>\n",
              "      <td>7.00</td>\n",
              "      <td>49.00</td>\n",
              "      <td>194.50</td>\n",
              "      <td>2.300000e+04</td>\n",
              "    </tr>\n",
              "    <tr>\n",
              "      <th>actor_3_facebook_likes</th>\n",
              "      <td>5020.0</td>\n",
              "      <td>6.450098e+02</td>\n",
              "      <td>1.665042e+03</td>\n",
              "      <td>0.00</td>\n",
              "      <td>133.00</td>\n",
              "      <td>371.50</td>\n",
              "      <td>636.00</td>\n",
              "      <td>2.300000e+04</td>\n",
              "    </tr>\n",
              "    <tr>\n",
              "      <th>actor_1_facebook_likes</th>\n",
              "      <td>5036.0</td>\n",
              "      <td>6.560047e+03</td>\n",
              "      <td>1.502076e+04</td>\n",
              "      <td>0.00</td>\n",
              "      <td>614.00</td>\n",
              "      <td>988.00</td>\n",
              "      <td>11000.00</td>\n",
              "      <td>6.400000e+05</td>\n",
              "    </tr>\n",
              "    <tr>\n",
              "      <th>gross</th>\n",
              "      <td>4159.0</td>\n",
              "      <td>4.846841e+07</td>\n",
              "      <td>6.845299e+07</td>\n",
              "      <td>162.00</td>\n",
              "      <td>5340987.50</td>\n",
              "      <td>25517500.00</td>\n",
              "      <td>62309437.50</td>\n",
              "      <td>7.605058e+08</td>\n",
              "    </tr>\n",
              "    <tr>\n",
              "      <th>num_voted_users</th>\n",
              "      <td>5043.0</td>\n",
              "      <td>8.366816e+04</td>\n",
              "      <td>1.384853e+05</td>\n",
              "      <td>5.00</td>\n",
              "      <td>8593.50</td>\n",
              "      <td>34359.00</td>\n",
              "      <td>96309.00</td>\n",
              "      <td>1.689764e+06</td>\n",
              "    </tr>\n",
              "    <tr>\n",
              "      <th>cast_total_facebook_likes</th>\n",
              "      <td>5043.0</td>\n",
              "      <td>9.699064e+03</td>\n",
              "      <td>1.816380e+04</td>\n",
              "      <td>0.00</td>\n",
              "      <td>1411.00</td>\n",
              "      <td>3090.00</td>\n",
              "      <td>13756.50</td>\n",
              "      <td>6.567300e+05</td>\n",
              "    </tr>\n",
              "    <tr>\n",
              "      <th>facenumber_in_poster</th>\n",
              "      <td>5030.0</td>\n",
              "      <td>1.371173e+00</td>\n",
              "      <td>2.013576e+00</td>\n",
              "      <td>0.00</td>\n",
              "      <td>0.00</td>\n",
              "      <td>1.00</td>\n",
              "      <td>2.00</td>\n",
              "      <td>4.300000e+01</td>\n",
              "    </tr>\n",
              "    <tr>\n",
              "      <th>num_user_for_reviews</th>\n",
              "      <td>5022.0</td>\n",
              "      <td>2.727708e+02</td>\n",
              "      <td>3.779829e+02</td>\n",
              "      <td>1.00</td>\n",
              "      <td>65.00</td>\n",
              "      <td>156.00</td>\n",
              "      <td>326.00</td>\n",
              "      <td>5.060000e+03</td>\n",
              "    </tr>\n",
              "    <tr>\n",
              "      <th>budget</th>\n",
              "      <td>4551.0</td>\n",
              "      <td>3.975262e+07</td>\n",
              "      <td>2.061149e+08</td>\n",
              "      <td>218.00</td>\n",
              "      <td>6000000.00</td>\n",
              "      <td>20000000.00</td>\n",
              "      <td>45000000.00</td>\n",
              "      <td>1.221550e+10</td>\n",
              "    </tr>\n",
              "    <tr>\n",
              "      <th>title_year</th>\n",
              "      <td>4935.0</td>\n",
              "      <td>2.002471e+03</td>\n",
              "      <td>1.247460e+01</td>\n",
              "      <td>1916.00</td>\n",
              "      <td>1999.00</td>\n",
              "      <td>2005.00</td>\n",
              "      <td>2011.00</td>\n",
              "      <td>2.016000e+03</td>\n",
              "    </tr>\n",
              "    <tr>\n",
              "      <th>actor_2_facebook_likes</th>\n",
              "      <td>5030.0</td>\n",
              "      <td>1.651754e+03</td>\n",
              "      <td>4.042439e+03</td>\n",
              "      <td>0.00</td>\n",
              "      <td>281.00</td>\n",
              "      <td>595.00</td>\n",
              "      <td>918.00</td>\n",
              "      <td>1.370000e+05</td>\n",
              "    </tr>\n",
              "    <tr>\n",
              "      <th>imdb_score</th>\n",
              "      <td>5043.0</td>\n",
              "      <td>6.442138e+00</td>\n",
              "      <td>1.125116e+00</td>\n",
              "      <td>1.60</td>\n",
              "      <td>5.80</td>\n",
              "      <td>6.60</td>\n",
              "      <td>7.20</td>\n",
              "      <td>9.500000e+00</td>\n",
              "    </tr>\n",
              "    <tr>\n",
              "      <th>aspect_ratio</th>\n",
              "      <td>4714.0</td>\n",
              "      <td>2.220403e+00</td>\n",
              "      <td>1.385113e+00</td>\n",
              "      <td>1.18</td>\n",
              "      <td>1.85</td>\n",
              "      <td>2.35</td>\n",
              "      <td>2.35</td>\n",
              "      <td>1.600000e+01</td>\n",
              "    </tr>\n",
              "    <tr>\n",
              "      <th>movie_facebook_likes</th>\n",
              "      <td>5043.0</td>\n",
              "      <td>7.525965e+03</td>\n",
              "      <td>1.932045e+04</td>\n",
              "      <td>0.00</td>\n",
              "      <td>0.00</td>\n",
              "      <td>166.00</td>\n",
              "      <td>3000.00</td>\n",
              "      <td>3.490000e+05</td>\n",
              "    </tr>\n",
              "  </tbody>\n",
              "</table>\n",
              "</div>\n",
              "      <button class=\"colab-df-convert\" onclick=\"convertToInteractive('df-a5179f39-27a8-4fa6-b364-6518f02321f3')\"\n",
              "              title=\"Convert this dataframe to an interactive table.\"\n",
              "              style=\"display:none;\">\n",
              "        \n",
              "  <svg xmlns=\"http://www.w3.org/2000/svg\" height=\"24px\"viewBox=\"0 0 24 24\"\n",
              "       width=\"24px\">\n",
              "    <path d=\"M0 0h24v24H0V0z\" fill=\"none\"/>\n",
              "    <path d=\"M18.56 5.44l.94 2.06.94-2.06 2.06-.94-2.06-.94-.94-2.06-.94 2.06-2.06.94zm-11 1L8.5 8.5l.94-2.06 2.06-.94-2.06-.94L8.5 2.5l-.94 2.06-2.06.94zm10 10l.94 2.06.94-2.06 2.06-.94-2.06-.94-.94-2.06-.94 2.06-2.06.94z\"/><path d=\"M17.41 7.96l-1.37-1.37c-.4-.4-.92-.59-1.43-.59-.52 0-1.04.2-1.43.59L10.3 9.45l-7.72 7.72c-.78.78-.78 2.05 0 2.83L4 21.41c.39.39.9.59 1.41.59.51 0 1.02-.2 1.41-.59l7.78-7.78 2.81-2.81c.8-.78.8-2.07 0-2.86zM5.41 20L4 18.59l7.72-7.72 1.47 1.35L5.41 20z\"/>\n",
              "  </svg>\n",
              "      </button>\n",
              "      \n",
              "  <style>\n",
              "    .colab-df-container {\n",
              "      display:flex;\n",
              "      flex-wrap:wrap;\n",
              "      gap: 12px;\n",
              "    }\n",
              "\n",
              "    .colab-df-convert {\n",
              "      background-color: #E8F0FE;\n",
              "      border: none;\n",
              "      border-radius: 50%;\n",
              "      cursor: pointer;\n",
              "      display: none;\n",
              "      fill: #1967D2;\n",
              "      height: 32px;\n",
              "      padding: 0 0 0 0;\n",
              "      width: 32px;\n",
              "    }\n",
              "\n",
              "    .colab-df-convert:hover {\n",
              "      background-color: #E2EBFA;\n",
              "      box-shadow: 0px 1px 2px rgba(60, 64, 67, 0.3), 0px 1px 3px 1px rgba(60, 64, 67, 0.15);\n",
              "      fill: #174EA6;\n",
              "    }\n",
              "\n",
              "    [theme=dark] .colab-df-convert {\n",
              "      background-color: #3B4455;\n",
              "      fill: #D2E3FC;\n",
              "    }\n",
              "\n",
              "    [theme=dark] .colab-df-convert:hover {\n",
              "      background-color: #434B5C;\n",
              "      box-shadow: 0px 1px 3px 1px rgba(0, 0, 0, 0.15);\n",
              "      filter: drop-shadow(0px 1px 2px rgba(0, 0, 0, 0.3));\n",
              "      fill: #FFFFFF;\n",
              "    }\n",
              "  </style>\n",
              "\n",
              "      <script>\n",
              "        const buttonEl =\n",
              "          document.querySelector('#df-a5179f39-27a8-4fa6-b364-6518f02321f3 button.colab-df-convert');\n",
              "        buttonEl.style.display =\n",
              "          google.colab.kernel.accessAllowed ? 'block' : 'none';\n",
              "\n",
              "        async function convertToInteractive(key) {\n",
              "          const element = document.querySelector('#df-a5179f39-27a8-4fa6-b364-6518f02321f3');\n",
              "          const dataTable =\n",
              "            await google.colab.kernel.invokeFunction('convertToInteractive',\n",
              "                                                     [key], {});\n",
              "          if (!dataTable) return;\n",
              "\n",
              "          const docLinkHtml = 'Like what you see? Visit the ' +\n",
              "            '<a target=\"_blank\" href=https://colab.research.google.com/notebooks/data_table.ipynb>data table notebook</a>'\n",
              "            + ' to learn more about interactive tables.';\n",
              "          element.innerHTML = '';\n",
              "          dataTable['output_type'] = 'display_data';\n",
              "          await google.colab.output.renderOutput(dataTable, element);\n",
              "          const docLink = document.createElement('div');\n",
              "          docLink.innerHTML = docLinkHtml;\n",
              "          element.appendChild(docLink);\n",
              "        }\n",
              "      </script>\n",
              "    </div>\n",
              "  </div>\n",
              "  "
            ]
          },
          "metadata": {},
          "execution_count": 6
        }
      ]
    },
    {
      "cell_type": "markdown",
      "source": [
        "# Data Preparation"
      ],
      "metadata": {
        "id": "FlMgfiEiXwP6"
      }
    },
    {
      "cell_type": "markdown",
      "source": [
        "## Removing"
      ],
      "metadata": {
        "id": "Izt0i5xSrrYl"
      }
    },
    {
      "cell_type": "code",
      "source": [
        "# Removing Attrb that not relevant\n",
        "\n",
        "df.drop( 'movie_imdb_link', axis=1, inplace = True)\n",
        "df.drop('movie_title',axis=1,inplace=True)\n",
        "df.drop( 'num_critic_for_reviews', axis=1, inplace = True)\n",
        "df.drop( 'gross', axis=1, inplace = True)\n",
        "df.drop( 'num_voted_users', axis=1, inplace = True)\n",
        "df.drop( 'num_user_for_reviews', axis=1, inplace = True)\n",
        "df.drop( 'title_year', axis=1, inplace = True)\n",
        "#df.drop( 'movie_facebook_likes', axis=1, inplace = True)\n",
        "df.drop( 'cast_total_facebook_likes',axis=1,inplace=True)\n",
        "#df.drop( 'director_facebook_likes',axis=1,inplace=True)\n",
        "#df.drop( 'actor_3_facebook_likes',axis=1,inplace=True)\n",
        "#df.drop( 'actor_1_facebook_likes',axis=1,inplace=True)\n",
        "#df.drop( 'actor_2_facebook_likes',axis=1,inplace=True)\n",
        "df.drop( 'aspect_ratio',axis=1,inplace=True)\n",
        "#df.drop( 'facenumber_in_poster',axis=1,inplace=True)"
      ],
      "metadata": {
        "id": "uJwgdjVohfVk"
      },
      "execution_count": 7,
      "outputs": []
    },
    {
      "cell_type": "code",
      "source": [
        "df.drop( 'director_name', axis=1, inplace = True)\n",
        "df.drop( 'actor_1_name', axis=1, inplace = True)\n",
        "df.drop( 'actor_2_name', axis=1, inplace = True)\n",
        "df.drop( 'actor_3_name', axis=1, inplace = True)"
      ],
      "metadata": {
        "id": "dwPv_ACNUFD-"
      },
      "execution_count": 8,
      "outputs": []
    },
    {
      "cell_type": "code",
      "source": [
        "df.columns"
      ],
      "metadata": {
        "colab": {
          "base_uri": "https://localhost:8080/"
        },
        "id": "uWtBMXFTh1z1",
        "outputId": "d4564c36-4767-4c62-b745-04801b9fb11d"
      },
      "execution_count": 9,
      "outputs": [
        {
          "output_type": "execute_result",
          "data": {
            "text/plain": [
              "Index(['color', 'duration', 'director_facebook_likes',\n",
              "       'actor_3_facebook_likes', 'actor_1_facebook_likes', 'genres',\n",
              "       'facenumber_in_poster', 'plot_keywords', 'language', 'country',\n",
              "       'content_rating', 'budget', 'actor_2_facebook_likes', 'imdb_score',\n",
              "       'movie_facebook_likes'],\n",
              "      dtype='object')"
            ]
          },
          "metadata": {},
          "execution_count": 9
        }
      ]
    },
    {
      "cell_type": "code",
      "source": [
        "# Checking NaN Value in each Attrb\n",
        "df.isna().any()"
      ],
      "metadata": {
        "colab": {
          "base_uri": "https://localhost:8080/"
        },
        "id": "O9nerEOlByFW",
        "outputId": "458b1a1f-8f3c-49fb-e1a6-47a4c579c515"
      },
      "execution_count": 10,
      "outputs": [
        {
          "output_type": "execute_result",
          "data": {
            "text/plain": [
              "color                       True\n",
              "duration                    True\n",
              "director_facebook_likes     True\n",
              "actor_3_facebook_likes      True\n",
              "actor_1_facebook_likes      True\n",
              "genres                     False\n",
              "facenumber_in_poster        True\n",
              "plot_keywords               True\n",
              "language                    True\n",
              "country                     True\n",
              "content_rating              True\n",
              "budget                      True\n",
              "actor_2_facebook_likes      True\n",
              "imdb_score                 False\n",
              "movie_facebook_likes       False\n",
              "dtype: bool"
            ]
          },
          "metadata": {},
          "execution_count": 10
        }
      ]
    },
    {
      "cell_type": "code",
      "source": [
        "#Checking Number of NaN Value in each Attrb\n",
        "df.isna().sum()"
      ],
      "metadata": {
        "colab": {
          "base_uri": "https://localhost:8080/"
        },
        "id": "L3wS7hCUB-X4",
        "outputId": "eb349b0a-f6bc-47f8-f587-f1bd0d5cc213"
      },
      "execution_count": 11,
      "outputs": [
        {
          "output_type": "execute_result",
          "data": {
            "text/plain": [
              "color                       19\n",
              "duration                    15\n",
              "director_facebook_likes    104\n",
              "actor_3_facebook_likes      23\n",
              "actor_1_facebook_likes       7\n",
              "genres                       0\n",
              "facenumber_in_poster        13\n",
              "plot_keywords              153\n",
              "language                    12\n",
              "country                      5\n",
              "content_rating             303\n",
              "budget                     492\n",
              "actor_2_facebook_likes      13\n",
              "imdb_score                   0\n",
              "movie_facebook_likes         0\n",
              "dtype: int64"
            ]
          },
          "metadata": {},
          "execution_count": 11
        }
      ]
    },
    {
      "cell_type": "code",
      "source": [
        "new_df = df.dropna()"
      ],
      "metadata": {
        "id": "wTyLfbZzDEHl"
      },
      "execution_count": 12,
      "outputs": []
    },
    {
      "cell_type": "code",
      "source": [
        "new_df.isna().sum()"
      ],
      "metadata": {
        "colab": {
          "base_uri": "https://localhost:8080/"
        },
        "id": "oG4WPC_NDLl9",
        "outputId": "d8aa2991-bc7c-4202-f11d-0ddfff3f9b92"
      },
      "execution_count": 13,
      "outputs": [
        {
          "output_type": "execute_result",
          "data": {
            "text/plain": [
              "color                      0\n",
              "duration                   0\n",
              "director_facebook_likes    0\n",
              "actor_3_facebook_likes     0\n",
              "actor_1_facebook_likes     0\n",
              "genres                     0\n",
              "facenumber_in_poster       0\n",
              "plot_keywords              0\n",
              "language                   0\n",
              "country                    0\n",
              "content_rating             0\n",
              "budget                     0\n",
              "actor_2_facebook_likes     0\n",
              "imdb_score                 0\n",
              "movie_facebook_likes       0\n",
              "dtype: int64"
            ]
          },
          "metadata": {},
          "execution_count": 13
        }
      ]
    },
    {
      "cell_type": "code",
      "source": [
        "new_df.shape"
      ],
      "metadata": {
        "colab": {
          "base_uri": "https://localhost:8080/"
        },
        "id": "Jcsdq-i2Db3y",
        "outputId": "a9f0a2fb-3f72-4543-a748-78f4cc18a774"
      },
      "execution_count": 14,
      "outputs": [
        {
          "output_type": "execute_result",
          "data": {
            "text/plain": [
              "(4256, 15)"
            ]
          },
          "metadata": {},
          "execution_count": 14
        }
      ]
    },
    {
      "cell_type": "code",
      "source": [
        "df = new_df"
      ],
      "metadata": {
        "id": "GtGIAOROPlX3"
      },
      "execution_count": 15,
      "outputs": []
    },
    {
      "cell_type": "code",
      "source": [
        "df.drop_duplicates(inplace=True)\n",
        "df.shape"
      ],
      "metadata": {
        "colab": {
          "base_uri": "https://localhost:8080/"
        },
        "id": "aPmlWwNaOTnf",
        "outputId": "ad649b98-8751-4b75-a5de-943d9e16f310"
      },
      "execution_count": 16,
      "outputs": [
        {
          "output_type": "stream",
          "name": "stderr",
          "text": [
            "/usr/local/lib/python3.7/dist-packages/pandas/util/_decorators.py:311: SettingWithCopyWarning: \n",
            "A value is trying to be set on a copy of a slice from a DataFrame\n",
            "\n",
            "See the caveats in the documentation: https://pandas.pydata.org/pandas-docs/stable/user_guide/indexing.html#returning-a-view-versus-a-copy\n",
            "  return func(*args, **kwargs)\n"
          ]
        },
        {
          "output_type": "execute_result",
          "data": {
            "text/plain": [
              "(4158, 15)"
            ]
          },
          "metadata": {},
          "execution_count": 16
        }
      ]
    },
    {
      "cell_type": "code",
      "source": [
        "#Check Amount in Each Language of Movies\n",
        "df[\"language\"].value_counts()"
      ],
      "metadata": {
        "colab": {
          "base_uri": "https://localhost:8080/"
        },
        "id": "XwvCd_FIPN0e",
        "outputId": "bd5e47dc-2ea6-4641-d05b-2c74ea2cc6ec"
      },
      "execution_count": 17,
      "outputs": [
        {
          "output_type": "execute_result",
          "data": {
            "text/plain": [
              "English       3973\n",
              "French          40\n",
              "Spanish         28\n",
              "Mandarin        16\n",
              "Japanese        13\n",
              "German          10\n",
              "Italian          8\n",
              "Cantonese        7\n",
              "Hindi            7\n",
              "Portuguese       6\n",
              "Russian          5\n",
              "Korean           5\n",
              "Norwegian        4\n",
              "Persian          3\n",
              "Danish           3\n",
              "Thai             3\n",
              "Dutch            3\n",
              "Zulu             2\n",
              "Aboriginal       2\n",
              "None             2\n",
              "Indonesian       2\n",
              "Dari             2\n",
              "Hebrew           2\n",
              "Mongolian        1\n",
              "Romanian         1\n",
              "Vietnamese       1\n",
              "Arabic           1\n",
              "Filipino         1\n",
              "Czech            1\n",
              "Maya             1\n",
              "Kazakh           1\n",
              "Aramaic          1\n",
              "Hungarian        1\n",
              "Bosnian          1\n",
              "Swedish          1\n",
              "Name: language, dtype: int64"
            ]
          },
          "metadata": {},
          "execution_count": 17
        }
      ]
    },
    {
      "cell_type": "code",
      "source": [
        "#Drop Language Column because Most of Movie is in English\n",
        "\n",
        "df.drop('language',axis=1,inplace=True)"
      ],
      "metadata": {
        "id": "EF9ZIqPsRJ0y",
        "colab": {
          "base_uri": "https://localhost:8080/"
        },
        "outputId": "a4561fbb-5dee-4c7a-b650-34c646745906"
      },
      "execution_count": 18,
      "outputs": [
        {
          "output_type": "stream",
          "name": "stderr",
          "text": [
            "/usr/local/lib/python3.7/dist-packages/pandas/core/frame.py:4913: SettingWithCopyWarning: \n",
            "A value is trying to be set on a copy of a slice from a DataFrame\n",
            "\n",
            "See the caveats in the documentation: https://pandas.pydata.org/pandas-docs/stable/user_guide/indexing.html#returning-a-view-versus-a-copy\n",
            "  errors=errors,\n"
          ]
        }
      ]
    },
    {
      "cell_type": "code",
      "source": [
        "df[\"country\"].value_counts()"
      ],
      "metadata": {
        "colab": {
          "base_uri": "https://localhost:8080/"
        },
        "id": "r5tPOVdKRYsz",
        "outputId": "95df78d0-1424-424d-b834-82257aecac86"
      },
      "execution_count": 19,
      "outputs": [
        {
          "output_type": "execute_result",
          "data": {
            "text/plain": [
              "USA               3251\n",
              "UK                 355\n",
              "France             116\n",
              "Canada              89\n",
              "Germany             85\n",
              "Australia           46\n",
              "Spain               25\n",
              "Japan               18\n",
              "Italy               16\n",
              "China               14\n",
              "Hong Kong           13\n",
              "New Zealand         12\n",
              "Denmark              9\n",
              "South Korea          9\n",
              "South Africa         8\n",
              "Norway               7\n",
              "Mexico               7\n",
              "Ireland              7\n",
              "India                7\n",
              "Russia               6\n",
              "Brazil               6\n",
              "Argentina            4\n",
              "Iran                 4\n",
              "Thailand             4\n",
              "Netherlands          4\n",
              "Czech Republic       3\n",
              "Taiwan               2\n",
              "Israel               2\n",
              "Hungary              2\n",
              "West Germany         2\n",
              "Romania              2\n",
              "Belgium              1\n",
              "Iceland              1\n",
              "Sweden               1\n",
              "Switzerland          1\n",
              "Afghanistan          1\n",
              "Indonesia            1\n",
              "Kyrgyzstan           1\n",
              "New Line             1\n",
              "Poland               1\n",
              "Colombia             1\n",
              "Soviet Union         1\n",
              "Finland              1\n",
              "Bahamas              1\n",
              "Greece               1\n",
              "Peru                 1\n",
              "Aruba                1\n",
              "Libya                1\n",
              "Georgia              1\n",
              "Bulgaria             1\n",
              "Chile                1\n",
              "Official site        1\n",
              "Panama               1\n",
              "Philippines          1\n",
              "Name: country, dtype: int64"
            ]
          },
          "metadata": {},
          "execution_count": 19
        }
      ]
    },
    {
      "cell_type": "code",
      "source": [
        "#Drop Country Column because Most of Movie is in USA\n",
        "\n",
        "df.drop('country',axis=1,inplace=True)"
      ],
      "metadata": {
        "id": "MtC8W0sRRlXr",
        "colab": {
          "base_uri": "https://localhost:8080/"
        },
        "outputId": "c6b20f6e-0f85-4f3d-9852-693be6896c74"
      },
      "execution_count": 20,
      "outputs": [
        {
          "output_type": "stream",
          "name": "stderr",
          "text": [
            "/usr/local/lib/python3.7/dist-packages/pandas/core/frame.py:4913: SettingWithCopyWarning: \n",
            "A value is trying to be set on a copy of a slice from a DataFrame\n",
            "\n",
            "See the caveats in the documentation: https://pandas.pydata.org/pandas-docs/stable/user_guide/indexing.html#returning-a-view-versus-a-copy\n",
            "  errors=errors,\n"
          ]
        }
      ]
    },
    {
      "cell_type": "code",
      "source": [
        "df[\"color\"].value_counts()"
      ],
      "metadata": {
        "colab": {
          "base_uri": "https://localhost:8080/"
        },
        "id": "_fhCpfugx8cq",
        "outputId": "abb7d7c1-0132-4bc8-86bf-e3dc85da05cb"
      },
      "execution_count": 21,
      "outputs": [
        {
          "output_type": "execute_result",
          "data": {
            "text/plain": [
              "Color               3986\n",
              " Black and White     172\n",
              "Name: color, dtype: int64"
            ]
          },
          "metadata": {},
          "execution_count": 21
        }
      ]
    },
    {
      "cell_type": "code",
      "source": [
        "#Drop Country Column because Most of Movie is in Color\n",
        "df.drop('color',axis=1,inplace=True)"
      ],
      "metadata": {
        "id": "jhT-uT1fyHYH",
        "colab": {
          "base_uri": "https://localhost:8080/"
        },
        "outputId": "8c7893bb-63c8-42eb-b01b-2bbf22cecbdd"
      },
      "execution_count": 22,
      "outputs": [
        {
          "output_type": "stream",
          "name": "stderr",
          "text": [
            "/usr/local/lib/python3.7/dist-packages/pandas/core/frame.py:4913: SettingWithCopyWarning: \n",
            "A value is trying to be set on a copy of a slice from a DataFrame\n",
            "\n",
            "See the caveats in the documentation: https://pandas.pydata.org/pandas-docs/stable/user_guide/indexing.html#returning-a-view-versus-a-copy\n",
            "  errors=errors,\n"
          ]
        }
      ]
    },
    {
      "cell_type": "code",
      "source": [
        "#Drop Plot Keywords Column because it has too many unique variables per movie\n",
        "df.drop('plot_keywords',axis=1,inplace=True)"
      ],
      "metadata": {
        "colab": {
          "base_uri": "https://localhost:8080/"
        },
        "id": "arzH05KlmRh8",
        "outputId": "e4ed48b9-1f57-448c-90b4-c6ebc3f6b6d4"
      },
      "execution_count": 23,
      "outputs": [
        {
          "output_type": "stream",
          "name": "stderr",
          "text": [
            "/usr/local/lib/python3.7/dist-packages/pandas/core/frame.py:4913: SettingWithCopyWarning: \n",
            "A value is trying to be set on a copy of a slice from a DataFrame\n",
            "\n",
            "See the caveats in the documentation: https://pandas.pydata.org/pandas-docs/stable/user_guide/indexing.html#returning-a-view-versus-a-copy\n",
            "  errors=errors,\n"
          ]
        }
      ]
    },
    {
      "cell_type": "code",
      "source": [
        "df.head()"
      ],
      "metadata": {
        "colab": {
          "base_uri": "https://localhost:8080/",
          "height": 287
        },
        "id": "feKRcl12UcN_",
        "outputId": "1bc82b44-a385-450e-e0ed-ed8c255655d1"
      },
      "execution_count": 24,
      "outputs": [
        {
          "output_type": "execute_result",
          "data": {
            "text/plain": [
              "   duration  director_facebook_likes  actor_3_facebook_likes  \\\n",
              "0     178.0                      0.0                   855.0   \n",
              "1     169.0                    563.0                  1000.0   \n",
              "2     148.0                      0.0                   161.0   \n",
              "3     164.0                  22000.0                 23000.0   \n",
              "5     132.0                    475.0                   530.0   \n",
              "\n",
              "   actor_1_facebook_likes                           genres  \\\n",
              "0                  1000.0  Action|Adventure|Fantasy|Sci-Fi   \n",
              "1                 40000.0         Action|Adventure|Fantasy   \n",
              "2                 11000.0        Action|Adventure|Thriller   \n",
              "3                 27000.0                  Action|Thriller   \n",
              "5                   640.0          Action|Adventure|Sci-Fi   \n",
              "\n",
              "   facenumber_in_poster content_rating       budget  actor_2_facebook_likes  \\\n",
              "0                   0.0          PG-13  237000000.0                   936.0   \n",
              "1                   0.0          PG-13  300000000.0                  5000.0   \n",
              "2                   1.0          PG-13  245000000.0                   393.0   \n",
              "3                   0.0          PG-13  250000000.0                 23000.0   \n",
              "5                   1.0          PG-13  263700000.0                   632.0   \n",
              "\n",
              "   imdb_score  movie_facebook_likes  \n",
              "0         7.9                 33000  \n",
              "1         7.1                     0  \n",
              "2         6.8                 85000  \n",
              "3         8.5                164000  \n",
              "5         6.6                 24000  "
            ],
            "text/html": [
              "\n",
              "  <div id=\"df-5ab890ec-cbe1-471e-8f92-3d1fb59981cd\">\n",
              "    <div class=\"colab-df-container\">\n",
              "      <div>\n",
              "<style scoped>\n",
              "    .dataframe tbody tr th:only-of-type {\n",
              "        vertical-align: middle;\n",
              "    }\n",
              "\n",
              "    .dataframe tbody tr th {\n",
              "        vertical-align: top;\n",
              "    }\n",
              "\n",
              "    .dataframe thead th {\n",
              "        text-align: right;\n",
              "    }\n",
              "</style>\n",
              "<table border=\"1\" class=\"dataframe\">\n",
              "  <thead>\n",
              "    <tr style=\"text-align: right;\">\n",
              "      <th></th>\n",
              "      <th>duration</th>\n",
              "      <th>director_facebook_likes</th>\n",
              "      <th>actor_3_facebook_likes</th>\n",
              "      <th>actor_1_facebook_likes</th>\n",
              "      <th>genres</th>\n",
              "      <th>facenumber_in_poster</th>\n",
              "      <th>content_rating</th>\n",
              "      <th>budget</th>\n",
              "      <th>actor_2_facebook_likes</th>\n",
              "      <th>imdb_score</th>\n",
              "      <th>movie_facebook_likes</th>\n",
              "    </tr>\n",
              "  </thead>\n",
              "  <tbody>\n",
              "    <tr>\n",
              "      <th>0</th>\n",
              "      <td>178.0</td>\n",
              "      <td>0.0</td>\n",
              "      <td>855.0</td>\n",
              "      <td>1000.0</td>\n",
              "      <td>Action|Adventure|Fantasy|Sci-Fi</td>\n",
              "      <td>0.0</td>\n",
              "      <td>PG-13</td>\n",
              "      <td>237000000.0</td>\n",
              "      <td>936.0</td>\n",
              "      <td>7.9</td>\n",
              "      <td>33000</td>\n",
              "    </tr>\n",
              "    <tr>\n",
              "      <th>1</th>\n",
              "      <td>169.0</td>\n",
              "      <td>563.0</td>\n",
              "      <td>1000.0</td>\n",
              "      <td>40000.0</td>\n",
              "      <td>Action|Adventure|Fantasy</td>\n",
              "      <td>0.0</td>\n",
              "      <td>PG-13</td>\n",
              "      <td>300000000.0</td>\n",
              "      <td>5000.0</td>\n",
              "      <td>7.1</td>\n",
              "      <td>0</td>\n",
              "    </tr>\n",
              "    <tr>\n",
              "      <th>2</th>\n",
              "      <td>148.0</td>\n",
              "      <td>0.0</td>\n",
              "      <td>161.0</td>\n",
              "      <td>11000.0</td>\n",
              "      <td>Action|Adventure|Thriller</td>\n",
              "      <td>1.0</td>\n",
              "      <td>PG-13</td>\n",
              "      <td>245000000.0</td>\n",
              "      <td>393.0</td>\n",
              "      <td>6.8</td>\n",
              "      <td>85000</td>\n",
              "    </tr>\n",
              "    <tr>\n",
              "      <th>3</th>\n",
              "      <td>164.0</td>\n",
              "      <td>22000.0</td>\n",
              "      <td>23000.0</td>\n",
              "      <td>27000.0</td>\n",
              "      <td>Action|Thriller</td>\n",
              "      <td>0.0</td>\n",
              "      <td>PG-13</td>\n",
              "      <td>250000000.0</td>\n",
              "      <td>23000.0</td>\n",
              "      <td>8.5</td>\n",
              "      <td>164000</td>\n",
              "    </tr>\n",
              "    <tr>\n",
              "      <th>5</th>\n",
              "      <td>132.0</td>\n",
              "      <td>475.0</td>\n",
              "      <td>530.0</td>\n",
              "      <td>640.0</td>\n",
              "      <td>Action|Adventure|Sci-Fi</td>\n",
              "      <td>1.0</td>\n",
              "      <td>PG-13</td>\n",
              "      <td>263700000.0</td>\n",
              "      <td>632.0</td>\n",
              "      <td>6.6</td>\n",
              "      <td>24000</td>\n",
              "    </tr>\n",
              "  </tbody>\n",
              "</table>\n",
              "</div>\n",
              "      <button class=\"colab-df-convert\" onclick=\"convertToInteractive('df-5ab890ec-cbe1-471e-8f92-3d1fb59981cd')\"\n",
              "              title=\"Convert this dataframe to an interactive table.\"\n",
              "              style=\"display:none;\">\n",
              "        \n",
              "  <svg xmlns=\"http://www.w3.org/2000/svg\" height=\"24px\"viewBox=\"0 0 24 24\"\n",
              "       width=\"24px\">\n",
              "    <path d=\"M0 0h24v24H0V0z\" fill=\"none\"/>\n",
              "    <path d=\"M18.56 5.44l.94 2.06.94-2.06 2.06-.94-2.06-.94-.94-2.06-.94 2.06-2.06.94zm-11 1L8.5 8.5l.94-2.06 2.06-.94-2.06-.94L8.5 2.5l-.94 2.06-2.06.94zm10 10l.94 2.06.94-2.06 2.06-.94-2.06-.94-.94-2.06-.94 2.06-2.06.94z\"/><path d=\"M17.41 7.96l-1.37-1.37c-.4-.4-.92-.59-1.43-.59-.52 0-1.04.2-1.43.59L10.3 9.45l-7.72 7.72c-.78.78-.78 2.05 0 2.83L4 21.41c.39.39.9.59 1.41.59.51 0 1.02-.2 1.41-.59l7.78-7.78 2.81-2.81c.8-.78.8-2.07 0-2.86zM5.41 20L4 18.59l7.72-7.72 1.47 1.35L5.41 20z\"/>\n",
              "  </svg>\n",
              "      </button>\n",
              "      \n",
              "  <style>\n",
              "    .colab-df-container {\n",
              "      display:flex;\n",
              "      flex-wrap:wrap;\n",
              "      gap: 12px;\n",
              "    }\n",
              "\n",
              "    .colab-df-convert {\n",
              "      background-color: #E8F0FE;\n",
              "      border: none;\n",
              "      border-radius: 50%;\n",
              "      cursor: pointer;\n",
              "      display: none;\n",
              "      fill: #1967D2;\n",
              "      height: 32px;\n",
              "      padding: 0 0 0 0;\n",
              "      width: 32px;\n",
              "    }\n",
              "\n",
              "    .colab-df-convert:hover {\n",
              "      background-color: #E2EBFA;\n",
              "      box-shadow: 0px 1px 2px rgba(60, 64, 67, 0.3), 0px 1px 3px 1px rgba(60, 64, 67, 0.15);\n",
              "      fill: #174EA6;\n",
              "    }\n",
              "\n",
              "    [theme=dark] .colab-df-convert {\n",
              "      background-color: #3B4455;\n",
              "      fill: #D2E3FC;\n",
              "    }\n",
              "\n",
              "    [theme=dark] .colab-df-convert:hover {\n",
              "      background-color: #434B5C;\n",
              "      box-shadow: 0px 1px 3px 1px rgba(0, 0, 0, 0.15);\n",
              "      filter: drop-shadow(0px 1px 2px rgba(0, 0, 0, 0.3));\n",
              "      fill: #FFFFFF;\n",
              "    }\n",
              "  </style>\n",
              "\n",
              "      <script>\n",
              "        const buttonEl =\n",
              "          document.querySelector('#df-5ab890ec-cbe1-471e-8f92-3d1fb59981cd button.colab-df-convert');\n",
              "        buttonEl.style.display =\n",
              "          google.colab.kernel.accessAllowed ? 'block' : 'none';\n",
              "\n",
              "        async function convertToInteractive(key) {\n",
              "          const element = document.querySelector('#df-5ab890ec-cbe1-471e-8f92-3d1fb59981cd');\n",
              "          const dataTable =\n",
              "            await google.colab.kernel.invokeFunction('convertToInteractive',\n",
              "                                                     [key], {});\n",
              "          if (!dataTable) return;\n",
              "\n",
              "          const docLinkHtml = 'Like what you see? Visit the ' +\n",
              "            '<a target=\"_blank\" href=https://colab.research.google.com/notebooks/data_table.ipynb>data table notebook</a>'\n",
              "            + ' to learn more about interactive tables.';\n",
              "          element.innerHTML = '';\n",
              "          dataTable['output_type'] = 'display_data';\n",
              "          await google.colab.output.renderOutput(dataTable, element);\n",
              "          const docLink = document.createElement('div');\n",
              "          docLink.innerHTML = docLinkHtml;\n",
              "          element.appendChild(docLink);\n",
              "        }\n",
              "      </script>\n",
              "    </div>\n",
              "  </div>\n",
              "  "
            ]
          },
          "metadata": {},
          "execution_count": 24
        }
      ]
    },
    {
      "cell_type": "code",
      "source": [
        "df.shape"
      ],
      "metadata": {
        "colab": {
          "base_uri": "https://localhost:8080/"
        },
        "id": "8ydvXDboVfiw",
        "outputId": "636b8b64-385e-4331-c6c1-8c079985e40e"
      },
      "execution_count": 25,
      "outputs": [
        {
          "output_type": "execute_result",
          "data": {
            "text/plain": [
              "(4158, 11)"
            ]
          },
          "metadata": {},
          "execution_count": 25
        }
      ]
    },
    {
      "cell_type": "code",
      "source": [
        "df.columns"
      ],
      "metadata": {
        "colab": {
          "base_uri": "https://localhost:8080/"
        },
        "id": "8S6vlsZYV7Dk",
        "outputId": "4647905b-9a9f-4cf6-f952-c6a81716b87b"
      },
      "execution_count": 26,
      "outputs": [
        {
          "output_type": "execute_result",
          "data": {
            "text/plain": [
              "Index(['duration', 'director_facebook_likes', 'actor_3_facebook_likes',\n",
              "       'actor_1_facebook_likes', 'genres', 'facenumber_in_poster',\n",
              "       'content_rating', 'budget', 'actor_2_facebook_likes', 'imdb_score',\n",
              "       'movie_facebook_likes'],\n",
              "      dtype='object')"
            ]
          },
          "metadata": {},
          "execution_count": 26
        }
      ]
    },
    {
      "cell_type": "markdown",
      "source": [
        "## Content Rating Column"
      ],
      "metadata": {
        "id": "XQGevonbUtT3"
      }
    },
    {
      "cell_type": "code",
      "source": [
        "df = pd.get_dummies(data = df, columns = ['content_rating'] , prefix = ['content_rating'] , drop_first = True)"
      ],
      "metadata": {
        "id": "-P2IQsqRUwkp"
      },
      "execution_count": 27,
      "outputs": []
    },
    {
      "cell_type": "markdown",
      "source": [
        "## **Split genres to Columns (One-Hot)**"
      ],
      "metadata": {
        "id": "bH5Gnigs4sYW"
      }
    },
    {
      "cell_type": "code",
      "source": [
        "df['genres'] = df['genres'].str.replace('|', ',')"
      ],
      "metadata": {
        "colab": {
          "base_uri": "https://localhost:8080/"
        },
        "id": "CrUT8kissIcA",
        "outputId": "2a42a720-c8b2-4ad2-db7d-100a354b9bb5"
      },
      "execution_count": 28,
      "outputs": [
        {
          "output_type": "stream",
          "name": "stderr",
          "text": [
            "/usr/local/lib/python3.7/dist-packages/ipykernel_launcher.py:1: FutureWarning: The default value of regex will change from True to False in a future version. In addition, single character regular expressions will *not* be treated as literal strings when regex=True.\n",
            "  \"\"\"Entry point for launching an IPython kernel.\n"
          ]
        }
      ]
    },
    {
      "cell_type": "code",
      "source": [
        "from sklearn.preprocessing import MultiLabelBinarizer"
      ],
      "metadata": {
        "id": "sQr-Sacg4rsL"
      },
      "execution_count": 29,
      "outputs": []
    },
    {
      "cell_type": "code",
      "source": [
        "mlb = MultiLabelBinarizer()"
      ],
      "metadata": {
        "id": "yXHfeh8F47oC"
      },
      "execution_count": 30,
      "outputs": []
    },
    {
      "cell_type": "code",
      "source": [
        "df1 = df.join(pd.DataFrame(mlb.fit_transform(df['genres'].str.split(',')),\n",
        "                           columns=mlb.classes_))"
      ],
      "metadata": {
        "id": "Cn8GoqX953ta"
      },
      "execution_count": 31,
      "outputs": []
    },
    {
      "cell_type": "code",
      "source": [
        "df1.columns"
      ],
      "metadata": {
        "colab": {
          "base_uri": "https://localhost:8080/"
        },
        "id": "aFSDf9bm58IR",
        "outputId": "ef749727-6353-4c22-f0ed-12705a57c12b"
      },
      "execution_count": 32,
      "outputs": [
        {
          "output_type": "execute_result",
          "data": {
            "text/plain": [
              "Index(['duration', 'director_facebook_likes', 'actor_3_facebook_likes',\n",
              "       'actor_1_facebook_likes', 'genres', 'facenumber_in_poster', 'budget',\n",
              "       'actor_2_facebook_likes', 'imdb_score', 'movie_facebook_likes',\n",
              "       'content_rating_G', 'content_rating_GP', 'content_rating_M',\n",
              "       'content_rating_NC-17', 'content_rating_Not Rated', 'content_rating_PG',\n",
              "       'content_rating_PG-13', 'content_rating_Passed', 'content_rating_R',\n",
              "       'content_rating_TV-14', 'content_rating_TV-G', 'content_rating_TV-PG',\n",
              "       'content_rating_Unrated', 'content_rating_X', 'Action', 'Adventure',\n",
              "       'Animation', 'Biography', 'Comedy', 'Crime', 'Documentary', 'Drama',\n",
              "       'Family', 'Fantasy', 'Film-Noir', 'History', 'Horror', 'Music',\n",
              "       'Musical', 'Mystery', 'Romance', 'Sci-Fi', 'Sport', 'Thriller', 'War',\n",
              "       'Western'],\n",
              "      dtype='object')"
            ]
          },
          "metadata": {},
          "execution_count": 32
        }
      ]
    },
    {
      "cell_type": "code",
      "source": [
        "for g in mlb.classes_:\n",
        "  df1[g].fillna(\"0.0\", inplace = True) "
      ],
      "metadata": {
        "id": "OwAb-DFA6Gbp"
      },
      "execution_count": 33,
      "outputs": []
    },
    {
      "cell_type": "code",
      "source": [
        "df1.dtypes"
      ],
      "metadata": {
        "colab": {
          "base_uri": "https://localhost:8080/"
        },
        "id": "LeAixwv66-SN",
        "outputId": "19eee73c-62e0-4d71-bff0-7a12a4f13d2f"
      },
      "execution_count": 34,
      "outputs": [
        {
          "output_type": "execute_result",
          "data": {
            "text/plain": [
              "duration                    float64\n",
              "director_facebook_likes     float64\n",
              "actor_3_facebook_likes      float64\n",
              "actor_1_facebook_likes      float64\n",
              "genres                       object\n",
              "facenumber_in_poster        float64\n",
              "budget                      float64\n",
              "actor_2_facebook_likes      float64\n",
              "imdb_score                  float64\n",
              "movie_facebook_likes          int64\n",
              "content_rating_G              uint8\n",
              "content_rating_GP             uint8\n",
              "content_rating_M              uint8\n",
              "content_rating_NC-17          uint8\n",
              "content_rating_Not Rated      uint8\n",
              "content_rating_PG             uint8\n",
              "content_rating_PG-13          uint8\n",
              "content_rating_Passed         uint8\n",
              "content_rating_R              uint8\n",
              "content_rating_TV-14          uint8\n",
              "content_rating_TV-G           uint8\n",
              "content_rating_TV-PG          uint8\n",
              "content_rating_Unrated        uint8\n",
              "content_rating_X              uint8\n",
              "Action                       object\n",
              "Adventure                    object\n",
              "Animation                    object\n",
              "Biography                    object\n",
              "Comedy                       object\n",
              "Crime                        object\n",
              "Documentary                  object\n",
              "Drama                        object\n",
              "Family                       object\n",
              "Fantasy                      object\n",
              "Film-Noir                    object\n",
              "History                      object\n",
              "Horror                       object\n",
              "Music                        object\n",
              "Musical                      object\n",
              "Mystery                      object\n",
              "Romance                      object\n",
              "Sci-Fi                       object\n",
              "Sport                        object\n",
              "Thriller                     object\n",
              "War                          object\n",
              "Western                      object\n",
              "dtype: object"
            ]
          },
          "metadata": {},
          "execution_count": 34
        }
      ]
    },
    {
      "cell_type": "code",
      "source": [
        "df = df1"
      ],
      "metadata": {
        "id": "FbVgNa_U9qhc"
      },
      "execution_count": 35,
      "outputs": []
    },
    {
      "cell_type": "code",
      "source": [
        "df.drop('genres',axis=1,inplace=True)"
      ],
      "metadata": {
        "id": "fCJtEX4C-Jb_"
      },
      "execution_count": 36,
      "outputs": []
    },
    {
      "cell_type": "markdown",
      "source": [
        "## Binning IMDb Rating"
      ],
      "metadata": {
        "id": "rDPo6ZC2aYss"
      }
    },
    {
      "cell_type": "code",
      "source": [
        "df[\"imdb_binned_score\"]=pd.cut(df['imdb_score'], bins=[0,4,6,8,10], right=True, labels=False)+1"
      ],
      "metadata": {
        "id": "Kd-NzyIXaYMF"
      },
      "execution_count": 37,
      "outputs": []
    },
    {
      "cell_type": "code",
      "source": [
        "df.drop('imdb_score',axis=1,inplace=True)"
      ],
      "metadata": {
        "id": "8oae2eqVag9M"
      },
      "execution_count": 38,
      "outputs": []
    },
    {
      "cell_type": "markdown",
      "source": [
        "# Preprocessing"
      ],
      "metadata": {
        "id": "_Sv04x9nY9P1"
      }
    },
    {
      "cell_type": "code",
      "source": [
        "df.columns"
      ],
      "metadata": {
        "colab": {
          "base_uri": "https://localhost:8080/"
        },
        "id": "DkQis0OMDGmi",
        "outputId": "97aee647-e497-410c-93c5-13a569ac3955"
      },
      "execution_count": 39,
      "outputs": [
        {
          "output_type": "execute_result",
          "data": {
            "text/plain": [
              "Index(['duration', 'director_facebook_likes', 'actor_3_facebook_likes',\n",
              "       'actor_1_facebook_likes', 'facenumber_in_poster', 'budget',\n",
              "       'actor_2_facebook_likes', 'movie_facebook_likes', 'content_rating_G',\n",
              "       'content_rating_GP', 'content_rating_M', 'content_rating_NC-17',\n",
              "       'content_rating_Not Rated', 'content_rating_PG', 'content_rating_PG-13',\n",
              "       'content_rating_Passed', 'content_rating_R', 'content_rating_TV-14',\n",
              "       'content_rating_TV-G', 'content_rating_TV-PG', 'content_rating_Unrated',\n",
              "       'content_rating_X', 'Action', 'Adventure', 'Animation', 'Biography',\n",
              "       'Comedy', 'Crime', 'Documentary', 'Drama', 'Family', 'Fantasy',\n",
              "       'Film-Noir', 'History', 'Horror', 'Music', 'Musical', 'Mystery',\n",
              "       'Romance', 'Sci-Fi', 'Sport', 'Thriller', 'War', 'Western',\n",
              "       'imdb_binned_score'],\n",
              "      dtype='object')"
            ]
          },
          "metadata": {},
          "execution_count": 39
        }
      ]
    },
    {
      "cell_type": "code",
      "source": [
        "X=pd.DataFrame(columns=['duration', 'director_facebook_likes', 'actor_3_facebook_likes',\n",
        "       'actor_1_facebook_likes', 'facenumber_in_poster', 'budget',\n",
        "       'actor_2_facebook_likes', 'movie_facebook_likes',\n",
        "       'content_rating_G', 'content_rating_GP', 'content_rating_M',\n",
        "       'content_rating_NC-17', 'content_rating_Not Rated', 'content_rating_PG',\n",
        "       'content_rating_PG-13', 'content_rating_Passed', 'content_rating_R',\n",
        "       'content_rating_TV-14', 'content_rating_TV-G', 'content_rating_TV-PG',\n",
        "       'content_rating_Unrated', 'content_rating_X', 'Action', 'Adventure',\n",
        "       'Animation', 'Biography', 'Comedy', 'Crime', 'Documentary', 'Drama',\n",
        "       'Family', 'Fantasy', 'Film-Noir', 'History', 'Horror', 'Music',\n",
        "       'Musical', 'Mystery', 'Romance', 'Sci-Fi', 'Sport', 'Thriller', 'War',\n",
        "       'Western'] ,data=df)\n",
        "y=pd.DataFrame(columns=['imdb_binned_score'],data=df)"
      ],
      "metadata": {
        "id": "_8_t3kZrWuAH"
      },
      "execution_count": 40,
      "outputs": []
    },
    {
      "cell_type": "markdown",
      "source": [
        "## Label Encoder"
      ],
      "metadata": {
        "id": "do0ay5fCYmbJ"
      }
    },
    {
      "cell_type": "code",
      "source": [
        "from sklearn import preprocessing"
      ],
      "metadata": {
        "id": "StCzTcCSYq-q"
      },
      "execution_count": 41,
      "outputs": []
    },
    {
      "cell_type": "code",
      "source": [
        "lab = preprocessing.LabelEncoder()"
      ],
      "metadata": {
        "id": "ajHocATGYpVi"
      },
      "execution_count": 42,
      "outputs": []
    },
    {
      "cell_type": "code",
      "source": [
        "y_transformed = lab.fit_transform(y)"
      ],
      "metadata": {
        "colab": {
          "base_uri": "https://localhost:8080/"
        },
        "id": "69AVCmmGYwFU",
        "outputId": "bce44e3c-bf97-4b01-d98b-a64497c1b7cd"
      },
      "execution_count": 43,
      "outputs": [
        {
          "output_type": "stream",
          "name": "stderr",
          "text": [
            "/usr/local/lib/python3.7/dist-packages/sklearn/preprocessing/_label.py:115: DataConversionWarning: A column-vector y was passed when a 1d array was expected. Please change the shape of y to (n_samples, ), for example using ravel().\n",
            "  y = column_or_1d(y, warn=True)\n"
          ]
        }
      ]
    },
    {
      "cell_type": "markdown",
      "source": [
        "## Splitting the data into training and test data"
      ],
      "metadata": {
        "id": "iGtPxQ6ZjE5w"
      }
    },
    {
      "cell_type": "code",
      "source": [
        "from sklearn.model_selection import train_test_split\n",
        "X_train, X_test, y_train, y_test=train_test_split(X,y,test_size=0.3,random_state=100)"
      ],
      "metadata": {
        "id": "5N7OUKQsvJ6E"
      },
      "execution_count": 44,
      "outputs": []
    },
    {
      "cell_type": "markdown",
      "source": [
        "# Feature scaling"
      ],
      "metadata": {
        "id": "8SWiYM2uXLjm"
      }
    },
    {
      "cell_type": "code",
      "source": [
        "from sklearn.preprocessing import StandardScaler"
      ],
      "metadata": {
        "id": "_LjHue_SXMkt"
      },
      "execution_count": 45,
      "outputs": []
    },
    {
      "cell_type": "code",
      "source": [
        "sc_X = StandardScaler()\n",
        "X_train = sc_X.fit_transform(X_train)\n",
        "X_test = sc_X.transform(X_test)"
      ],
      "metadata": {
        "id": "JdAx5EPoXOlf"
      },
      "execution_count": 46,
      "outputs": []
    },
    {
      "cell_type": "markdown",
      "source": [
        "# Model"
      ],
      "metadata": {
        "id": "OLE1EsV2JiSX"
      }
    },
    {
      "cell_type": "code",
      "source": [
        "from sklearn import metrics"
      ],
      "metadata": {
        "id": "tN05VrcMZkcr"
      },
      "execution_count": 47,
      "outputs": []
    },
    {
      "cell_type": "markdown",
      "source": [
        "## Logistic Regression"
      ],
      "metadata": {
        "id": "R1vIgwhyXXlO"
      }
    },
    {
      "cell_type": "code",
      "source": [
        "from sklearn.linear_model import LogisticRegression"
      ],
      "metadata": {
        "id": "-1QiKDGcXUpl"
      },
      "execution_count": 80,
      "outputs": []
    },
    {
      "cell_type": "code",
      "source": [
        "logistic = LogisticRegression()\n",
        "logistic.fit(X_train, y_train)\n",
        "y_pred = logistic.predict(X_test)"
      ],
      "metadata": {
        "colab": {
          "base_uri": "https://localhost:8080/"
        },
        "id": "Kc9j0EN_XWg2",
        "outputId": "2e13cb02-ff5d-4f69-cdfb-5749fce02afc"
      },
      "execution_count": 81,
      "outputs": [
        {
          "output_type": "stream",
          "name": "stderr",
          "text": [
            "/usr/local/lib/python3.7/dist-packages/sklearn/utils/validation.py:993: DataConversionWarning: A column-vector y was passed when a 1d array was expected. Please change the shape of y to (n_samples, ), for example using ravel().\n",
            "  y = column_or_1d(y, warn=True)\n",
            "/usr/local/lib/python3.7/dist-packages/sklearn/linear_model/_logistic.py:818: ConvergenceWarning: lbfgs failed to converge (status=1):\n",
            "STOP: TOTAL NO. of ITERATIONS REACHED LIMIT.\n",
            "\n",
            "Increase the number of iterations (max_iter) or scale the data as shown in:\n",
            "    https://scikit-learn.org/stable/modules/preprocessing.html\n",
            "Please also refer to the documentation for alternative solver options:\n",
            "    https://scikit-learn.org/stable/modules/linear_model.html#logistic-regression\n",
            "  extra_warning_msg=_LOGISTIC_SOLVER_CONVERGENCE_MSG,\n"
          ]
        }
      ]
    },
    {
      "cell_type": "code",
      "source": [
        "y_pred = logistic.predict(X_test)"
      ],
      "metadata": {
        "id": "23Rt7m36Zbuf"
      },
      "execution_count": 82,
      "outputs": []
    },
    {
      "cell_type": "code",
      "source": [
        "matrix = metrics.confusion_matrix(y_test, y_pred)"
      ],
      "metadata": {
        "id": "UXi7p1zzZtLc"
      },
      "execution_count": 83,
      "outputs": []
    },
    {
      "cell_type": "code",
      "source": [
        "print(matrix)"
      ],
      "metadata": {
        "colab": {
          "base_uri": "https://localhost:8080/"
        },
        "id": "vIKHBz1cZxNE",
        "outputId": "306e5818-5467-4495-d811-6a09b74341c7"
      },
      "execution_count": 84,
      "outputs": [
        {
          "output_type": "stream",
          "name": "stdout",
          "text": [
            "[[  0  14  21   0]\n",
            " [  1  90 274   1]\n",
            " [  0  59 719   5]\n",
            " [  0   0  59   5]]\n"
          ]
        }
      ]
    },
    {
      "cell_type": "code",
      "source": [
        "print(\"Accuracy:\",metrics.accuracy_score(y_test, y_pred))"
      ],
      "metadata": {
        "colab": {
          "base_uri": "https://localhost:8080/"
        },
        "id": "ZqXdc7JWZyTy",
        "outputId": "f6347728-9d91-48c7-d042-280dfd974228"
      },
      "execution_count": 85,
      "outputs": [
        {
          "output_type": "stream",
          "name": "stdout",
          "text": [
            "Accuracy: 0.6522435897435898\n"
          ]
        }
      ]
    },
    {
      "cell_type": "markdown",
      "source": [
        "## KNN"
      ],
      "metadata": {
        "id": "_lX_BKq4Z5fA"
      }
    },
    {
      "cell_type": "code",
      "source": [
        "from sklearn.neighbors import KNeighborsClassifier"
      ],
      "metadata": {
        "id": "ZMfP51AYbksd"
      },
      "execution_count": 73,
      "outputs": []
    },
    {
      "cell_type": "code",
      "source": [
        "knn = KNeighborsClassifier (n_neighbors=45)\n",
        "knn.fit(X_train, y_train)"
      ],
      "metadata": {
        "colab": {
          "base_uri": "https://localhost:8080/"
        },
        "id": "wO3P58qJbmQh",
        "outputId": "f015731e-7e9f-4066-bc15-7760800cd2d1"
      },
      "execution_count": 77,
      "outputs": [
        {
          "output_type": "stream",
          "name": "stderr",
          "text": [
            "/usr/local/lib/python3.7/dist-packages/sklearn/neighbors/_classification.py:198: DataConversionWarning: A column-vector y was passed when a 1d array was expected. Please change the shape of y to (n_samples,), for example using ravel().\n",
            "  return self._fit(X, y)\n"
          ]
        },
        {
          "output_type": "execute_result",
          "data": {
            "text/plain": [
              "KNeighborsClassifier(n_neighbors=45)"
            ]
          },
          "metadata": {},
          "execution_count": 77
        }
      ]
    },
    {
      "cell_type": "code",
      "source": [
        "knn_pred = knn.predict(X_test)"
      ],
      "metadata": {
        "id": "gdDLvWgObvby"
      },
      "execution_count": 78,
      "outputs": []
    },
    {
      "cell_type": "code",
      "source": [
        "matrix = metrics.confusion_matrix(y_test, knn_pred)\n",
        "print(matrix)\n",
        "print(\"Accuracy:\",metrics.accuracy_score(y_test, knn_pred))"
      ],
      "metadata": {
        "colab": {
          "base_uri": "https://localhost:8080/"
        },
        "id": "uBvEi_QbbwxP",
        "outputId": "42459caa-5216-43e8-9dad-20ef3bfc44f6"
      },
      "execution_count": 79,
      "outputs": [
        {
          "output_type": "stream",
          "name": "stdout",
          "text": [
            "[[  0   3  32   0]\n",
            " [  0  22 344   0]\n",
            " [  0  18 765   0]\n",
            " [  0   0  64   0]]\n",
            "Accuracy: 0.6306089743589743\n"
          ]
        }
      ]
    },
    {
      "cell_type": "markdown",
      "source": [
        "## SVC"
      ],
      "metadata": {
        "id": "xqPzCLudb7SR"
      }
    },
    {
      "cell_type": "code",
      "source": [
        "from sklearn.svm import SVC"
      ],
      "metadata": {
        "id": "GtiAesOzb0Wt"
      },
      "execution_count": 86,
      "outputs": []
    },
    {
      "cell_type": "code",
      "source": [
        "svc = SVC(kernel = 'sigmoid')"
      ],
      "metadata": {
        "id": "5zqyGqYxb-MX"
      },
      "execution_count": 87,
      "outputs": []
    },
    {
      "cell_type": "code",
      "source": [
        "svc.fit(X_train, y_train)"
      ],
      "metadata": {
        "colab": {
          "base_uri": "https://localhost:8080/"
        },
        "id": "KN5IRvfJcAQV",
        "outputId": "b48740c6-881a-42b6-8707-1e9f7d915631"
      },
      "execution_count": 88,
      "outputs": [
        {
          "output_type": "stream",
          "name": "stderr",
          "text": [
            "/usr/local/lib/python3.7/dist-packages/sklearn/utils/validation.py:993: DataConversionWarning: A column-vector y was passed when a 1d array was expected. Please change the shape of y to (n_samples, ), for example using ravel().\n",
            "  y = column_or_1d(y, warn=True)\n"
          ]
        },
        {
          "output_type": "execute_result",
          "data": {
            "text/plain": [
              "SVC(kernel='sigmoid')"
            ]
          },
          "metadata": {},
          "execution_count": 88
        }
      ]
    },
    {
      "cell_type": "code",
      "source": [
        "svc_pred = svc.predict(X_test)"
      ],
      "metadata": {
        "id": "JGJy8OO5cBjl"
      },
      "execution_count": 89,
      "outputs": []
    },
    {
      "cell_type": "code",
      "source": [
        "matrix = metrics.confusion_matrix(y_test, svc_pred)\n",
        "print(matrix)\n",
        "print(\"Accuracy:\",metrics.accuracy_score(y_test, svc_pred))"
      ],
      "metadata": {
        "colab": {
          "base_uri": "https://localhost:8080/"
        },
        "id": "UvnUzizXcC9Q",
        "outputId": "0d45f3cb-f421-4e99-db64-ba21a3715400"
      },
      "execution_count": 90,
      "outputs": [
        {
          "output_type": "stream",
          "name": "stdout",
          "text": [
            "[[  0   7  28   0]\n",
            " [  0  44 322   0]\n",
            " [  0  51 730   2]\n",
            " [  0   3  60   1]]\n",
            "Accuracy: 0.6209935897435898\n"
          ]
        }
      ]
    },
    {
      "cell_type": "markdown",
      "source": [
        "## Naive Bayes"
      ],
      "metadata": {
        "id": "zcPEKYgvcG3T"
      }
    },
    {
      "cell_type": "code",
      "source": [
        "from sklearn.naive_bayes import GaussianNB"
      ],
      "metadata": {
        "id": "nKOthzpccKBM"
      },
      "execution_count": 91,
      "outputs": []
    },
    {
      "cell_type": "code",
      "source": [
        "nb = GaussianNB()"
      ],
      "metadata": {
        "id": "XTRKFWLicLtb"
      },
      "execution_count": 92,
      "outputs": []
    },
    {
      "cell_type": "code",
      "source": [
        "nb.fit(X_train, y_train)"
      ],
      "metadata": {
        "colab": {
          "base_uri": "https://localhost:8080/"
        },
        "id": "qD23DuLAcNC-",
        "outputId": "30ec73f0-6944-4c7a-8abc-8a2623b793dc"
      },
      "execution_count": 94,
      "outputs": [
        {
          "output_type": "stream",
          "name": "stderr",
          "text": [
            "/usr/local/lib/python3.7/dist-packages/sklearn/utils/validation.py:993: DataConversionWarning: A column-vector y was passed when a 1d array was expected. Please change the shape of y to (n_samples, ), for example using ravel().\n",
            "  y = column_or_1d(y, warn=True)\n"
          ]
        },
        {
          "output_type": "execute_result",
          "data": {
            "text/plain": [
              "GaussianNB()"
            ]
          },
          "metadata": {},
          "execution_count": 94
        }
      ]
    },
    {
      "cell_type": "code",
      "source": [
        "nb_pred = nb.predict(X_test)"
      ],
      "metadata": {
        "id": "wJg45dZFcOdB"
      },
      "execution_count": 95,
      "outputs": []
    },
    {
      "cell_type": "code",
      "source": [
        "matrix = metrics.confusion_matrix(y_test, nb_pred)\n",
        "print(cnf_matrix)\n",
        "print(\"Accuracy:\",metrics.accuracy_score(y_test, nb_pred))"
      ],
      "metadata": {
        "colab": {
          "base_uri": "https://localhost:8080/"
        },
        "id": "H0U9wuR_cP3S",
        "outputId": "72dc7c65-406e-4578-a105-38e3345e8d6e"
      },
      "execution_count": 96,
      "outputs": [
        {
          "output_type": "stream",
          "name": "stdout",
          "text": [
            "[[  0   3  32   0]\n",
            " [  0  22 344   0]\n",
            " [  0  18 765   0]\n",
            " [  0   0  64   0]]\n",
            "Accuracy: 0.07051282051282051\n"
          ]
        }
      ]
    },
    {
      "cell_type": "markdown",
      "source": [
        "## Decision Tree"
      ],
      "metadata": {
        "id": "Ge0K7yDIcSx8"
      }
    },
    {
      "cell_type": "code",
      "source": [
        "from sklearn.tree import DecisionTreeClassifier"
      ],
      "metadata": {
        "id": "nqldMyYNcUsM"
      },
      "execution_count": 97,
      "outputs": []
    },
    {
      "cell_type": "code",
      "source": [
        "dtree = DecisionTreeClassifier(criterion='gini')\n",
        "dtree.fit(X_train, y_train)"
      ],
      "metadata": {
        "colab": {
          "base_uri": "https://localhost:8080/"
        },
        "id": "ArgZzsracYIq",
        "outputId": "12b51759-43a9-4cc0-95f6-c1f874639fc0"
      },
      "execution_count": 98,
      "outputs": [
        {
          "output_type": "execute_result",
          "data": {
            "text/plain": [
              "DecisionTreeClassifier()"
            ]
          },
          "metadata": {},
          "execution_count": 98
        }
      ]
    },
    {
      "cell_type": "code",
      "source": [
        "dtree_pred = dtree.predict(X_test)"
      ],
      "metadata": {
        "id": "M7x3KMo1cknH"
      },
      "execution_count": 99,
      "outputs": []
    },
    {
      "cell_type": "code",
      "source": [
        "matrix = metrics.confusion_matrix(y_test, dtree_pred)\n",
        "print(matrix)\n",
        "print(\"Accuracy:\",metrics.accuracy_score(y_test, dtree_pred))"
      ],
      "metadata": {
        "colab": {
          "base_uri": "https://localhost:8080/"
        },
        "id": "0a73EQF3cnD2",
        "outputId": "46a282f5-504c-463c-a681-848ffbdbfb23"
      },
      "execution_count": 101,
      "outputs": [
        {
          "output_type": "stream",
          "name": "stdout",
          "text": [
            "[[  3  10  21   1]\n",
            " [ 17 149 196   4]\n",
            " [ 21 183 538  41]\n",
            " [  1   8  39  16]]\n",
            "Accuracy: 0.5657051282051282\n"
          ]
        }
      ]
    },
    {
      "cell_type": "markdown",
      "source": [
        "## Random Forest"
      ],
      "metadata": {
        "id": "ugCVpljRco31"
      }
    },
    {
      "cell_type": "code",
      "source": [
        "from sklearn.ensemble import RandomForestClassifier"
      ],
      "metadata": {
        "id": "0luCEKKKcrPi"
      },
      "execution_count": 102,
      "outputs": []
    },
    {
      "cell_type": "code",
      "source": [
        "rainforest = RandomForestClassifier(n_estimators = 200)"
      ],
      "metadata": {
        "id": "xOzHR_FIctPf"
      },
      "execution_count": 103,
      "outputs": []
    },
    {
      "cell_type": "code",
      "source": [
        "rainforest.fit(X_train, np.ravel(y_train,order='C'))"
      ],
      "metadata": {
        "colab": {
          "base_uri": "https://localhost:8080/"
        },
        "id": "9jNLq8n0cu8a",
        "outputId": "1e6695e5-a41a-4723-a362-ee0f40564a76"
      },
      "execution_count": 104,
      "outputs": [
        {
          "output_type": "execute_result",
          "data": {
            "text/plain": [
              "RandomForestClassifier(n_estimators=200)"
            ]
          },
          "metadata": {},
          "execution_count": 104
        }
      ]
    },
    {
      "cell_type": "code",
      "source": [
        "rainforest_pred = rainforest.predict(X_test)"
      ],
      "metadata": {
        "id": "hkwBtN1fcxQy"
      },
      "execution_count": 105,
      "outputs": []
    },
    {
      "cell_type": "code",
      "source": [
        "matrix = metrics.confusion_matrix(y_test, rainforest_pred)\n",
        "print(matrix)\n",
        "print(\"Accuracy:\",metrics.accuracy_score(y_test, rainforest_pred))"
      ],
      "metadata": {
        "colab": {
          "base_uri": "https://localhost:8080/"
        },
        "id": "asl2_h7Gczsb",
        "outputId": "1a342dd0-edc2-40fb-f1ff-f01580b6ce60"
      },
      "execution_count": 106,
      "outputs": [
        {
          "output_type": "stream",
          "name": "stdout",
          "text": [
            "[[  0  16  19   0]\n",
            " [  1 122 243   0]\n",
            " [  0  64 719   0]\n",
            " [  0   0  64   0]]\n",
            "Accuracy: 0.6738782051282052\n"
          ]
        }
      ]
    },
    {
      "cell_type": "markdown",
      "source": [
        "## Bagging"
      ],
      "metadata": {
        "id": "SxX3qglOc2KL"
      }
    },
    {
      "cell_type": "code",
      "source": [
        "from sklearn.ensemble import BaggingClassifier"
      ],
      "metadata": {
        "id": "V01BSqlic7DF"
      },
      "execution_count": 107,
      "outputs": []
    },
    {
      "cell_type": "code",
      "source": [
        "new_df = df.pop(\"imdb_binned_score\")"
      ],
      "metadata": {
        "id": "nS0id3muc13r"
      },
      "execution_count": 108,
      "outputs": []
    },
    {
      "cell_type": "code",
      "source": [
        "bagging = BaggingClassifier(n_estimators=50, max_samples=.10 , oob_score=True)"
      ],
      "metadata": {
        "id": "h6jVc8Dqc860"
      },
      "execution_count": 109,
      "outputs": []
    },
    {
      "cell_type": "code",
      "source": [
        "bagging = bagging.fit(df, new_df)"
      ],
      "metadata": {
        "id": "9uOeox0Xc-U6"
      },
      "execution_count": 110,
      "outputs": []
    },
    {
      "cell_type": "code",
      "source": [
        "print(bagging.oob_score_)"
      ],
      "metadata": {
        "colab": {
          "base_uri": "https://localhost:8080/"
        },
        "id": "p7r8TjrkdAJ4",
        "outputId": "32d2022f-4a83-45c0-bf6c-a70cebe7e3b9"
      },
      "execution_count": 111,
      "outputs": [
        {
          "output_type": "stream",
          "name": "stdout",
          "text": [
            "0.6859066859066859\n"
          ]
        }
      ]
    },
    {
      "cell_type": "markdown",
      "source": [
        "## Gradient Boosting"
      ],
      "metadata": {
        "id": "eD9pupuOdFmO"
      }
    },
    {
      "cell_type": "code",
      "source": [
        "from sklearn.ensemble import GradientBoostingClassifier"
      ],
      "metadata": {
        "id": "_dptUUFXdQ-f"
      },
      "execution_count": 112,
      "outputs": []
    },
    {
      "cell_type": "code",
      "source": [
        "boosting = GradientBoostingClassifier(n_estimators = 50, learning_rate = 0.09, max_depth = 7)\n",
        "boosting = boosting.fit(X_train,np.ravel(y_train,order='C'))"
      ],
      "metadata": {
        "id": "QIeVqfBbdTa6"
      },
      "execution_count": 113,
      "outputs": []
    },
    {
      "cell_type": "code",
      "source": [
        "boosting_pred = boosting.predict(X_test)"
      ],
      "metadata": {
        "id": "qLFrUX2_dVVM"
      },
      "execution_count": 114,
      "outputs": []
    },
    {
      "cell_type": "code",
      "source": [
        "matrix = metrics.confusion_matrix(y_test, boosting_pred)\n",
        "print(matrix)\n",
        "print(\"Accuracy:\",metrics.accuracy_score(y_test, boosting_pred))"
      ],
      "metadata": {
        "colab": {
          "base_uri": "https://localhost:8080/"
        },
        "id": "SfsOuNjwdYhc",
        "outputId": "89a5b072-7bf9-4d91-88f8-5d5352610742"
      },
      "execution_count": 116,
      "outputs": [
        {
          "output_type": "stream",
          "name": "stdout",
          "text": [
            "[[  0  17  18   0]\n",
            " [  1 155 209   1]\n",
            " [  1 106 668   8]\n",
            " [  0   1  49  14]]\n",
            "Accuracy: 0.6706730769230769\n"
          ]
        }
      ]
    },
    {
      "cell_type": "markdown",
      "source": [
        "## Model Comparison"
      ],
      "metadata": {
        "id": "gt9DztsJdcpO"
      }
    },
    {
      "cell_type": "code",
      "source": [
        "from sklearn.metrics import classification_report"
      ],
      "metadata": {
        "id": "YC5e2InsdhwP"
      },
      "execution_count": 117,
      "outputs": []
    },
    {
      "cell_type": "code",
      "source": [
        "print('Logistic  Reports\\n',classification_report(y_test, y_pred))\n",
        "print('KNN Reports\\n',classification_report(y_test, knn_pred))\n",
        "print('SVC Reports\\n',classification_report(y_test, svc_pred))\n",
        "print('Naive BayesReports\\n',classification_report(y_test, nb_pred))\n",
        "print('Decision Tree Reports\\n',classification_report(y_test, dtree_pred))\n",
        "print('Random Forests Reports\\n',classification_report(y_test, rainforest_pred))\n",
        "print('Bagging Clasifier',bagging.oob_score_) \n",
        "print('Gradient Boosting',classification_report(y_test, boosting_pred))"
      ],
      "metadata": {
        "colab": {
          "base_uri": "https://localhost:8080/"
        },
        "id": "FcHMbXJ2djLU",
        "outputId": "db16128a-8501-4fd8-d580-7cd17aa49ec5"
      },
      "execution_count": 118,
      "outputs": [
        {
          "output_type": "stream",
          "name": "stdout",
          "text": [
            "Logistic  Reports\n",
            "               precision    recall  f1-score   support\n",
            "\n",
            "           1       0.00      0.00      0.00        35\n",
            "           2       0.55      0.25      0.34       366\n",
            "           3       0.67      0.92      0.77       783\n",
            "           4       0.45      0.08      0.13        64\n",
            "\n",
            "    accuracy                           0.65      1248\n",
            "   macro avg       0.42      0.31      0.31      1248\n",
            "weighted avg       0.61      0.65      0.59      1248\n",
            "\n",
            "KNN Reports\n",
            "               precision    recall  f1-score   support\n",
            "\n",
            "           1       0.00      0.00      0.00        35\n",
            "           2       0.51      0.06      0.11       366\n",
            "           3       0.63      0.98      0.77       783\n",
            "           4       0.00      0.00      0.00        64\n",
            "\n",
            "    accuracy                           0.63      1248\n",
            "   macro avg       0.29      0.26      0.22      1248\n",
            "weighted avg       0.55      0.63      0.51      1248\n",
            "\n",
            "SVC Reports\n",
            "               precision    recall  f1-score   support\n",
            "\n",
            "           1       0.00      0.00      0.00        35\n",
            "           2       0.42      0.12      0.19       366\n",
            "           3       0.64      0.93      0.76       783\n",
            "           4       0.33      0.02      0.03        64\n",
            "\n",
            "    accuracy                           0.62      1248\n",
            "   macro avg       0.35      0.27      0.24      1248\n",
            "weighted avg       0.54      0.62      0.53      1248\n",
            "\n",
            "Naive BayesReports\n",
            "               precision    recall  f1-score   support\n",
            "\n",
            "           1       0.03      0.89      0.06        35\n",
            "           2       0.33      0.06      0.10       366\n",
            "           3       0.62      0.01      0.03       783\n",
            "           4       0.11      0.39      0.17        64\n",
            "\n",
            "    accuracy                           0.07      1248\n",
            "   macro avg       0.28      0.34      0.09      1248\n",
            "weighted avg       0.50      0.07      0.06      1248\n",
            "\n",
            "Decision Tree Reports\n",
            "               precision    recall  f1-score   support\n",
            "\n",
            "           1       0.07      0.09      0.08        35\n",
            "           2       0.43      0.41      0.42       366\n",
            "           3       0.68      0.69      0.68       783\n",
            "           4       0.26      0.25      0.25        64\n",
            "\n",
            "    accuracy                           0.57      1248\n",
            "   macro avg       0.36      0.36      0.36      1248\n",
            "weighted avg       0.57      0.57      0.57      1248\n",
            "\n",
            "Random Forests Reports\n",
            "               precision    recall  f1-score   support\n",
            "\n",
            "           1       0.00      0.00      0.00        35\n",
            "           2       0.60      0.33      0.43       366\n",
            "           3       0.69      0.92      0.79       783\n",
            "           4       0.00      0.00      0.00        64\n",
            "\n",
            "    accuracy                           0.67      1248\n",
            "   macro avg       0.32      0.31      0.30      1248\n",
            "weighted avg       0.61      0.67      0.62      1248\n",
            "\n",
            "Bagging Clasifier 0.6859066859066859\n",
            "Gradient Boosting               precision    recall  f1-score   support\n",
            "\n",
            "           1       0.00      0.00      0.00        35\n",
            "           2       0.56      0.42      0.48       366\n",
            "           3       0.71      0.85      0.77       783\n",
            "           4       0.61      0.22      0.32        64\n",
            "\n",
            "    accuracy                           0.67      1248\n",
            "   macro avg       0.47      0.37      0.39      1248\n",
            "weighted avg       0.64      0.67      0.64      1248\n",
            "\n"
          ]
        },
        {
          "output_type": "stream",
          "name": "stderr",
          "text": [
            "/usr/local/lib/python3.7/dist-packages/sklearn/metrics/_classification.py:1318: UndefinedMetricWarning: Precision and F-score are ill-defined and being set to 0.0 in labels with no predicted samples. Use `zero_division` parameter to control this behavior.\n",
            "  _warn_prf(average, modifier, msg_start, len(result))\n",
            "/usr/local/lib/python3.7/dist-packages/sklearn/metrics/_classification.py:1318: UndefinedMetricWarning: Precision and F-score are ill-defined and being set to 0.0 in labels with no predicted samples. Use `zero_division` parameter to control this behavior.\n",
            "  _warn_prf(average, modifier, msg_start, len(result))\n",
            "/usr/local/lib/python3.7/dist-packages/sklearn/metrics/_classification.py:1318: UndefinedMetricWarning: Precision and F-score are ill-defined and being set to 0.0 in labels with no predicted samples. Use `zero_division` parameter to control this behavior.\n",
            "  _warn_prf(average, modifier, msg_start, len(result))\n",
            "/usr/local/lib/python3.7/dist-packages/sklearn/metrics/_classification.py:1318: UndefinedMetricWarning: Precision and F-score are ill-defined and being set to 0.0 in labels with no predicted samples. Use `zero_division` parameter to control this behavior.\n",
            "  _warn_prf(average, modifier, msg_start, len(result))\n",
            "/usr/local/lib/python3.7/dist-packages/sklearn/metrics/_classification.py:1318: UndefinedMetricWarning: Precision and F-score are ill-defined and being set to 0.0 in labels with no predicted samples. Use `zero_division` parameter to control this behavior.\n",
            "  _warn_prf(average, modifier, msg_start, len(result))\n",
            "/usr/local/lib/python3.7/dist-packages/sklearn/metrics/_classification.py:1318: UndefinedMetricWarning: Precision and F-score are ill-defined and being set to 0.0 in labels with no predicted samples. Use `zero_division` parameter to control this behavior.\n",
            "  _warn_prf(average, modifier, msg_start, len(result))\n",
            "/usr/local/lib/python3.7/dist-packages/sklearn/metrics/_classification.py:1318: UndefinedMetricWarning: Precision and F-score are ill-defined and being set to 0.0 in labels with no predicted samples. Use `zero_division` parameter to control this behavior.\n",
            "  _warn_prf(average, modifier, msg_start, len(result))\n",
            "/usr/local/lib/python3.7/dist-packages/sklearn/metrics/_classification.py:1318: UndefinedMetricWarning: Precision and F-score are ill-defined and being set to 0.0 in labels with no predicted samples. Use `zero_division` parameter to control this behavior.\n",
            "  _warn_prf(average, modifier, msg_start, len(result))\n",
            "/usr/local/lib/python3.7/dist-packages/sklearn/metrics/_classification.py:1318: UndefinedMetricWarning: Precision and F-score are ill-defined and being set to 0.0 in labels with no predicted samples. Use `zero_division` parameter to control this behavior.\n",
            "  _warn_prf(average, modifier, msg_start, len(result))\n"
          ]
        }
      ]
    }
  ]
}